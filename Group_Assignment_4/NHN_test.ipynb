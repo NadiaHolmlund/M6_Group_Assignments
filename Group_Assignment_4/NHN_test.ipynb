{
  "nbformat": 4,
  "nbformat_minor": 0,
  "metadata": {
    "colab": {
      "provenance": [],
      "authorship_tag": "ABX9TyMG5d2GsiWJpIOnQti633PJ",
      "include_colab_link": true
    },
    "kernelspec": {
      "name": "python3",
      "display_name": "Python 3"
    },
    "language_info": {
      "name": "python"
    }
  },
  "cells": [
    {
      "cell_type": "markdown",
      "metadata": {
        "id": "view-in-github",
        "colab_type": "text"
      },
      "source": [
        "<a href=\"https://colab.research.google.com/github/NadiaHolmlund/M6_Group_Assignments/blob/main/Group_Assignment_4/NHN_test.ipynb\" target=\"_parent\"><img src=\"https://colab.research.google.com/assets/colab-badge.svg\" alt=\"Open In Colab\"/></a>"
      ]
    },
    {
      "cell_type": "markdown",
      "source": [
        "# Task"
      ],
      "metadata": {
        "id": "4GT11DvYmDOq"
      }
    },
    {
      "cell_type": "markdown",
      "source": [
        "Choose a previous project that involves a machine learning component and perform the following tasks:\n",
        "\n",
        "- Train a machine learning model using the data from your previous project. Select an appropriate machine learning model based on your data and problem.\n",
        "\n",
        "- Integrate MLflow for tracking and managing your machine learning experiments. Log hyperparameters, metrics, and artifacts of your experiments in MLflow. Save structured and unstructured information related to your trained model in SQLite within MLflow.\n",
        "\n",
        "- Develop a user-friendly interface for your ML app using Streamlit. Optionally, you can create a three-layer ML app (data, business, presentation) for a user-friendly interface to interact with the machine learning model.\n",
        "\n",
        "- Dockerize your ML app, ensuring that the SQLite database, MLflow, and the Streamlit or custom interface are all functioning correctly within the Docker image.\n",
        "\n",
        "- Upload your dockerized app to Docker Hub and provide instructions for running the app from the Docker Hub repository."
      ],
      "metadata": {
        "id": "44UGMPjymFwe"
      }
    },
    {
      "cell_type": "markdown",
      "source": [
        "# Imports"
      ],
      "metadata": {
        "id": "LBMfjHvEmFnj"
      }
    },
    {
      "cell_type": "code",
      "source": [
        "!pip install mlflow -q"
      ],
      "metadata": {
        "colab": {
          "base_uri": "https://localhost:8080/"
        },
        "id": "14_S2QAEmJPp",
        "outputId": "3ceea4c9-c070-45bc-d9a3-40f98338e7fd"
      },
      "execution_count": 8,
      "outputs": [
        {
          "output_type": "stream",
          "name": "stdout",
          "text": [
            "\u001b[2K     \u001b[90m━━━━━━━━━━━━━━━━━━━━━━━━━━━━━━━━━━━━━━━━\u001b[0m \u001b[32m17.7/17.7 MB\u001b[0m \u001b[31m69.4 MB/s\u001b[0m eta \u001b[36m0:00:00\u001b[0m\n",
            "\u001b[2K     \u001b[90m━━━━━━━━━━━━━━━━━━━━━━━━━━━━━━━━━━━━━━━━\u001b[0m \u001b[32m82.7/82.7 kB\u001b[0m \u001b[31m10.1 MB/s\u001b[0m eta \u001b[36m0:00:00\u001b[0m\n",
            "\u001b[?25h  Preparing metadata (setup.py) ... \u001b[?25l\u001b[?25hdone\n",
            "\u001b[2K     \u001b[90m━━━━━━━━━━━━━━━━━━━━━━━━━━━━━━━━━━━━━━\u001b[0m \u001b[32m212.9/212.9 kB\u001b[0m \u001b[31m21.4 MB/s\u001b[0m eta \u001b[36m0:00:00\u001b[0m\n",
            "\u001b[2K     \u001b[90m━━━━━━━━━━━━━━━━━━━━━━━━━━━━━━━━━━━━━━━━\u001b[0m \u001b[32m79.5/79.5 kB\u001b[0m \u001b[31m9.3 MB/s\u001b[0m eta \u001b[36m0:00:00\u001b[0m\n",
            "\u001b[2K     \u001b[90m━━━━━━━━━━━━━━━━━━━━━━━━━━━━━━━━━━━━━━\u001b[0m \u001b[32m147.5/147.5 kB\u001b[0m \u001b[31m15.1 MB/s\u001b[0m eta \u001b[36m0:00:00\u001b[0m\n",
            "\u001b[2K     \u001b[90m━━━━━━━━━━━━━━━━━━━━━━━━━━━━━━━━━━━━━━━━\u001b[0m \u001b[32m78.7/78.7 kB\u001b[0m \u001b[31m9.6 MB/s\u001b[0m eta \u001b[36m0:00:00\u001b[0m\n",
            "\u001b[?25h  Building wheel for databricks-cli (setup.py) ... \u001b[?25l\u001b[?25hdone\n"
          ]
        }
      ]
    },
    {
      "cell_type": "code",
      "source": [
        "import pandas as pd\n",
        "import sqlite3\n",
        "\n",
        "pd.set_option('max_colwidth', 1000)\n",
        "pd.describe_option('max_colwidth')"
      ],
      "metadata": {
        "colab": {
          "base_uri": "https://localhost:8080/"
        },
        "id": "Y5vf63z1mKGQ",
        "outputId": "8b4afeef-2c31-47b6-8684-d4878840d8a9"
      },
      "execution_count": 9,
      "outputs": [
        {
          "output_type": "stream",
          "name": "stdout",
          "text": [
            "display.max_colwidth : int or None\n",
            "    The maximum width in characters of a column in the repr of\n",
            "    a pandas data structure. When the column overflows, a \"...\"\n",
            "    placeholder is embedded in the output. A 'None' value means unlimited.\n",
            "    [default: 50] [currently: 1000]\n"
          ]
        }
      ]
    },
    {
      "cell_type": "markdown",
      "source": [
        "# Cleaning the data"
      ],
      "metadata": {
        "id": "gCT04NhvmMh_"
      }
    },
    {
      "cell_type": "code",
      "source": [
        "# Reading the CSV files into Pandas Dataframes and merging them together based on player ID\n",
        "baseball_master = pd.read_csv('https://raw.githubusercontent.com/NadiaHolmlund/M6_Group_Assignments/main/Group_Assignment_3/Data/Master.csv', encoding=\"ISO-8859-1\")\n",
        "baseball_batting = pd.read_csv('https://raw.githubusercontent.com/NadiaHolmlund/M6_Group_Assignments/main/Group_Assignment_3/Data/Batting.csv', encoding=\"ISO-8859-1\")\n",
        "\n",
        "baseball = baseball_master.merge(baseball_batting, on = 'playerID')"
      ],
      "metadata": {
        "id": "9_8lvSSqmPao"
      },
      "execution_count": 10,
      "outputs": []
    },
    {
      "cell_type": "code",
      "source": [
        "# Examining the DataFrame\n",
        "baseball.head()"
      ],
      "metadata": {
        "colab": {
          "base_uri": "https://localhost:8080/",
          "height": 292
        },
        "id": "xw5DMumcmQQN",
        "outputId": "69a2f69d-e9bf-4f4a-b17f-b8a02cc75e0b"
      },
      "execution_count": 11,
      "outputs": [
        {
          "output_type": "execute_result",
          "data": {
            "text/plain": [
              "   lahmanID   playerID managerID       hofID  birthYear  birthMonth  birthDay  \\\n",
              "0         1  aaronha01       NaN  aaronha01h     1934.0         2.0       5.0   \n",
              "1         1  aaronha01       NaN  aaronha01h     1934.0         2.0       5.0   \n",
              "2         1  aaronha01       NaN  aaronha01h     1934.0         2.0       5.0   \n",
              "3         1  aaronha01       NaN  aaronha01h     1934.0         2.0       5.0   \n",
              "4         1  aaronha01       NaN  aaronha01h     1934.0         2.0       5.0   \n",
              "\n",
              "  birthCountry birthState birthCity  ...   SB   CS    BB    SO   IBB  HBP  \\\n",
              "0          USA         AL    Mobile  ...  2.0  2.0  28.0  39.0   NaN  3.0   \n",
              "1          USA         AL    Mobile  ...  3.0  1.0  49.0  61.0   5.0  3.0   \n",
              "2          USA         AL    Mobile  ...  2.0  4.0  37.0  54.0   6.0  2.0   \n",
              "3          USA         AL    Mobile  ...  1.0  1.0  57.0  58.0  15.0  0.0   \n",
              "4          USA         AL    Mobile  ...  4.0  1.0  59.0  49.0  16.0  1.0   \n",
              "\n",
              "    SH   SF  GIDP  G_old  \n",
              "0  6.0  4.0  13.0  122.0  \n",
              "1  7.0  4.0  20.0  153.0  \n",
              "2  5.0  7.0  21.0  153.0  \n",
              "3  0.0  3.0  13.0  151.0  \n",
              "4  0.0  3.0  21.0  153.0  \n",
              "\n",
              "[5 rows x 56 columns]"
            ],
            "text/html": [
              "\n",
              "  <div id=\"df-8e2fb2c2-3c8d-4599-8b2c-143ad69066a8\">\n",
              "    <div class=\"colab-df-container\">\n",
              "      <div>\n",
              "<style scoped>\n",
              "    .dataframe tbody tr th:only-of-type {\n",
              "        vertical-align: middle;\n",
              "    }\n",
              "\n",
              "    .dataframe tbody tr th {\n",
              "        vertical-align: top;\n",
              "    }\n",
              "\n",
              "    .dataframe thead th {\n",
              "        text-align: right;\n",
              "    }\n",
              "</style>\n",
              "<table border=\"1\" class=\"dataframe\">\n",
              "  <thead>\n",
              "    <tr style=\"text-align: right;\">\n",
              "      <th></th>\n",
              "      <th>lahmanID</th>\n",
              "      <th>playerID</th>\n",
              "      <th>managerID</th>\n",
              "      <th>hofID</th>\n",
              "      <th>birthYear</th>\n",
              "      <th>birthMonth</th>\n",
              "      <th>birthDay</th>\n",
              "      <th>birthCountry</th>\n",
              "      <th>birthState</th>\n",
              "      <th>birthCity</th>\n",
              "      <th>...</th>\n",
              "      <th>SB</th>\n",
              "      <th>CS</th>\n",
              "      <th>BB</th>\n",
              "      <th>SO</th>\n",
              "      <th>IBB</th>\n",
              "      <th>HBP</th>\n",
              "      <th>SH</th>\n",
              "      <th>SF</th>\n",
              "      <th>GIDP</th>\n",
              "      <th>G_old</th>\n",
              "    </tr>\n",
              "  </thead>\n",
              "  <tbody>\n",
              "    <tr>\n",
              "      <th>0</th>\n",
              "      <td>1</td>\n",
              "      <td>aaronha01</td>\n",
              "      <td>NaN</td>\n",
              "      <td>aaronha01h</td>\n",
              "      <td>1934.0</td>\n",
              "      <td>2.0</td>\n",
              "      <td>5.0</td>\n",
              "      <td>USA</td>\n",
              "      <td>AL</td>\n",
              "      <td>Mobile</td>\n",
              "      <td>...</td>\n",
              "      <td>2.0</td>\n",
              "      <td>2.0</td>\n",
              "      <td>28.0</td>\n",
              "      <td>39.0</td>\n",
              "      <td>NaN</td>\n",
              "      <td>3.0</td>\n",
              "      <td>6.0</td>\n",
              "      <td>4.0</td>\n",
              "      <td>13.0</td>\n",
              "      <td>122.0</td>\n",
              "    </tr>\n",
              "    <tr>\n",
              "      <th>1</th>\n",
              "      <td>1</td>\n",
              "      <td>aaronha01</td>\n",
              "      <td>NaN</td>\n",
              "      <td>aaronha01h</td>\n",
              "      <td>1934.0</td>\n",
              "      <td>2.0</td>\n",
              "      <td>5.0</td>\n",
              "      <td>USA</td>\n",
              "      <td>AL</td>\n",
              "      <td>Mobile</td>\n",
              "      <td>...</td>\n",
              "      <td>3.0</td>\n",
              "      <td>1.0</td>\n",
              "      <td>49.0</td>\n",
              "      <td>61.0</td>\n",
              "      <td>5.0</td>\n",
              "      <td>3.0</td>\n",
              "      <td>7.0</td>\n",
              "      <td>4.0</td>\n",
              "      <td>20.0</td>\n",
              "      <td>153.0</td>\n",
              "    </tr>\n",
              "    <tr>\n",
              "      <th>2</th>\n",
              "      <td>1</td>\n",
              "      <td>aaronha01</td>\n",
              "      <td>NaN</td>\n",
              "      <td>aaronha01h</td>\n",
              "      <td>1934.0</td>\n",
              "      <td>2.0</td>\n",
              "      <td>5.0</td>\n",
              "      <td>USA</td>\n",
              "      <td>AL</td>\n",
              "      <td>Mobile</td>\n",
              "      <td>...</td>\n",
              "      <td>2.0</td>\n",
              "      <td>4.0</td>\n",
              "      <td>37.0</td>\n",
              "      <td>54.0</td>\n",
              "      <td>6.0</td>\n",
              "      <td>2.0</td>\n",
              "      <td>5.0</td>\n",
              "      <td>7.0</td>\n",
              "      <td>21.0</td>\n",
              "      <td>153.0</td>\n",
              "    </tr>\n",
              "    <tr>\n",
              "      <th>3</th>\n",
              "      <td>1</td>\n",
              "      <td>aaronha01</td>\n",
              "      <td>NaN</td>\n",
              "      <td>aaronha01h</td>\n",
              "      <td>1934.0</td>\n",
              "      <td>2.0</td>\n",
              "      <td>5.0</td>\n",
              "      <td>USA</td>\n",
              "      <td>AL</td>\n",
              "      <td>Mobile</td>\n",
              "      <td>...</td>\n",
              "      <td>1.0</td>\n",
              "      <td>1.0</td>\n",
              "      <td>57.0</td>\n",
              "      <td>58.0</td>\n",
              "      <td>15.0</td>\n",
              "      <td>0.0</td>\n",
              "      <td>0.0</td>\n",
              "      <td>3.0</td>\n",
              "      <td>13.0</td>\n",
              "      <td>151.0</td>\n",
              "    </tr>\n",
              "    <tr>\n",
              "      <th>4</th>\n",
              "      <td>1</td>\n",
              "      <td>aaronha01</td>\n",
              "      <td>NaN</td>\n",
              "      <td>aaronha01h</td>\n",
              "      <td>1934.0</td>\n",
              "      <td>2.0</td>\n",
              "      <td>5.0</td>\n",
              "      <td>USA</td>\n",
              "      <td>AL</td>\n",
              "      <td>Mobile</td>\n",
              "      <td>...</td>\n",
              "      <td>4.0</td>\n",
              "      <td>1.0</td>\n",
              "      <td>59.0</td>\n",
              "      <td>49.0</td>\n",
              "      <td>16.0</td>\n",
              "      <td>1.0</td>\n",
              "      <td>0.0</td>\n",
              "      <td>3.0</td>\n",
              "      <td>21.0</td>\n",
              "      <td>153.0</td>\n",
              "    </tr>\n",
              "  </tbody>\n",
              "</table>\n",
              "<p>5 rows × 56 columns</p>\n",
              "</div>\n",
              "      <button class=\"colab-df-convert\" onclick=\"convertToInteractive('df-8e2fb2c2-3c8d-4599-8b2c-143ad69066a8')\"\n",
              "              title=\"Convert this dataframe to an interactive table.\"\n",
              "              style=\"display:none;\">\n",
              "        \n",
              "  <svg xmlns=\"http://www.w3.org/2000/svg\" height=\"24px\"viewBox=\"0 0 24 24\"\n",
              "       width=\"24px\">\n",
              "    <path d=\"M0 0h24v24H0V0z\" fill=\"none\"/>\n",
              "    <path d=\"M18.56 5.44l.94 2.06.94-2.06 2.06-.94-2.06-.94-.94-2.06-.94 2.06-2.06.94zm-11 1L8.5 8.5l.94-2.06 2.06-.94-2.06-.94L8.5 2.5l-.94 2.06-2.06.94zm10 10l.94 2.06.94-2.06 2.06-.94-2.06-.94-.94-2.06-.94 2.06-2.06.94z\"/><path d=\"M17.41 7.96l-1.37-1.37c-.4-.4-.92-.59-1.43-.59-.52 0-1.04.2-1.43.59L10.3 9.45l-7.72 7.72c-.78.78-.78 2.05 0 2.83L4 21.41c.39.39.9.59 1.41.59.51 0 1.02-.2 1.41-.59l7.78-7.78 2.81-2.81c.8-.78.8-2.07 0-2.86zM5.41 20L4 18.59l7.72-7.72 1.47 1.35L5.41 20z\"/>\n",
              "  </svg>\n",
              "      </button>\n",
              "      \n",
              "  <style>\n",
              "    .colab-df-container {\n",
              "      display:flex;\n",
              "      flex-wrap:wrap;\n",
              "      gap: 12px;\n",
              "    }\n",
              "\n",
              "    .colab-df-convert {\n",
              "      background-color: #E8F0FE;\n",
              "      border: none;\n",
              "      border-radius: 50%;\n",
              "      cursor: pointer;\n",
              "      display: none;\n",
              "      fill: #1967D2;\n",
              "      height: 32px;\n",
              "      padding: 0 0 0 0;\n",
              "      width: 32px;\n",
              "    }\n",
              "\n",
              "    .colab-df-convert:hover {\n",
              "      background-color: #E2EBFA;\n",
              "      box-shadow: 0px 1px 2px rgba(60, 64, 67, 0.3), 0px 1px 3px 1px rgba(60, 64, 67, 0.15);\n",
              "      fill: #174EA6;\n",
              "    }\n",
              "\n",
              "    [theme=dark] .colab-df-convert {\n",
              "      background-color: #3B4455;\n",
              "      fill: #D2E3FC;\n",
              "    }\n",
              "\n",
              "    [theme=dark] .colab-df-convert:hover {\n",
              "      background-color: #434B5C;\n",
              "      box-shadow: 0px 1px 3px 1px rgba(0, 0, 0, 0.15);\n",
              "      filter: drop-shadow(0px 1px 2px rgba(0, 0, 0, 0.3));\n",
              "      fill: #FFFFFF;\n",
              "    }\n",
              "  </style>\n",
              "\n",
              "      <script>\n",
              "        const buttonEl =\n",
              "          document.querySelector('#df-8e2fb2c2-3c8d-4599-8b2c-143ad69066a8 button.colab-df-convert');\n",
              "        buttonEl.style.display =\n",
              "          google.colab.kernel.accessAllowed ? 'block' : 'none';\n",
              "\n",
              "        async function convertToInteractive(key) {\n",
              "          const element = document.querySelector('#df-8e2fb2c2-3c8d-4599-8b2c-143ad69066a8');\n",
              "          const dataTable =\n",
              "            await google.colab.kernel.invokeFunction('convertToInteractive',\n",
              "                                                     [key], {});\n",
              "          if (!dataTable) return;\n",
              "\n",
              "          const docLinkHtml = 'Like what you see? Visit the ' +\n",
              "            '<a target=\"_blank\" href=https://colab.research.google.com/notebooks/data_table.ipynb>data table notebook</a>'\n",
              "            + ' to learn more about interactive tables.';\n",
              "          element.innerHTML = '';\n",
              "          dataTable['output_type'] = 'display_data';\n",
              "          await google.colab.output.renderOutput(dataTable, element);\n",
              "          const docLink = document.createElement('div');\n",
              "          docLink.innerHTML = docLinkHtml;\n",
              "          element.appendChild(docLink);\n",
              "        }\n",
              "      </script>\n",
              "    </div>\n",
              "  </div>\n",
              "  "
            ]
          },
          "metadata": {},
          "execution_count": 11
        }
      ]
    },
    {
      "cell_type": "code",
      "source": [
        "# Examining the DataFrame\n",
        "baseball.info()"
      ],
      "metadata": {
        "colab": {
          "base_uri": "https://localhost:8080/"
        },
        "id": "9Tr-RX9XmSRq",
        "outputId": "8241808d-dc2a-4e26-eeee-baa4ef70535b"
      },
      "execution_count": 12,
      "outputs": [
        {
          "output_type": "stream",
          "name": "stdout",
          "text": [
            "<class 'pandas.core.frame.DataFrame'>\n",
            "Int64Index: 96609 entries, 0 to 96608\n",
            "Data columns (total 56 columns):\n",
            " #   Column        Non-Null Count  Dtype  \n",
            "---  ------        --------------  -----  \n",
            " 0   lahmanID      96609 non-null  int64  \n",
            " 1   playerID      96609 non-null  object \n",
            " 2   managerID     6546 non-null   object \n",
            " 3   hofID         17793 non-null  object \n",
            " 4   birthYear     96294 non-null  float64\n",
            " 5   birthMonth    95759 non-null  float64\n",
            " 6   birthDay      95397 non-null  float64\n",
            " 7   birthCountry  96174 non-null  object \n",
            " 8   birthState    86389 non-null  object \n",
            " 9   birthCity     95844 non-null  object \n",
            " 10  deathYear     39107 non-null  float64\n",
            " 11  deathMonth    39096 non-null  float64\n",
            " 12  deathDay      39095 non-null  float64\n",
            " 13  deathCountry  38839 non-null  object \n",
            " 14  deathState    38415 non-null  object \n",
            " 15  deathCity     38804 non-null  object \n",
            " 16  nameFirst     96557 non-null  object \n",
            " 17  nameLast      96609 non-null  object \n",
            " 18  nameNote      2459 non-null   object \n",
            " 19  nameGiven     92778 non-null  object \n",
            " 20  nameNick      19995 non-null  object \n",
            " 21  weight        95317 non-null  float64\n",
            " 22  height        95353 non-null  float64\n",
            " 23  bats          94364 non-null  object \n",
            " 24  throws        94906 non-null  object \n",
            " 25  debut         96603 non-null  object \n",
            " 26  finalGame     84966 non-null  object \n",
            " 27  college       24348 non-null  object \n",
            " 28  lahman40ID    88232 non-null  object \n",
            " 29  lahman45ID    88232 non-null  object \n",
            " 30  retroID       96214 non-null  object \n",
            " 31  holtzID       88260 non-null  object \n",
            " 32  bbrefID       96394 non-null  object \n",
            " 33  yearID        96609 non-null  int64  \n",
            " 34  stint         96609 non-null  int64  \n",
            " 35  teamID        96609 non-null  object \n",
            " 36  lgID          95872 non-null  object \n",
            " 37  G             96609 non-null  int64  \n",
            " 38  G_batting     95203 non-null  float64\n",
            " 39  AB            90196 non-null  float64\n",
            " 40  R             90196 non-null  float64\n",
            " 41  H             90196 non-null  float64\n",
            " 42  2B            90196 non-null  float64\n",
            " 43  3B            90196 non-null  float64\n",
            " 44  HR            90196 non-null  float64\n",
            " 45  RBI           89772 non-null  float64\n",
            " 46  SB            88896 non-null  float64\n",
            " 47  CS            66742 non-null  float64\n",
            " 48  BB            90196 non-null  float64\n",
            " 49  SO            82358 non-null  float64\n",
            " 50  IBB           53632 non-null  float64\n",
            " 51  HBP           87376 non-null  float64\n",
            " 52  SH            83858 non-null  float64\n",
            " 53  SF            54163 non-null  float64\n",
            " 54  GIDP          64088 non-null  float64\n",
            " 55  G_old         92707 non-null  float64\n",
            "dtypes: float64(26), int64(4), object(26)\n",
            "memory usage: 42.0+ MB\n"
          ]
        }
      ]
    },
    {
      "cell_type": "code",
      "source": [
        "# Extracting columns to be included in the database\n",
        "baseball_clean = baseball[['weight', 'height', 'G', 'AB', 'HR']]"
      ],
      "metadata": {
        "id": "2_9pxY35mTf1"
      },
      "execution_count": 13,
      "outputs": []
    },
    {
      "cell_type": "code",
      "source": [
        "# Dropping NaN values\n",
        "baseball_clean = baseball_clean.dropna()"
      ],
      "metadata": {
        "id": "NcrKeB3wmUoj"
      },
      "execution_count": 14,
      "outputs": []
    },
    {
      "cell_type": "code",
      "source": [
        "# Examining the dataFrame\n",
        "baseball_clean.info()"
      ],
      "metadata": {
        "colab": {
          "base_uri": "https://localhost:8080/"
        },
        "id": "jnCighJcmVo8",
        "outputId": "fc0eb3c7-f837-4d00-add5-03af1a3307e9"
      },
      "execution_count": 15,
      "outputs": [
        {
          "output_type": "stream",
          "name": "stdout",
          "text": [
            "<class 'pandas.core.frame.DataFrame'>\n",
            "Int64Index: 88718 entries, 0 to 96604\n",
            "Data columns (total 5 columns):\n",
            " #   Column  Non-Null Count  Dtype  \n",
            "---  ------  --------------  -----  \n",
            " 0   weight  88718 non-null  float64\n",
            " 1   height  88718 non-null  float64\n",
            " 2   G       88718 non-null  int64  \n",
            " 3   AB      88718 non-null  float64\n",
            " 4   HR      88718 non-null  float64\n",
            "dtypes: float64(4), int64(1)\n",
            "memory usage: 4.1 MB\n"
          ]
        }
      ]
    },
    {
      "cell_type": "code",
      "source": [
        "# Saving the cleaned dataset\n",
        "baseball_clean.to_csv('baseball_clean.csv', index=False)"
      ],
      "metadata": {
        "id": "wP5O_nL0EA-T"
      },
      "execution_count": 16,
      "outputs": []
    },
    {
      "cell_type": "code",
      "source": [
        "baseball_clean.info()"
      ],
      "metadata": {
        "colab": {
          "base_uri": "https://localhost:8080/"
        },
        "id": "SUHbIYvmJJ9l",
        "outputId": "346c40c6-02a7-4197-a8df-a36a52cc4ea8"
      },
      "execution_count": 17,
      "outputs": [
        {
          "output_type": "stream",
          "name": "stdout",
          "text": [
            "<class 'pandas.core.frame.DataFrame'>\n",
            "Int64Index: 88718 entries, 0 to 96604\n",
            "Data columns (total 5 columns):\n",
            " #   Column  Non-Null Count  Dtype  \n",
            "---  ------  --------------  -----  \n",
            " 0   weight  88718 non-null  float64\n",
            " 1   height  88718 non-null  float64\n",
            " 2   G       88718 non-null  int64  \n",
            " 3   AB      88718 non-null  float64\n",
            " 4   HR      88718 non-null  float64\n",
            "dtypes: float64(4), int64(1)\n",
            "memory usage: 4.1 MB\n"
          ]
        }
      ]
    },
    {
      "cell_type": "markdown",
      "source": [
        "# Setting up the Data Layer"
      ],
      "metadata": {
        "id": "PeH_aCP7mXuU"
      }
    },
    {
      "cell_type": "markdown",
      "source": [
        "Creating a SQLite database for the baseball dataset"
      ],
      "metadata": {
        "id": "6QNLME8LmZA-"
      }
    },
    {
      "cell_type": "markdown",
      "source": [
        "Create a new file named **database.py** and paste the following code:"
      ],
      "metadata": {
        "id": "uxiKC5gzAdm6"
      }
    },
    {
      "cell_type": "code",
      "source": [
        "#database.py\n",
        "import sqlite3\n",
        "import pandas as pd\n",
        "\n",
        "def init_db():\n",
        "  # Load the Iris dataset into a Pandas DataFrame\n",
        "  url = \"https://raw.githubusercontent.com/NadiaHolmlund/M6_Group_Assignments/main/Group_Assignment_4/Data/baseball_clean.csv\"\n",
        "  baseball_db = pd.read_csv(url)\n",
        "\n",
        "  # Connect to the SQLite database\n",
        "  conn = sqlite3.connect(\"baseball.db\")\n",
        "\n",
        "  # Save the Pandas DataFrame to the SQLite database\n",
        "  baseball_db.to_sql(\"baseball\", conn, if_exists=\"replace\", index=False)\n",
        "\n",
        "  # Close the connection to the SQLite database\n",
        "  conn.close()\n",
        "\n",
        "if __name__ == '__main__':\n",
        "    init_db()"
      ],
      "metadata": {
        "id": "wFr5wI6Kmb4T"
      },
      "execution_count": 18,
      "outputs": []
    },
    {
      "cell_type": "markdown",
      "source": [
        "# Setting up the Business Layer with MLFlow"
      ],
      "metadata": {
        "id": "pbfkpfojmhVj"
      }
    },
    {
      "cell_type": "markdown",
      "source": [
        "Using the Scikit-Learn library to train a machine learning model for HR prediction.\n",
        "The code also sets up an experiment named \"HR_Prediction_exp_x\" and logs the model's parameters, performance metrics, and the trained model itself as an artifact in MLflow."
      ],
      "metadata": {
        "id": "8I4bpoqRmexR"
      }
    },
    {
      "cell_type": "markdown",
      "source": [
        "Create a new file named **ml_model.py** and paste the following code:"
      ],
      "metadata": {
        "id": "Kix54vokAhtE"
      }
    },
    {
      "cell_type": "code",
      "source": [
        "import mlflow\n",
        "import mlflow.sklearn\n",
        "from sklearn.model_selection import train_test_split\n",
        "from sklearn.ensemble import RandomForestRegressor\n",
        "import sqlite3\n",
        "import pandas as pd\n",
        "\n",
        "# Connect to the SQLite database\n",
        "conn = sqlite3.connect(\"baseball.db\")\n",
        "\n",
        "# Read data from a table using Pandas\n",
        "data_df = pd.read_sql(\"SELECT * FROM baseball\", conn)\n",
        "\n",
        "def train_model():\n",
        "    mlflow.set_experiment(\"HR_Prediction_exp_0\")\n",
        "    X = data_df.drop('HR', axis=1)\n",
        "    y = data_df['HR']\n",
        "\n",
        "    X_train, X_test, y_train, y_test = train_test_split(X, y, test_size=0.3, random_state=42)\n",
        "\n",
        "    RFR = RandomForestRegressor(n_estimators=100, criterion=\"squared_error\")\n",
        "\n",
        "    with mlflow.start_run():\n",
        "        RFR.fit(X_train, y_train)\n",
        "\n",
        "        # Log model parameters\n",
        "        mlflow.log_param(\"n_estimators\", RFR.n_estimators)\n",
        "        mlflow.log_param(\"criterion\", RFR.criterion)\n",
        "\n",
        "        # Log model performance metrics\n",
        "        train_score = RFR.score(X_train, y_train)\n",
        "        test_score = RFR.score(X_test, y_test)\n",
        "        mlflow.log_metric(\"train_score\", train_score)\n",
        "        mlflow.log_metric(\"test_score\", test_score)\n",
        "\n",
        "        # Save the model as an artifact\n",
        "        mlflow.sklearn.log_model(RFR, \"model\")\n",
        "\n",
        "    return RFR, test_score\n",
        "\n",
        "if __name__ == '__main__':\n",
        "    RFR, accuracy = train_model()\n",
        "    print(f\"Model trained with accuracy: {accuracy}\")\n",
        "    mlflow.log_metric(\"accuracy\", accuracy)\n",
        "    mlflow.sklearn.log_model(RFR, \"model\")\n",
        "    mlflow.sklearn.log_model(RFR, \"model\", registered_model_name=\"HR_model\")\n",
        "    mlflow.sklearn.save_model(RFR, \"HR_model\")\n",
        "\n",
        "    # Launch MLflow UI\n",
        "    #import os\n",
        "    #os.system(\"mlflow ui\")"
      ],
      "metadata": {
        "colab": {
          "base_uri": "https://localhost:8080/"
        },
        "id": "7rh4eloumlIo",
        "outputId": "9b67e284-8ff4-4cd6-e8d5-c83a80c54c5f"
      },
      "execution_count": 19,
      "outputs": [
        {
          "output_type": "stream",
          "name": "stderr",
          "text": [
            "2023/04/28 11:11:01 INFO mlflow.tracking.fluent: Experiment with name 'HR_Prediction_exp_0' does not exist. Creating a new experiment.\n"
          ]
        },
        {
          "output_type": "stream",
          "name": "stdout",
          "text": [
            "Model trained with accuracy: 0.6512343316062437\n"
          ]
        },
        {
          "output_type": "stream",
          "name": "stderr",
          "text": [
            "Successfully registered model 'HR_model'.\n",
            "2023/04/28 11:11:53 INFO mlflow.tracking._model_registry.client: Waiting up to 300 seconds for model version to finish creation. Model name: HR_model, version 1\n",
            "Created version '1' of model 'HR_model'.\n"
          ]
        }
      ]
    },
    {
      "cell_type": "markdown",
      "source": [
        "# Test in chunks"
      ],
      "metadata": {
        "id": "4Vh49RQ6TUx8"
      }
    },
    {
      "cell_type": "code",
      "source": [
        "import mlflow\n",
        "import mlflow.sklearn\n",
        "from sklearn.model_selection import train_test_split\n",
        "from sklearn.ensemble import RandomForestRegressor\n",
        "import sqlite3\n",
        "import pandas as pd\n",
        "\n",
        "# Connect to the SQLite database\n",
        "conn = sqlite3.connect(\"baseball.db\")\n",
        "\n",
        "# Read data from a table using Pandas in chunks\n",
        "chunk_size = 1000\n",
        "data_df = pd.DataFrame()\n",
        "for chunk in pd.read_sql(\"SELECT * FROM baseball\", conn, chunksize=chunk_size):\n",
        "    data_df = pd.concat([data_df, chunk])\n",
        "\n",
        "def train_model(data_df):\n",
        "    mlflow.set_experiment(\"HR_Prediction_exp_0\")\n",
        "    X = data_df.drop('HR', axis=1)\n",
        "    y = data_df['HR']\n",
        "\n",
        "    X_train, X_test, y_train, y_test = train_test_split(X, y, test_size=0.3, random_state=42)\n",
        "\n",
        "    RFR = RandomForestRegressor(n_estimators=100, criterion=\"squared_error\")\n",
        "\n",
        "    with mlflow.start_run():\n",
        "        RFR.fit(X_train, y_train)\n",
        "\n",
        "        # Log model parameters\n",
        "        mlflow.log_param(\"n_estimators\", RFR.n_estimators)\n",
        "        mlflow.log_param(\"criterion\", RFR.criterion)\n",
        "\n",
        "        # Log model performance metrics\n",
        "        train_score = RFR.score(X_train, y_train)\n",
        "        test_score = RFR.score(X_test, y_test)\n",
        "        mlflow.log_metric(\"train_score\", train_score)\n",
        "        mlflow.log_metric(\"test_score\", test_score)\n",
        "\n",
        "        # Save the model as an artifact\n",
        "        mlflow.sklearn.log_model(RFR, \"model\")\n",
        "\n",
        "    return RFR, test_score\n",
        "\n",
        "if __name__ == '__main__':\n",
        "    # Call the train_model function for each chunk of data\n",
        "    for chunk in pd.read_sql(\"SELECT * FROM baseball\", conn, chunksize=chunk_size):\n",
        "        RFR, accuracy = train_model(chunk)\n",
        "        print(f\"Model trained with accuracy: {accuracy}\")\n",
        "        mlflow.log_metric(\"accuracy\", accuracy)\n",
        "        mlflow.sklearn.log_model(RFR, \"model\")\n",
        "        mlflow.sklearn.log_model(RFR, \"model\", registered_model_name=\"HR_model\")\n",
        "        mlflow.sklearn.save_model(RFR, \"HR_model\")\n",
        "\n",
        "    # Launch MLflow UI\n",
        "    import os\n",
        "    os.system(\"mlflow ui\")"
      ],
      "metadata": {
        "id": "CT4DdetmTT_e"
      },
      "execution_count": null,
      "outputs": []
    },
    {
      "cell_type": "markdown",
      "source": [
        "# Presentation Layer"
      ],
      "metadata": {
        "id": "fa_kp9Nfo9MF"
      }
    },
    {
      "cell_type": "markdown",
      "source": [
        "Creating a presentation layer using HTML and CSS"
      ],
      "metadata": {
        "id": "RURfsruppDQz"
      }
    },
    {
      "cell_type": "markdown",
      "source": [
        "Create a new folder named templates, and inside it, create a new file named index.html. Paste the following code:"
      ],
      "metadata": {
        "id": "dYVZyw24Ao7a"
      }
    },
    {
      "cell_type": "code",
      "source": [
        "<!DOCTYPE html>\n",
        "<html lang=\"en\">\n",
        "<head>\n",
        "    <meta charset=\"UTF-8\">\n",
        "    <meta name=\"viewport\" content=\"width=device-width, initial-scale=1.0\">\n",
        "    <title>HR Prediction</title>\n",
        "    <link rel=\"stylesheet\" href=\"static/style.css\">\n",
        "</head>\n",
        "<body>\n",
        "    <h1>HR Prediction</h1>\n",
        "    <form action=\"/classify\" method=\"post\">\n",
        "        <label for=\"weight\">Weight:</label>\n",
        "        <input type=\"number\" step=\"0.1\" id=\"weight\" name=\"weight\" required><br><br>\n",
        "        <label for=\"height\">Height:</label>\n",
        "        <input type=\"number\" step=\"0.1\" id=\"height\" name=\"height\" required><br><br>\n",
        "        <label for=\"G\">G:</label>\n",
        "        <input type=\"number\" step=\"0.1\" id=\"G\" name=\"G\" required><br><br>\n",
        "        <label for=\"AB\">AB:</label>\n",
        "        <input type=\"number\" step=\"0.1\" id=\"AB\" name=\"AB\" required><br><br>\n",
        "        <input type=\"submit\" value=\"predict\">\n",
        "    </form>\n",
        "    {% if prediction %}\n",
        "    <h2>Prediction: {{ prediction }}</h2>\n",
        "    {% endif %}\n",
        "</body>\n",
        "</html>"
      ],
      "metadata": {
        "id": "ntQ8-QiJo-LZ"
      },
      "execution_count": null,
      "outputs": []
    },
    {
      "cell_type": "markdown",
      "source": [
        "Create a new folder named static, and inside it, create a new file named style.css. Paste the following code:"
      ],
      "metadata": {
        "id": "iU993syzAsnd"
      }
    },
    {
      "cell_type": "code",
      "source": [
        "body {\n",
        "    font-family: Arial, sans-serif;\n",
        "    max-width: 600px;\n",
        "    margin: 0 auto;\n",
        "    padding: 20px;\n",
        "}\n",
        "\n",
        "input[type=number], input[type=submit] {\n",
        "    width: 100%;\n",
        "    padding: 5px;\n",
        "    margin: 5px 0;\n",
        "    box-sizing: border-box;\n",
        "}\n",
        "\n",
        "input[type=submit] {\n",
        "    background-color: #4CAF50;\n",
        "    color: white;\n",
        "    cursor: pointer;\n",
        "}"
      ],
      "metadata": {
        "id": "R7IzYPZApJT5"
      },
      "execution_count": null,
      "outputs": []
    },
    {
      "cell_type": "markdown",
      "source": [
        "# Connecting the Layers with Flask"
      ],
      "metadata": {
        "id": "L5iXoVFmpKd8"
      }
    },
    {
      "cell_type": "markdown",
      "source": [
        "Connecting the data layer, busines layer and presentaiton layer with Flask"
      ],
      "metadata": {
        "id": "rjVlp6aDpMw5"
      }
    },
    {
      "cell_type": "markdown",
      "source": [
        "Create a new file named app.py and paste the following code:"
      ],
      "metadata": {
        "id": "Sx9_4vfjAv4u"
      }
    },
    {
      "cell_type": "code",
      "source": [
        "from flask import Flask, render_template, request, jsonify\n",
        "import pickle\n",
        "import sqlite3\n",
        "\n",
        "app = Flask(__name__)\n",
        "\n",
        "with open(\"HR_model/model.pkl\", \"rb\") as f:\n",
        "    model = pickle.load(f)\n",
        "\n",
        "@app.route(\"/\", methods=[\"GET\"])\n",
        "def index():\n",
        "    return render_template(\"index.html\", prediction=None)\n",
        "\n",
        "@app.route(\"/classify\", methods=[\"POST\"])\n",
        "def classify():\n",
        "    sepal_length = float(request.form[\"weight\"])\n",
        "    sepal_width = float(request.form[\"height\"])\n",
        "    petal_length = float(request.form[\"G\"])\n",
        "    petal_width = float(request.form[\"AB\"])\n",
        "\n",
        "    data = [[weight, height, G, AB]]\n",
        "    prediction = model.predict(data)[0]\n",
        "\n",
        "    # Save the data to the database\n",
        "    connection = sqlite3.connect(\"baseball.db\")\n",
        "    cursor = connection.cursor()\n",
        "    cursor.execute(\"INSERT INTO baseball (weight, height, G, AB, HR) VALUES (?, ?, ?, ?, ?)\",\n",
        "                   (weight, height, G, AB, prediction))\n",
        "    connection.commit()\n",
        "    connection.close()\n",
        "\n",
        "    return jsonify({\"prediction\": prediction})\n",
        "\n",
        "\n",
        "if __name__ == \"__main__\":\n",
        "    app.run(debug=True, port=5000)\n"
      ],
      "metadata": {
        "id": "LUrP3fP9pMYL"
      },
      "execution_count": null,
      "outputs": []
    },
    {
      "cell_type": "markdown",
      "source": [
        "Run app.py and navigate to http://127.0.0.1:5000/ in your web browser."
      ],
      "metadata": {
        "id": "YYkL94KcpVPp"
      }
    },
    {
      "cell_type": "markdown",
      "source": [
        "# Streamlit"
      ],
      "metadata": {
        "id": "aM8hRs-IdoVM"
      }
    },
    {
      "cell_type": "code",
      "source": [
        "!pip install -q streamlit"
      ],
      "metadata": {
        "id": "IJ3NyshSjjur"
      },
      "execution_count": 6,
      "outputs": []
    },
    {
      "cell_type": "code",
      "source": [
        "import streamlit as st\n",
        "import pickle\n",
        "\n",
        "# Setting up page configurations\n",
        "st.set_page_config(\n",
        "    page_title=\"HR Prediction\",\n",
        "    page_icon=\"⚾\",\n",
        "    layout=\"wide\")\n",
        "\n",
        "# Loading the model\n",
        "@st.experimental_singleton\n",
        "def read_objects():\n",
        "    model = pickle.load(open('HR_model/model.pkl','rb'))\n",
        "\n",
        "    return model\n",
        "\n",
        "model = read_objects()\n",
        "\n",
        "def predict():\n",
        "    data = [[weight, height, G, AB]]\n",
        "    prediction = model.predict(data)[0]\n",
        "\n",
        "# Setting up the page\n",
        "weight = st.number_input('Weight')\n",
        "height = st.number_input('Height')\n",
        "G = st.number_input('G')\n",
        "ABCMeta = st.number_input('AB')\n",
        "\n",
        "# make a nice button that triggers creation of a new data-line in the format that the model expects and prediction\n",
        "if st.button('Predict! 🚀'):\n",
        "    # make a DF for categories and transform with one-hot-encoder\n",
        "    user_input = pd.DataFrame({'weight':weight,'height':height, 'G':G, 'AB':AB}, index=[0])\n",
        "\n",
        "    #run prediction for 1 new observation\n",
        "    predicted_value = model.predict(user_input)[0]\n",
        "\n",
        "    #print out result to user\n",
        "    st.metric(label=\"Predicted HR\", value=f'{round(predicted_value)} kr')"
      ],
      "metadata": {
        "colab": {
          "base_uri": "https://localhost:8080/"
        },
        "id": "7HLbiko2dpkL",
        "outputId": "c4f434d3-4edf-45c2-a926-56b396cb0aa0"
      },
      "execution_count": 21,
      "outputs": [
        {
          "output_type": "stream",
          "name": "stderr",
          "text": [
            "2023-04-28 11:16:34.431 `st.experimental_singleton` is deprecated. Please use the new command `st.cache_resource` instead, which has the same behavior. More information [in our docs](https://docs.streamlit.io/library/advanced-features/caching).\n"
          ]
        }
      ]
    },
    {
      "cell_type": "code",
      "source": [
        "!npm install localtunnel"
      ],
      "metadata": {
        "colab": {
          "base_uri": "https://localhost:8080/"
        },
        "id": "tDGdgMNzg5Xz",
        "outputId": "759402b7-7d1a-42a7-a9ad-1e7b16defb2b"
      },
      "execution_count": 22,
      "outputs": [
        {
          "output_type": "stream",
          "name": "stdout",
          "text": [
            "\u001b[K\u001b[?25h\u001b[37;40mnpm\u001b[0m \u001b[0m\u001b[30;43mWARN\u001b[0m \u001b[0m\u001b[35msaveError\u001b[0m ENOENT: no such file or directory, open '/content/package.json'\n",
            "\u001b[0m\u001b[37;40mnpm\u001b[0m \u001b[0m\u001b[30;43mWARN\u001b[0m \u001b[0m\u001b[35menoent\u001b[0m ENOENT: no such file or directory, open '/content/package.json'\n",
            "\u001b[0m\u001b[37;40mnpm\u001b[0m \u001b[0m\u001b[30;43mWARN\u001b[0m\u001b[35m\u001b[0m content No description\n",
            "\u001b[0m\u001b[37;40mnpm\u001b[0m \u001b[0m\u001b[30;43mWARN\u001b[0m\u001b[35m\u001b[0m content No repository field.\n",
            "\u001b[0m\u001b[37;40mnpm\u001b[0m \u001b[0m\u001b[30;43mWARN\u001b[0m\u001b[35m\u001b[0m content No README data\n",
            "\u001b[0m\u001b[37;40mnpm\u001b[0m \u001b[0m\u001b[30;43mWARN\u001b[0m\u001b[35m\u001b[0m content No license field.\n",
            "\u001b[0m\n",
            "\u001b[K\u001b[?25h+ localtunnel@2.0.2\n",
            "updated 1 package and audited 36 packages in 0.546s\n",
            "\n",
            "3 packages are looking for funding\n",
            "  run `npm fund` for details\n",
            "\n",
            "found \u001b[92m0\u001b[0m vulnerabilities\n",
            "\n"
          ]
        }
      ]
    },
    {
      "cell_type": "code",
      "source": [
        "!streamlit run app.py &>/content/logs.txt &"
      ],
      "metadata": {
        "id": "40Bjzn8lg9AZ"
      },
      "execution_count": 23,
      "outputs": []
    },
    {
      "cell_type": "code",
      "source": [
        "!npx localtunnel --port 8501"
      ],
      "metadata": {
        "colab": {
          "base_uri": "https://localhost:8080/"
        },
        "id": "Rm9Pau8cg_BG",
        "outputId": "71b1329d-7326-4f03-c514-0b39786f9633"
      },
      "execution_count": 25,
      "outputs": [
        {
          "output_type": "stream",
          "name": "stdout",
          "text": [
            "\u001b[K\u001b[?25hnpx: installed 22 in 1.592s\n",
            "your url is: https://rare-bags-cheer-34-171-41-84.loca.lt\n",
            "^C\n"
          ]
        }
      ]
    },
    {
      "cell_type": "markdown",
      "source": [
        "# Dockerizing the App"
      ],
      "metadata": {
        "id": "MlHaC5_GqDFr"
      }
    },
    {
      "cell_type": "markdown",
      "source": [
        "## Step 1: Create a Dockerfile"
      ],
      "metadata": {
        "id": "HumjDcMgtGCt"
      }
    },
    {
      "cell_type": "markdown",
      "source": [
        "Create a new file called Dockerfile in the project directory and add the following:"
      ],
      "metadata": {
        "id": "fS_qE7mWtIal"
      }
    },
    {
      "cell_type": "code",
      "source": [
        "# Use an official Python runtime as a parent image\n",
        "FROM python:3.9-slim\n",
        "\n",
        "# Set the working directory\n",
        "WORKDIR /baseball\n",
        "\n",
        "# Copy the requirements file into the container\n",
        "COPY requirements.txt /baseball\n",
        "\n",
        "# Install any needed packages specified in requirements.txt\n",
        "RUN pip install --trusted-host pypi.python.org -r requirements.txt\n",
        "\n",
        "# Copy the rest of the application code\n",
        "COPY . /baseball\n",
        "\n",
        "# Make the script executable\n",
        "RUN chmod +x /baseball/app.py\n",
        "\n",
        "# Run the Python scripts sequentially when the container launches\n",
        "CMD python database.py && python ml_model.py && python app.py"
      ],
      "metadata": {
        "id": "vDOtU-J_qUyB"
      },
      "execution_count": null,
      "outputs": []
    },
    {
      "cell_type": "markdown",
      "source": [
        "## Step 2: Build the Docker image"
      ],
      "metadata": {
        "id": "PqBCIR4KtN5d"
      }
    },
    {
      "cell_type": "markdown",
      "source": [
        "Run the following command in your terminal to build the Docker image:"
      ],
      "metadata": {
        "id": "ag6UVgROtTIB"
      }
    },
    {
      "cell_type": "code",
      "source": [
        "docker build -t baseball-docker ."
      ],
      "metadata": {
        "colab": {
          "base_uri": "https://localhost:8080/",
          "height": 125
        },
        "id": "hX7MGWKYtPkw",
        "outputId": "e1f814e9-7a3a-48be-b523-f352cab2c55b"
      },
      "execution_count": 2,
      "outputs": [
        {
          "output_type": "error",
          "ename": "SyntaxError",
          "evalue": "ignored",
          "traceback": [
            "\u001b[0;36m  File \u001b[0;32m\"<ipython-input-2-36178f1cc19b>\"\u001b[0;36m, line \u001b[0;32m1\u001b[0m\n\u001b[0;31m    docker build -t iris-docker .\u001b[0m\n\u001b[0m           ^\u001b[0m\n\u001b[0;31mSyntaxError\u001b[0m\u001b[0;31m:\u001b[0m invalid syntax\n"
          ]
        }
      ]
    },
    {
      "cell_type": "markdown",
      "source": [
        "## Step 3: Run the Docker container"
      ],
      "metadata": {
        "id": "h5eYE6_3tVeM"
      }
    },
    {
      "cell_type": "markdown",
      "source": [
        "After the image is built, you can run the Docker container with:"
      ],
      "metadata": {
        "id": "kNx7bi0QtXP6"
      }
    },
    {
      "cell_type": "code",
      "source": [
        "docker run baseball-docker"
      ],
      "metadata": {
        "id": "9r-NMC7atQlv"
      },
      "execution_count": null,
      "outputs": []
    },
    {
      "cell_type": "markdown",
      "source": [
        "## Step 4: Push the Docker image to Docker Hub"
      ],
      "metadata": {
        "id": "B9dnXQ1htevs"
      }
    },
    {
      "cell_type": "markdown",
      "source": [
        "Log in to your Docker Hub account from the command line:"
      ],
      "metadata": {
        "id": "0mPTlMSOthTY"
      }
    },
    {
      "cell_type": "code",
      "source": [
        "docker login"
      ],
      "metadata": {
        "id": "6jT5hU7Bti0j"
      },
      "execution_count": null,
      "outputs": []
    },
    {
      "cell_type": "markdown",
      "source": [
        "Push the Docker image to your Docker Hub repository:"
      ],
      "metadata": {
        "id": "rQC0U64QtmLu"
      }
    },
    {
      "cell_type": "code",
      "source": [
        "docker push NadiaHolmlund/baseball_docker:v1.0.0"
      ],
      "metadata": {
        "id": "wBfJ0DGntk5A"
      },
      "execution_count": null,
      "outputs": []
    },
    {
      "cell_type": "markdown",
      "source": [
        "## Step 5: Share the Docker image with the company"
      ],
      "metadata": {
        "id": "qD9aX5sqtnx1"
      }
    },
    {
      "cell_type": "markdown",
      "source": [
        "Share the Docker image URL with the company. They can now pull the image from Docker Hub and run the container on their infrastructure:"
      ],
      "metadata": {
        "id": "egZbX49PtrCD"
      }
    },
    {
      "cell_type": "code",
      "source": [
        "docker pull NadiaHolmlund/baseball_docker:v1.0.0\n",
        "docker run -p 8000:8000 NadiaHolmlund/baseball_docker:v1.0.0"
      ],
      "metadata": {
        "id": "Gs1hUo2_tqko"
      },
      "execution_count": null,
      "outputs": []
    }
  ]
}