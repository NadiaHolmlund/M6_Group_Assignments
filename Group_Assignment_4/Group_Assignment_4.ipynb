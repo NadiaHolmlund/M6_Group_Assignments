{
  "nbformat": 4,
  "nbformat_minor": 0,
  "metadata": {
    "colab": {
      "provenance": [],
      "toc_visible": true,
      "authorship_tag": "ABX9TyNAJBJUauOISiY/2xzuh8OG",
      "include_colab_link": true
    },
    "kernelspec": {
      "name": "python3",
      "display_name": "Python 3"
    },
    "language_info": {
      "name": "python"
    }
  },
  "cells": [
    {
      "cell_type": "markdown",
      "metadata": {
        "id": "view-in-github",
        "colab_type": "text"
      },
      "source": [
        "<a href=\"https://colab.research.google.com/github/NadiaHolmlund/M6_Group_Assignments/blob/main/Group_Assignment_4/Group_Assignment_4.ipynb\" target=\"_parent\"><img src=\"https://colab.research.google.com/assets/colab-badge.svg\" alt=\"Open In Colab\"/></a>"
      ]
    },
    {
      "cell_type": "markdown",
      "source": [
        "# Task"
      ],
      "metadata": {
        "id": "GRCkIBFLtPvv"
      }
    },
    {
      "cell_type": "markdown",
      "source": [
        "Choose a previous project that involves a machine learning component and perform the following tasks:\n",
        "\n",
        "- Train a machine learning model using the data from your previous project. Select an appropriate machine learning model based on your data and problem.\n",
        "\n",
        "- Integrate MLflow for tracking and managing your machine learning experiments. Log hyperparameters, metrics, and artifacts of your experiments in MLflow. Save structured and unstructured information related to your trained model in SQLite within MLflow.\n",
        "\n",
        "- Develop a user-friendly interface for your ML app using Streamlit. Optionally, you can create a three-layer ML app (data, business, presentation) for a user-friendly interface to interact with the machine learning model.\n",
        "\n",
        "- Dockerize your ML app, ensuring that the SQLite database, MLflow, and the Streamlit or custom interface are all functioning correctly within the Docker image.\n",
        "\n",
        "- Upload your dockerized app to Docker Hub and provide instructions for running the app from the Docker Hub repository."
      ],
      "metadata": {
        "id": "bd4r98fjtSWw"
      }
    },
    {
      "cell_type": "markdown",
      "source": [
        "# Preprocessing"
      ],
      "metadata": {
        "id": "KGRQRTzfttAZ"
      }
    },
    {
      "cell_type": "code",
      "source": [
        "# Importing libraries\n",
        "import pandas as pd\n",
        "\n",
        "pd.set_option('max_colwidth', 1000)\n",
        "pd.describe_option('max_colwidth')"
      ],
      "metadata": {
        "id": "zPZ9cEFWt37-"
      },
      "execution_count": null,
      "outputs": []
    },
    {
      "cell_type": "code",
      "source": [
        "# Reading the CSV files into Pandas Dataframes and merging them together based on player ID\n",
        "baseball_master = pd.read_csv('https://raw.githubusercontent.com/NadiaHolmlund/M6_Group_Assignments/main/Group_Assignment_3/Data/Master.csv', encoding=\"ISO-8859-1\")\n",
        "baseball_batting = pd.read_csv('https://raw.githubusercontent.com/NadiaHolmlund/M6_Group_Assignments/main/Group_Assignment_3/Data/Batting.csv', encoding=\"ISO-8859-1\")\n",
        "\n",
        "baseball = baseball_master.merge(baseball_batting, on = 'playerID')"
      ],
      "metadata": {
        "id": "9_8lvSSqmPao"
      },
      "execution_count": null,
      "outputs": []
    },
    {
      "cell_type": "code",
      "source": [
        "# Examining the DataFrame\n",
        "baseball.head()"
      ],
      "metadata": {
        "colab": {
          "base_uri": "https://localhost:8080/",
          "height": 292
        },
        "id": "xw5DMumcmQQN",
        "outputId": "69a2f69d-e9bf-4f4a-b17f-b8a02cc75e0b"
      },
      "execution_count": null,
      "outputs": [
        {
          "output_type": "execute_result",
          "data": {
            "text/plain": [
              "   lahmanID   playerID managerID       hofID  birthYear  birthMonth  birthDay  \\\n",
              "0         1  aaronha01       NaN  aaronha01h     1934.0         2.0       5.0   \n",
              "1         1  aaronha01       NaN  aaronha01h     1934.0         2.0       5.0   \n",
              "2         1  aaronha01       NaN  aaronha01h     1934.0         2.0       5.0   \n",
              "3         1  aaronha01       NaN  aaronha01h     1934.0         2.0       5.0   \n",
              "4         1  aaronha01       NaN  aaronha01h     1934.0         2.0       5.0   \n",
              "\n",
              "  birthCountry birthState birthCity  ...   SB   CS    BB    SO   IBB  HBP  \\\n",
              "0          USA         AL    Mobile  ...  2.0  2.0  28.0  39.0   NaN  3.0   \n",
              "1          USA         AL    Mobile  ...  3.0  1.0  49.0  61.0   5.0  3.0   \n",
              "2          USA         AL    Mobile  ...  2.0  4.0  37.0  54.0   6.0  2.0   \n",
              "3          USA         AL    Mobile  ...  1.0  1.0  57.0  58.0  15.0  0.0   \n",
              "4          USA         AL    Mobile  ...  4.0  1.0  59.0  49.0  16.0  1.0   \n",
              "\n",
              "    SH   SF  GIDP  G_old  \n",
              "0  6.0  4.0  13.0  122.0  \n",
              "1  7.0  4.0  20.0  153.0  \n",
              "2  5.0  7.0  21.0  153.0  \n",
              "3  0.0  3.0  13.0  151.0  \n",
              "4  0.0  3.0  21.0  153.0  \n",
              "\n",
              "[5 rows x 56 columns]"
            ],
            "text/html": [
              "\n",
              "  <div id=\"df-8e2fb2c2-3c8d-4599-8b2c-143ad69066a8\">\n",
              "    <div class=\"colab-df-container\">\n",
              "      <div>\n",
              "<style scoped>\n",
              "    .dataframe tbody tr th:only-of-type {\n",
              "        vertical-align: middle;\n",
              "    }\n",
              "\n",
              "    .dataframe tbody tr th {\n",
              "        vertical-align: top;\n",
              "    }\n",
              "\n",
              "    .dataframe thead th {\n",
              "        text-align: right;\n",
              "    }\n",
              "</style>\n",
              "<table border=\"1\" class=\"dataframe\">\n",
              "  <thead>\n",
              "    <tr style=\"text-align: right;\">\n",
              "      <th></th>\n",
              "      <th>lahmanID</th>\n",
              "      <th>playerID</th>\n",
              "      <th>managerID</th>\n",
              "      <th>hofID</th>\n",
              "      <th>birthYear</th>\n",
              "      <th>birthMonth</th>\n",
              "      <th>birthDay</th>\n",
              "      <th>birthCountry</th>\n",
              "      <th>birthState</th>\n",
              "      <th>birthCity</th>\n",
              "      <th>...</th>\n",
              "      <th>SB</th>\n",
              "      <th>CS</th>\n",
              "      <th>BB</th>\n",
              "      <th>SO</th>\n",
              "      <th>IBB</th>\n",
              "      <th>HBP</th>\n",
              "      <th>SH</th>\n",
              "      <th>SF</th>\n",
              "      <th>GIDP</th>\n",
              "      <th>G_old</th>\n",
              "    </tr>\n",
              "  </thead>\n",
              "  <tbody>\n",
              "    <tr>\n",
              "      <th>0</th>\n",
              "      <td>1</td>\n",
              "      <td>aaronha01</td>\n",
              "      <td>NaN</td>\n",
              "      <td>aaronha01h</td>\n",
              "      <td>1934.0</td>\n",
              "      <td>2.0</td>\n",
              "      <td>5.0</td>\n",
              "      <td>USA</td>\n",
              "      <td>AL</td>\n",
              "      <td>Mobile</td>\n",
              "      <td>...</td>\n",
              "      <td>2.0</td>\n",
              "      <td>2.0</td>\n",
              "      <td>28.0</td>\n",
              "      <td>39.0</td>\n",
              "      <td>NaN</td>\n",
              "      <td>3.0</td>\n",
              "      <td>6.0</td>\n",
              "      <td>4.0</td>\n",
              "      <td>13.0</td>\n",
              "      <td>122.0</td>\n",
              "    </tr>\n",
              "    <tr>\n",
              "      <th>1</th>\n",
              "      <td>1</td>\n",
              "      <td>aaronha01</td>\n",
              "      <td>NaN</td>\n",
              "      <td>aaronha01h</td>\n",
              "      <td>1934.0</td>\n",
              "      <td>2.0</td>\n",
              "      <td>5.0</td>\n",
              "      <td>USA</td>\n",
              "      <td>AL</td>\n",
              "      <td>Mobile</td>\n",
              "      <td>...</td>\n",
              "      <td>3.0</td>\n",
              "      <td>1.0</td>\n",
              "      <td>49.0</td>\n",
              "      <td>61.0</td>\n",
              "      <td>5.0</td>\n",
              "      <td>3.0</td>\n",
              "      <td>7.0</td>\n",
              "      <td>4.0</td>\n",
              "      <td>20.0</td>\n",
              "      <td>153.0</td>\n",
              "    </tr>\n",
              "    <tr>\n",
              "      <th>2</th>\n",
              "      <td>1</td>\n",
              "      <td>aaronha01</td>\n",
              "      <td>NaN</td>\n",
              "      <td>aaronha01h</td>\n",
              "      <td>1934.0</td>\n",
              "      <td>2.0</td>\n",
              "      <td>5.0</td>\n",
              "      <td>USA</td>\n",
              "      <td>AL</td>\n",
              "      <td>Mobile</td>\n",
              "      <td>...</td>\n",
              "      <td>2.0</td>\n",
              "      <td>4.0</td>\n",
              "      <td>37.0</td>\n",
              "      <td>54.0</td>\n",
              "      <td>6.0</td>\n",
              "      <td>2.0</td>\n",
              "      <td>5.0</td>\n",
              "      <td>7.0</td>\n",
              "      <td>21.0</td>\n",
              "      <td>153.0</td>\n",
              "    </tr>\n",
              "    <tr>\n",
              "      <th>3</th>\n",
              "      <td>1</td>\n",
              "      <td>aaronha01</td>\n",
              "      <td>NaN</td>\n",
              "      <td>aaronha01h</td>\n",
              "      <td>1934.0</td>\n",
              "      <td>2.0</td>\n",
              "      <td>5.0</td>\n",
              "      <td>USA</td>\n",
              "      <td>AL</td>\n",
              "      <td>Mobile</td>\n",
              "      <td>...</td>\n",
              "      <td>1.0</td>\n",
              "      <td>1.0</td>\n",
              "      <td>57.0</td>\n",
              "      <td>58.0</td>\n",
              "      <td>15.0</td>\n",
              "      <td>0.0</td>\n",
              "      <td>0.0</td>\n",
              "      <td>3.0</td>\n",
              "      <td>13.0</td>\n",
              "      <td>151.0</td>\n",
              "    </tr>\n",
              "    <tr>\n",
              "      <th>4</th>\n",
              "      <td>1</td>\n",
              "      <td>aaronha01</td>\n",
              "      <td>NaN</td>\n",
              "      <td>aaronha01h</td>\n",
              "      <td>1934.0</td>\n",
              "      <td>2.0</td>\n",
              "      <td>5.0</td>\n",
              "      <td>USA</td>\n",
              "      <td>AL</td>\n",
              "      <td>Mobile</td>\n",
              "      <td>...</td>\n",
              "      <td>4.0</td>\n",
              "      <td>1.0</td>\n",
              "      <td>59.0</td>\n",
              "      <td>49.0</td>\n",
              "      <td>16.0</td>\n",
              "      <td>1.0</td>\n",
              "      <td>0.0</td>\n",
              "      <td>3.0</td>\n",
              "      <td>21.0</td>\n",
              "      <td>153.0</td>\n",
              "    </tr>\n",
              "  </tbody>\n",
              "</table>\n",
              "<p>5 rows × 56 columns</p>\n",
              "</div>\n",
              "      <button class=\"colab-df-convert\" onclick=\"convertToInteractive('df-8e2fb2c2-3c8d-4599-8b2c-143ad69066a8')\"\n",
              "              title=\"Convert this dataframe to an interactive table.\"\n",
              "              style=\"display:none;\">\n",
              "        \n",
              "  <svg xmlns=\"http://www.w3.org/2000/svg\" height=\"24px\"viewBox=\"0 0 24 24\"\n",
              "       width=\"24px\">\n",
              "    <path d=\"M0 0h24v24H0V0z\" fill=\"none\"/>\n",
              "    <path d=\"M18.56 5.44l.94 2.06.94-2.06 2.06-.94-2.06-.94-.94-2.06-.94 2.06-2.06.94zm-11 1L8.5 8.5l.94-2.06 2.06-.94-2.06-.94L8.5 2.5l-.94 2.06-2.06.94zm10 10l.94 2.06.94-2.06 2.06-.94-2.06-.94-.94-2.06-.94 2.06-2.06.94z\"/><path d=\"M17.41 7.96l-1.37-1.37c-.4-.4-.92-.59-1.43-.59-.52 0-1.04.2-1.43.59L10.3 9.45l-7.72 7.72c-.78.78-.78 2.05 0 2.83L4 21.41c.39.39.9.59 1.41.59.51 0 1.02-.2 1.41-.59l7.78-7.78 2.81-2.81c.8-.78.8-2.07 0-2.86zM5.41 20L4 18.59l7.72-7.72 1.47 1.35L5.41 20z\"/>\n",
              "  </svg>\n",
              "      </button>\n",
              "      \n",
              "  <style>\n",
              "    .colab-df-container {\n",
              "      display:flex;\n",
              "      flex-wrap:wrap;\n",
              "      gap: 12px;\n",
              "    }\n",
              "\n",
              "    .colab-df-convert {\n",
              "      background-color: #E8F0FE;\n",
              "      border: none;\n",
              "      border-radius: 50%;\n",
              "      cursor: pointer;\n",
              "      display: none;\n",
              "      fill: #1967D2;\n",
              "      height: 32px;\n",
              "      padding: 0 0 0 0;\n",
              "      width: 32px;\n",
              "    }\n",
              "\n",
              "    .colab-df-convert:hover {\n",
              "      background-color: #E2EBFA;\n",
              "      box-shadow: 0px 1px 2px rgba(60, 64, 67, 0.3), 0px 1px 3px 1px rgba(60, 64, 67, 0.15);\n",
              "      fill: #174EA6;\n",
              "    }\n",
              "\n",
              "    [theme=dark] .colab-df-convert {\n",
              "      background-color: #3B4455;\n",
              "      fill: #D2E3FC;\n",
              "    }\n",
              "\n",
              "    [theme=dark] .colab-df-convert:hover {\n",
              "      background-color: #434B5C;\n",
              "      box-shadow: 0px 1px 3px 1px rgba(0, 0, 0, 0.15);\n",
              "      filter: drop-shadow(0px 1px 2px rgba(0, 0, 0, 0.3));\n",
              "      fill: #FFFFFF;\n",
              "    }\n",
              "  </style>\n",
              "\n",
              "      <script>\n",
              "        const buttonEl =\n",
              "          document.querySelector('#df-8e2fb2c2-3c8d-4599-8b2c-143ad69066a8 button.colab-df-convert');\n",
              "        buttonEl.style.display =\n",
              "          google.colab.kernel.accessAllowed ? 'block' : 'none';\n",
              "\n",
              "        async function convertToInteractive(key) {\n",
              "          const element = document.querySelector('#df-8e2fb2c2-3c8d-4599-8b2c-143ad69066a8');\n",
              "          const dataTable =\n",
              "            await google.colab.kernel.invokeFunction('convertToInteractive',\n",
              "                                                     [key], {});\n",
              "          if (!dataTable) return;\n",
              "\n",
              "          const docLinkHtml = 'Like what you see? Visit the ' +\n",
              "            '<a target=\"_blank\" href=https://colab.research.google.com/notebooks/data_table.ipynb>data table notebook</a>'\n",
              "            + ' to learn more about interactive tables.';\n",
              "          element.innerHTML = '';\n",
              "          dataTable['output_type'] = 'display_data';\n",
              "          await google.colab.output.renderOutput(dataTable, element);\n",
              "          const docLink = document.createElement('div');\n",
              "          docLink.innerHTML = docLinkHtml;\n",
              "          element.appendChild(docLink);\n",
              "        }\n",
              "      </script>\n",
              "    </div>\n",
              "  </div>\n",
              "  "
            ]
          },
          "metadata": {},
          "execution_count": 11
        }
      ]
    },
    {
      "cell_type": "code",
      "source": [
        "# Examining the DataFrame\n",
        "baseball.info()"
      ],
      "metadata": {
        "colab": {
          "base_uri": "https://localhost:8080/"
        },
        "id": "9Tr-RX9XmSRq",
        "outputId": "8241808d-dc2a-4e26-eeee-baa4ef70535b"
      },
      "execution_count": null,
      "outputs": [
        {
          "output_type": "stream",
          "name": "stdout",
          "text": [
            "<class 'pandas.core.frame.DataFrame'>\n",
            "Int64Index: 96609 entries, 0 to 96608\n",
            "Data columns (total 56 columns):\n",
            " #   Column        Non-Null Count  Dtype  \n",
            "---  ------        --------------  -----  \n",
            " 0   lahmanID      96609 non-null  int64  \n",
            " 1   playerID      96609 non-null  object \n",
            " 2   managerID     6546 non-null   object \n",
            " 3   hofID         17793 non-null  object \n",
            " 4   birthYear     96294 non-null  float64\n",
            " 5   birthMonth    95759 non-null  float64\n",
            " 6   birthDay      95397 non-null  float64\n",
            " 7   birthCountry  96174 non-null  object \n",
            " 8   birthState    86389 non-null  object \n",
            " 9   birthCity     95844 non-null  object \n",
            " 10  deathYear     39107 non-null  float64\n",
            " 11  deathMonth    39096 non-null  float64\n",
            " 12  deathDay      39095 non-null  float64\n",
            " 13  deathCountry  38839 non-null  object \n",
            " 14  deathState    38415 non-null  object \n",
            " 15  deathCity     38804 non-null  object \n",
            " 16  nameFirst     96557 non-null  object \n",
            " 17  nameLast      96609 non-null  object \n",
            " 18  nameNote      2459 non-null   object \n",
            " 19  nameGiven     92778 non-null  object \n",
            " 20  nameNick      19995 non-null  object \n",
            " 21  weight        95317 non-null  float64\n",
            " 22  height        95353 non-null  float64\n",
            " 23  bats          94364 non-null  object \n",
            " 24  throws        94906 non-null  object \n",
            " 25  debut         96603 non-null  object \n",
            " 26  finalGame     84966 non-null  object \n",
            " 27  college       24348 non-null  object \n",
            " 28  lahman40ID    88232 non-null  object \n",
            " 29  lahman45ID    88232 non-null  object \n",
            " 30  retroID       96214 non-null  object \n",
            " 31  holtzID       88260 non-null  object \n",
            " 32  bbrefID       96394 non-null  object \n",
            " 33  yearID        96609 non-null  int64  \n",
            " 34  stint         96609 non-null  int64  \n",
            " 35  teamID        96609 non-null  object \n",
            " 36  lgID          95872 non-null  object \n",
            " 37  G             96609 non-null  int64  \n",
            " 38  G_batting     95203 non-null  float64\n",
            " 39  AB            90196 non-null  float64\n",
            " 40  R             90196 non-null  float64\n",
            " 41  H             90196 non-null  float64\n",
            " 42  2B            90196 non-null  float64\n",
            " 43  3B            90196 non-null  float64\n",
            " 44  HR            90196 non-null  float64\n",
            " 45  RBI           89772 non-null  float64\n",
            " 46  SB            88896 non-null  float64\n",
            " 47  CS            66742 non-null  float64\n",
            " 48  BB            90196 non-null  float64\n",
            " 49  SO            82358 non-null  float64\n",
            " 50  IBB           53632 non-null  float64\n",
            " 51  HBP           87376 non-null  float64\n",
            " 52  SH            83858 non-null  float64\n",
            " 53  SF            54163 non-null  float64\n",
            " 54  GIDP          64088 non-null  float64\n",
            " 55  G_old         92707 non-null  float64\n",
            "dtypes: float64(26), int64(4), object(26)\n",
            "memory usage: 42.0+ MB\n"
          ]
        }
      ]
    },
    {
      "cell_type": "code",
      "source": [
        "# Extracting columns to be included in the database\n",
        "baseball_clean = baseball[['weight', 'height', 'G', 'AB', 'HR']]"
      ],
      "metadata": {
        "id": "2_9pxY35mTf1"
      },
      "execution_count": null,
      "outputs": []
    },
    {
      "cell_type": "code",
      "source": [
        "# Dropping NaN values\n",
        "baseball_clean = baseball_clean.dropna()"
      ],
      "metadata": {
        "id": "NcrKeB3wmUoj"
      },
      "execution_count": null,
      "outputs": []
    },
    {
      "cell_type": "code",
      "source": [
        "# Examining the DataFrame\n",
        "baseball_clean.info()"
      ],
      "metadata": {
        "colab": {
          "base_uri": "https://localhost:8080/"
        },
        "id": "jnCighJcmVo8",
        "outputId": "fc0eb3c7-f837-4d00-add5-03af1a3307e9"
      },
      "execution_count": null,
      "outputs": [
        {
          "output_type": "stream",
          "name": "stdout",
          "text": [
            "<class 'pandas.core.frame.DataFrame'>\n",
            "Int64Index: 88718 entries, 0 to 96604\n",
            "Data columns (total 5 columns):\n",
            " #   Column  Non-Null Count  Dtype  \n",
            "---  ------  --------------  -----  \n",
            " 0   weight  88718 non-null  float64\n",
            " 1   height  88718 non-null  float64\n",
            " 2   G       88718 non-null  int64  \n",
            " 3   AB      88718 non-null  float64\n",
            " 4   HR      88718 non-null  float64\n",
            "dtypes: float64(4), int64(1)\n",
            "memory usage: 4.1 MB\n"
          ]
        }
      ]
    },
    {
      "cell_type": "code",
      "source": [
        "# Saving the cleaned dataset\n",
        "baseball_clean.to_csv('baseball_clean.csv', index=False)"
      ],
      "metadata": {
        "id": "wP5O_nL0EA-T"
      },
      "execution_count": null,
      "outputs": []
    },
    {
      "cell_type": "code",
      "source": [
        "# Examining the DataFrame\n",
        "baseball_clean.info()"
      ],
      "metadata": {
        "colab": {
          "base_uri": "https://localhost:8080/"
        },
        "id": "SUHbIYvmJJ9l",
        "outputId": "346c40c6-02a7-4197-a8df-a36a52cc4ea8"
      },
      "execution_count": null,
      "outputs": [
        {
          "output_type": "stream",
          "name": "stdout",
          "text": [
            "<class 'pandas.core.frame.DataFrame'>\n",
            "Int64Index: 88718 entries, 0 to 96604\n",
            "Data columns (total 5 columns):\n",
            " #   Column  Non-Null Count  Dtype  \n",
            "---  ------  --------------  -----  \n",
            " 0   weight  88718 non-null  float64\n",
            " 1   height  88718 non-null  float64\n",
            " 2   G       88718 non-null  int64  \n",
            " 3   AB      88718 non-null  float64\n",
            " 4   HR      88718 non-null  float64\n",
            "dtypes: float64(4), int64(1)\n",
            "memory usage: 4.1 MB\n"
          ]
        }
      ]
    },
    {
      "cell_type": "markdown",
      "source": [
        "# Creating a three-layer ML app"
      ],
      "metadata": {
        "id": "GQYWIPlMubcF"
      }
    },
    {
      "cell_type": "markdown",
      "source": [
        "Before continuing, create an instance in AWS and save the key pair in Downloads."
      ],
      "metadata": {
        "id": "imtjTgvG8SHI"
      }
    },
    {
      "cell_type": "markdown",
      "source": [
        "Note that the following code sections are to be added and executed in terminal.\n",
        "\n",
        "Open terminal and run the following commands to:\n",
        "- Open the Downloads folder: cd Downloads\n",
        "- Restrict permission to the key pair: sudo chmod 700 -i key_pair_name.pem\n",
        "- Connect to the AWS instance: ssh ubuntu@Public_IPv4_address -i key_pair_name.pem\n",
        "- Create a directory for the ML app: mkdir baseball\n",
        "- Open the directory for the ML app: cd baseball\n"
      ],
      "metadata": {
        "id": "xZIzhESE6og_"
      }
    },
    {
      "cell_type": "markdown",
      "source": [
        "## Setting up the Data Layer"
      ],
      "metadata": {
        "id": "mNKXBFqpuX-p"
      }
    },
    {
      "cell_type": "markdown",
      "source": [
        "Creating a SQLite database for the baseball dataset based on the cleaned data.\n",
        "\n",
        "In terminal, run the following command to create a new file named **database.py**: vim database.py\n",
        "\n",
        "Paste the following code in the file:"
      ],
      "metadata": {
        "id": "9kgOgPiRux6z"
      }
    },
    {
      "cell_type": "code",
      "source": [
        "#database.py\n",
        "import sqlite3\n",
        "import pandas as pd\n",
        "\n",
        "def init_db():\n",
        "  # Load the cleaned dataset into a Pandas DataFrame\n",
        "  url = \"https://raw.githubusercontent.com/NadiaHolmlund/M6_Group_Assignments/main/Group_Assignment_4/Data/baseball_clean.csv\"\n",
        "  baseball_db = pd.read_csv(url)\n",
        "\n",
        "  # Connect to the SQLite database\n",
        "  conn = sqlite3.connect(\"baseball.db\")\n",
        "\n",
        "  # Save the Pandas DataFrame to the SQLite database\n",
        "  baseball_db.to_sql(\"baseball\", conn, if_exists=\"replace\", index=False)\n",
        "\n",
        "  # Close the connection to the SQLite database\n",
        "  conn.close()\n",
        "\n",
        "if __name__ == '__main__':\n",
        "    init_db()"
      ],
      "metadata": {
        "id": "m3OCFyJMvOoy"
      },
      "execution_count": null,
      "outputs": []
    },
    {
      "cell_type": "markdown",
      "source": [
        "## Setting up the Business Layer with MLFlow"
      ],
      "metadata": {
        "id": "EZaSp2qpvu1b"
      }
    },
    {
      "cell_type": "markdown",
      "source": [
        "Training a machine learning model for HR prediction using the Scikit-learn library.\n",
        "\n",
        "The code also sets up an experiment named \"HR_Prediction_exp_x\" and logs the model's parameters, performance metrics, and the trained model itself as an artifact in MLflow.\n",
        "\n",
        "In terminal, run the following command to create a new file named **ml_model.py**: vim ml_model.py\n",
        "\n",
        "Paste the following code in the file:"
      ],
      "metadata": {
        "id": "hHw_Xdy7vyUZ"
      }
    },
    {
      "cell_type": "code",
      "source": [
        "# ml_model.py\n",
        "import mlflow\n",
        "import mlflow.sklearn\n",
        "from sklearn.model_selection import train_test_split\n",
        "from sklearn.ensemble import RandomForestRegressor\n",
        "import sqlite3\n",
        "import pandas as pd\n",
        "\n",
        "# Connect to the SQLite database\n",
        "conn = sqlite3.connect(\"baseball.db\")\n",
        "\n",
        "# Read data from a table using Pandas in chunks to avoid the terminal killing the training process\n",
        "chunk_size = 1000\n",
        "data_df = pd.DataFrame()\n",
        "for chunk in pd.read_sql(\"SELECT * FROM baseball\", conn, chunksize=chunk_size):\n",
        "    data_df = pd.concat([data_df, chunk])\n",
        "\n",
        "# Define a function to train the model\n",
        "def train_model(data_df):\n",
        "    mlflow.set_experiment(\"HR_Prediction_exp_0\")\n",
        "    X = data_df.drop('HR', axis=1)\n",
        "    y = data_df['HR']\n",
        "\n",
        "    X_train, X_test, y_train, y_test = train_test_split(X, y, test_size=0.3, random_state=42)\n",
        "\n",
        "    RFR = RandomForestRegressor(n_estimators=100, criterion=\"squared_error\")\n",
        "\n",
        "    with mlflow.start_run():\n",
        "        RFR.fit(X_train, y_train)\n",
        "\n",
        "        # Log model parameters\n",
        "        mlflow.log_param(\"n_estimators\", RFR.n_estimators)\n",
        "        mlflow.log_param(\"criterion\", RFR.criterion)\n",
        "\n",
        "        # Log model performance metrics\n",
        "        train_score = RFR.score(X_train, y_train)\n",
        "        test_score = RFR.score(X_test, y_test)\n",
        "        mlflow.log_metric(\"train_score\", train_score)\n",
        "        mlflow.log_metric(\"test_score\", test_score)\n",
        "\n",
        "        # Save the model as an artifact\n",
        "        mlflow.sklearn.log_model(RFR, \"model\")\n",
        "\n",
        "    return RFR, test_score\n",
        "\n",
        "if __name__ == '__main__':\n",
        "    # Call the train_model function for each chunk of data\n",
        "    for chunk in pd.read_sql(\"SELECT * FROM baseball\", conn, chunksize=chunk_size):\n",
        "        RFR, accuracy = train_model(chunk)\n",
        "        print(f\"Model trained with accuracy: {accuracy}\")\n",
        "        mlflow.log_metric(\"accuracy\", accuracy)\n",
        "        mlflow.sklearn.log_model(RFR, \"model\")\n",
        "        mlflow.sklearn.log_model(RFR, \"model\", registered_model_name=\"HR_model\")\n",
        "        mlflow.sklearn.save_model(RFR, \"HR_model\")\n",
        "\n",
        "    # Launch MLflow UI\n",
        "    import os\n",
        "    os.system(\"mlflow ui\")"
      ],
      "metadata": {
        "id": "Xdx88Dilvv39"
      },
      "execution_count": null,
      "outputs": []
    },
    {
      "cell_type": "markdown",
      "source": [
        "## Setting up the Presentation Layer"
      ],
      "metadata": {
        "id": "_9C-2dh-xbAm"
      }
    },
    {
      "cell_type": "markdown",
      "source": [
        "Creating a presentation layer with HTML and CSS.\n",
        "\n",
        "In terminal, run the following command to create a new folder named **templates**: mkdir templates\n",
        "\n",
        "In terminal, run the following command to open the templates folder: cd templates\n",
        "\n",
        "In terminal, run the following command to create a new file named **index.html** inside the templates folder: vim index.html\n",
        "\n",
        "Paste the following code in the file:\n",
        "\n",
        "In terminal, run the following command to exit the templates folder: cd .."
      ],
      "metadata": {
        "id": "tUIREgavxi9d"
      }
    },
    {
      "cell_type": "code",
      "source": [
        "<!DOCTYPE html>\n",
        "<html lang=\"en\">\n",
        "<head>\n",
        "    <meta charset=\"UTF-8\">\n",
        "    <meta name=\"viewport\" content=\"width=device-width, initial-scale=1.0\">\n",
        "    <title>Predict the number of Home-Runs</title>\n",
        "    <link rel=\"stylesheet\" href=\"static/style.css\">\n",
        "</head>\n",
        "<body>\n",
        "    <h1>Predict the number of Home-Runs</h1>\n",
        "    <form action=\"/predict\" method=\"post\">\n",
        "        <label for=\"weight\">Weight:</label>\n",
        "        <input type=\"number\" step=\"10\" id=\"weight\" name=\"weight\" required><br><br>\n",
        "        <label for=\"height\">Height:</label>\n",
        "        <input type=\"number\" step=\"10\" id=\"height\" name=\"height\" required><br><br>\n",
        "        <label for=\"G\">Games:</label>\n",
        "        <input type=\"number\" step=\"10\" id=\"G\" name=\"G\" required><br><br>\n",
        "        <label for=\"AB\">At-Bat:</label>\n",
        "        <input type=\"number\" step=\"10\" id=\"AB\" name=\"AB\" required><br><br>\n",
        "        <input type=\"submit\" value=\"Predict the number of Home-Runs\">\n",
        "    </form>\n",
        "    {% if prediction %}\n",
        "    <h2>Predicted number of Home-Runs: {{ prediction }}</h2>\n",
        "    {% endif %}\n",
        "</body>\n",
        "</html>"
      ],
      "metadata": {
        "id": "laZGX2mFxUjB"
      },
      "execution_count": null,
      "outputs": []
    },
    {
      "cell_type": "markdown",
      "source": [
        "In terminal, create a folder named **static*** and, inside this folder, create a file named **style.css**. Paste the following code:\n",
        "\n",
        "In terminal, run the following command to create a new folder named **static**: mkdir static\n",
        "\n",
        "In terminal, run the following command to open the static folder: cd static\n",
        "\n",
        "In terminal, run the following command to create a new file named **style.css** inside the static folder: vim style.css\n",
        "\n",
        "Paste the following code in the file:\n",
        "\n",
        "In terminal, run the following command to exit the static folder: cd .."
      ],
      "metadata": {
        "id": "Rrhr5T79yOtk"
      }
    },
    {
      "cell_type": "code",
      "source": [
        "body {\n",
        "    font-family: Courier New, Arial, sans-serif;\n",
        "    max-width: 600px;\n",
        "    margin: 0 auto;\n",
        "    padding: 20px;\n",
        "}\n",
        "\n",
        "input[type=number], input[type=submit] {\n",
        "    width: 100%;\n",
        "    padding: 5px;\n",
        "    margin: 5px 0;\n",
        "    box-sizing: border-box;\n",
        "}\n",
        "\n",
        "input[type=submit] {\n",
        "    background-color: #c90076;\n",
        "    color: white;\n",
        "    cursor: pointer;\n",
        "}"
      ],
      "metadata": {
        "id": "L9iBk6PNyRMT"
      },
      "execution_count": null,
      "outputs": []
    },
    {
      "cell_type": "markdown",
      "source": [
        "## Connecting the Layers with Flask"
      ],
      "metadata": {
        "id": "zRspCrR31b_o"
      }
    },
    {
      "cell_type": "markdown",
      "source": [
        "Connecting the data layer, busines layer and presentaiton layer with Flask.\n",
        "\n",
        "In terminal, run the following command to create a new file named **app.py** : vim app.py\n",
        "\n",
        "Paste the following code in the file:"
      ],
      "metadata": {
        "id": "0QI_FZwj1mbK"
      }
    },
    {
      "cell_type": "code",
      "source": [
        "from flask import Flask, render_template, request, jsonify\n",
        "import pickle\n",
        "import sqlite3\n",
        "\n",
        "app = Flask(__name__)\n",
        "\n",
        "with open(\"HR_model/model.pkl\", \"rb\") as f:\n",
        "    model = pickle.load(f)\n",
        "\n",
        "@app.route(\"/\", methods=[\"GET\"])\n",
        "def index():\n",
        "    return render_template(\"index.html\", prediction=None)\n",
        "\n",
        "@app.route(\"/predict\", methods=[\"POST\"])\n",
        "def classify():\n",
        "    weight = float(request.form[\"weight\"])\n",
        "    height = float(request.form[\"height\"])\n",
        "    G = float(request.form[\"G\"])\n",
        "    AB = float(request.form[\"AB\"])\n",
        "\n",
        "    data = [[weight, height, G, AB]]\n",
        "    prediction = model.predict(data)[0]\n",
        "\n",
        "    # Save the data to the database\n",
        "    connection = sqlite3.connect(\"baseball.db\")\n",
        "    cursor = connection.cursor()\n",
        "    cursor.execute(\"INSERT INTO baseball (weight, height, G, AB, HR) VALUES (?, ?, ?, ?, ?)\",\n",
        "                   (weight, height, G, AB, prediction))\n",
        "    connection.commit()\n",
        "    connection.close()\n",
        "\n",
        "    return jsonify({\"prediction\": prediction})\n",
        "\n",
        "\n",
        "if __name__ == \"__main__\":\n",
        "    app.run(debug=True, port=5002)"
      ],
      "metadata": {
        "id": "T-xC9NvS1fNM"
      },
      "execution_count": null,
      "outputs": []
    },
    {
      "cell_type": "markdown",
      "source": [
        "The directory should now include the following files and folders:\n",
        "\n",
        "![picture](https://raw.github.com/NadiaHolmlund/M6_Group_Assignments/main/Group_Assignment_4/Images/Screenshot%202023-04-29%20at%2001.01.07.png)"
      ],
      "metadata": {
        "id": "pQvs0FWCGbJZ"
      }
    },
    {
      "cell_type": "markdown",
      "source": [
        "# Running the scripts in terminal"
      ],
      "metadata": {
        "id": "InWmLhgj31U5"
      }
    },
    {
      "cell_type": "markdown",
      "source": [
        "Run the following commands in terminal to:\n",
        "- Get information about the latest version of packages available: sudo apt update\n",
        "- Install Pip: sudo apt install python3-pip\n",
        "- Install Pandas: pip install pandas\n",
        "- Install MLFlow: pip install mlflow\n",
        "- Install Flask: pip install flask\n",
        "- Run the database script: python3 database.py\n",
        "- Run the model script: python3 ml_model.py\n",
        "- Run the app script: python3 app.py\n",
        "- In a new terminal tab, create a connection to the remote server: ssh -NL 5002:localhost:5002 ubuntu@Public_IPv4_address -i key_pair_name.pem\n",
        "- Navigate to http://127.0.0.1:5002/ in a web browser to interact with the app"
      ],
      "metadata": {
        "id": "1A4Wm6rN35AU"
      }
    },
    {
      "cell_type": "markdown",
      "source": [
        "The app should now be available in localhost as per below:\n",
        "\n",
        "![picture](https://raw.github.com/NadiaHolmlund/M6_Group_Assignments/main/Group_Assignment_4/Images/Screenshot%202023-04-29%20at%2001.09.00.png)\n",
        "\n",
        "![picture](https://raw.github.com/NadiaHolmlund/M6_Group_Assignments/main/Group_Assignment_4/Images/Screenshot%202023-04-29%20at%2001.09.06.png)"
      ],
      "metadata": {
        "id": "5TwQpdi3OZng"
      }
    },
    {
      "cell_type": "markdown",
      "source": [
        "# Dockerizing the App"
      ],
      "metadata": {
        "id": "MlHaC5_GqDFr"
      }
    },
    {
      "cell_type": "markdown",
      "source": [
        "## Step 1: Create a Dockerfile"
      ],
      "metadata": {
        "id": "HumjDcMgtGCt"
      }
    },
    {
      "cell_type": "markdown",
      "source": [
        "In terminal, run the following command to create a new file named **Dockerfile** : vim Dockerfile\n",
        "\n",
        "Paste the following code in the file:"
      ],
      "metadata": {
        "id": "fS_qE7mWtIal"
      }
    },
    {
      "cell_type": "code",
      "source": [
        "# Use an official Python runtime as a parent image\n",
        "FROM python:3.9-slim\n",
        "\n",
        "# Set the working directory\n",
        "WORKDIR /baseball\n",
        "\n",
        "# Copy the requirements file into the container\n",
        "COPY HR_model/requirements.txt /baseball\n",
        "\n",
        "# Install any needed packages specified in requirements.txt\n",
        "RUN pip install --trusted-host pypi.python.org -r requirements.txt\n",
        "\n",
        "# Copy the rest of the application code\n",
        "COPY . /baseball\n",
        "\n",
        "# Make the script executable\n",
        "RUN chmod +x /baseball/app.py\n",
        "\n",
        "# Run the Python scripts sequentially when the container launches\n",
        "CMD python database.py && python ml_model.py && python app.py"
      ],
      "metadata": {
        "id": "vDOtU-J_qUyB"
      },
      "execution_count": null,
      "outputs": []
    },
    {
      "cell_type": "markdown",
      "source": [
        "## Step 2: Build the Docker image"
      ],
      "metadata": {
        "id": "PqBCIR4KtN5d"
      }
    },
    {
      "cell_type": "markdown",
      "source": [
        "In terminal, run the following command to build the Docker image."
      ],
      "metadata": {
        "id": "A7R8Y_Dl2PB0"
      }
    },
    {
      "cell_type": "code",
      "source": [
        "sudo snap install docker"
      ],
      "metadata": {
        "id": "dxmEiss256eC"
      },
      "execution_count": null,
      "outputs": []
    },
    {
      "cell_type": "code",
      "source": [
        "sudo docker build -t baseball_docker ."
      ],
      "metadata": {
        "id": "hX7MGWKYtPkw"
      },
      "execution_count": null,
      "outputs": []
    },
    {
      "cell_type": "markdown",
      "source": [
        "## Step 3: Run the Docker container"
      ],
      "metadata": {
        "id": "h5eYE6_3tVeM"
      }
    },
    {
      "cell_type": "markdown",
      "source": [
        "In terminal, run the following command to run the Docker container:"
      ],
      "metadata": {
        "id": "rVjAGXhT2bgM"
      }
    },
    {
      "cell_type": "code",
      "source": [
        "sudo docker run baseball_docker"
      ],
      "metadata": {
        "id": "9r-NMC7atQlv"
      },
      "execution_count": null,
      "outputs": []
    },
    {
      "cell_type": "markdown",
      "source": [
        "## Step 4: Push the Docker image to Docker Hub"
      ],
      "metadata": {
        "id": "B9dnXQ1htevs"
      }
    },
    {
      "cell_type": "markdown",
      "source": [
        "In terminal, run the following command and log in to your Docker Hub:"
      ],
      "metadata": {
        "id": "7iFhWJIi2kCR"
      }
    },
    {
      "cell_type": "code",
      "source": [
        "sudo docker login"
      ],
      "metadata": {
        "id": "6jT5hU7Bti0j"
      },
      "execution_count": null,
      "outputs": []
    },
    {
      "cell_type": "markdown",
      "source": [
        "In terminal, run the following code to tag the docker image:\n",
        "\n",
        "Note: insert docker_username in the code"
      ],
      "metadata": {
        "id": "-1YU3sjohYRR"
      }
    },
    {
      "cell_type": "code",
      "source": [
        "sudo docker tag baseball_docker docker_username/baseball_docker:v1.0.0"
      ],
      "metadata": {
        "id": "aLhx3MTIg9iF"
      },
      "execution_count": null,
      "outputs": []
    },
    {
      "cell_type": "markdown",
      "source": [
        "In terminal, run the following code to push the Docker image to your Docker Hub repository:\n",
        "\n",
        "Note: insert docker_username in the code"
      ],
      "metadata": {
        "id": "f10Q-hJU3EwX"
      }
    },
    {
      "cell_type": "code",
      "source": [
        "sudo docker push docker_username/baseball_docker:v1.0.0"
      ],
      "metadata": {
        "id": "wBfJ0DGntk5A"
      },
      "execution_count": null,
      "outputs": []
    },
    {
      "cell_type": "markdown",
      "source": [
        "## Step 5: Share the Docker image"
      ],
      "metadata": {
        "id": "qD9aX5sqtnx1"
      }
    },
    {
      "cell_type": "markdown",
      "source": [
        "Share the Docker image URL with a company. They can now pull the image from Docker Hub and run the container on their infrastructure:\n",
        "\n",
        "Note: insert docker_username in the code"
      ],
      "metadata": {
        "id": "egZbX49PtrCD"
      }
    },
    {
      "cell_type": "code",
      "source": [
        "docker pull docker_username/baseball_docker:v1.0.0"
      ],
      "metadata": {
        "id": "Gs1hUo2_tqko"
      },
      "execution_count": null,
      "outputs": []
    },
    {
      "cell_type": "code",
      "source": [
        "docker run -p 8000:8000 docker_username/baseball_docker:v1.0.0"
      ],
      "metadata": {
        "id": "UTagedvN3gec"
      },
      "execution_count": null,
      "outputs": []
    },
    {
      "cell_type": "markdown",
      "source": [
        "The Docker image should now be available on Docker Hub as per below:\n",
        "\n",
        "![picture](https://raw.github.com/NadiaHolmlund/M6_Group_Assignments/main/Group_Assignment_4/Images/Screenshot%202023-04-29%20at%2001.41.40.png)"
      ],
      "metadata": {
        "id": "mWhCkDYqPWAU"
      }
    }
  ]
}