{
  "nbformat": 4,
  "nbformat_minor": 0,
  "metadata": {
    "colab": {
      "provenance": [],
      "toc_visible": true,
      "include_colab_link": true
    },
    "kernelspec": {
      "name": "python3",
      "display_name": "Python 3"
    },
    "language_info": {
      "name": "python"
    }
  },
  "cells": [
    {
      "cell_type": "markdown",
      "metadata": {
        "id": "view-in-github",
        "colab_type": "text"
      },
      "source": [
        "<a href=\"https://colab.research.google.com/github/NadiaHolmlund/M6_Group_Assignments/blob/main/Group_Assignment_2/Group_Assignment_2.ipynb\" target=\"_parent\"><img src=\"https://colab.research.google.com/assets/colab-badge.svg\" alt=\"Open In Colab\"/></a>"
      ]
    },
    {
      "cell_type": "markdown",
      "source": [
        "# Group Assignment 2 - Big Data Work"
      ],
      "metadata": {
        "id": "h2DfLvcWM-Xn"
      }
    },
    {
      "cell_type": "markdown",
      "source": [
        "## Task:\n",
        "- Load the dataset into the platform and perform basic exploratory data analysis (EDA) to understand the structure of the data. This includes checking the dimensions of the dataset, examining the data types, and identifying missing values.\n",
        "\n",
        "- Filter the data to include only the relevant observations. This can be done by removing missing values or filtering based on certain criteria or conditions that are specific to your dataset.\n",
        "\n",
        "- Aggregate the data to obtain summary statistics or metrics. You should run different aggregations using functions such as filter(), select(), groupby(), etc. For example, you can calculate the mean, median, or mode of certain variables to gain a better understanding of the data.\n",
        "\n",
        "- Join the data with another dataset (if available) to perform more complex analysis. This can be done by merging two tables using a common key.\n",
        "\n",
        "- Visualize the data using either Apache Spark’s built-in plotting library or any other visualization tools of your choice. You can plot a histogram, scatter plot, line plot, or any other types of charts that are relevant to your dataset. This will help you to identify trends and patterns in the data and gain insights into the underlying relationships between different variables."
      ],
      "metadata": {
        "id": "g4V4ZHKFNFij"
      }
    },
    {
      "cell_type": "code",
      "execution_count": null,
      "metadata": {
        "colab": {
          "base_uri": "https://localhost:8080/"
        },
        "id": "Ht_-YLXrME2h",
        "outputId": "f96aaff5-3d37-46b0-89f1-7ac6dab49f79"
      },
      "outputs": [
        {
          "output_type": "stream",
          "name": "stdout",
          "text": [
            "\u001b[2K     \u001b[90m━━━━━━━━━━━━━━━━━━━━━━━━━━━━━━━━━━━━━━━━\u001b[0m \u001b[32m16.6/16.6 MB\u001b[0m \u001b[31m49.3 MB/s\u001b[0m eta \u001b[36m0:00:00\u001b[0m\n",
            "\u001b[?25h"
          ]
        }
      ],
      "source": [
        "!pip install polars --q"
      ]
    },
    {
      "cell_type": "code",
      "source": [
        "import polars as pl\n",
        "import pandas as pd"
      ],
      "metadata": {
        "id": "2RaxP4QDMes7"
      },
      "execution_count": null,
      "outputs": []
    },
    {
      "cell_type": "markdown",
      "source": [
        "# importing the data"
      ],
      "metadata": {
        "id": "OKIPtwXdYWI6"
      }
    },
    {
      "cell_type": "markdown",
      "source": [
        "## Importing the Master dataset"
      ],
      "metadata": {
        "id": "dsEfVvidZnNy"
      }
    },
    {
      "cell_type": "code",
      "source": [
        "data = pd.read_csv(\"https://raw.githubusercontent.com/Korsholm22/MLOps/main/archive/Master.csv\", encoding=\"ISO-8859-1\") #importing data with pandas\n",
        "\n",
        "data.to_csv('baseball_master.csv', index=False) #saving it locally\n",
        "\n",
        "baseball_master = pl.read_csv(\"/content/baseball_master.csv\") #reading the file with polar and showing top 5 rows\n",
        "baseball_master.head(5)"
      ],
      "metadata": {
        "colab": {
          "base_uri": "https://localhost:8080/",
          "height": 340
        },
        "id": "pH2PoD8OM8o7",
        "outputId": "3c7bd826-ef0c-435b-b883-fbf05f4f7e87"
      },
      "execution_count": null,
      "outputs": [
        {
          "output_type": "execute_result",
          "data": {
            "text/plain": [
              "shape: (5, 33)\n",
              "┌──────────┬───────────┬───────────┬─────────────┬───┬──────────┬──────────┬───────────┬───────────┐\n",
              "│ lahmanID ┆ playerID  ┆ managerID ┆ hofID       ┆ … ┆ lahman45 ┆ retroID  ┆ holtzID   ┆ bbrefID   │\n",
              "│ ---      ┆ ---       ┆ ---       ┆ ---         ┆   ┆ ID       ┆ ---      ┆ ---       ┆ ---       │\n",
              "│ i64      ┆ str       ┆ str       ┆ str         ┆   ┆ ---      ┆ str      ┆ str       ┆ str       │\n",
              "│          ┆           ┆           ┆             ┆   ┆ str      ┆          ┆           ┆           │\n",
              "╞══════════╪═══════════╪═══════════╪═════════════╪═══╪══════════╪══════════╪═══════════╪═══════════╡\n",
              "│ 1        ┆ aaronha01 ┆ null      ┆ aaronha01h  ┆ … ┆ aaronha0 ┆ aaroh101 ┆ aaronha01 ┆ aaronha01 │\n",
              "│          ┆           ┆           ┆             ┆   ┆ 1        ┆          ┆           ┆           │\n",
              "│ 2        ┆ aaronto01 ┆ null      ┆ null        ┆ … ┆ aaronto0 ┆ aarot101 ┆ aaronto01 ┆ aaronto01 │\n",
              "│          ┆           ┆           ┆             ┆   ┆ 1        ┆          ┆           ┆           │\n",
              "│ 3        ┆ aasedo01  ┆ null      ┆ null        ┆ … ┆ aasedo01 ┆ aased001 ┆ aasedo01  ┆ aasedo01  │\n",
              "│ 4        ┆ abadan01  ┆ null      ┆ null        ┆ … ┆ abadan01 ┆ abada001 ┆ abadan01  ┆ abadan01  │\n",
              "│ 5        ┆ abadijo01 ┆ null      ┆ null        ┆ … ┆ abadijo0 ┆ abadj101 ┆ abadijo01 ┆ abadijo01 │\n",
              "│          ┆           ┆           ┆             ┆   ┆ 1        ┆          ┆           ┆           │\n",
              "└──────────┴───────────┴───────────┴─────────────┴───┴──────────┴──────────┴───────────┴───────────┘"
            ],
            "text/html": [
              "<div><style>\n",
              ".dataframe > thead > tr > th,\n",
              ".dataframe > tbody > tr > td {\n",
              "  text-align: right;\n",
              "}\n",
              "</style>\n",
              "<small>shape: (5, 33)</small><table border=\"1\" class=\"dataframe\"><thead><tr><th>lahmanID</th><th>playerID</th><th>managerID</th><th>hofID</th><th>birthYear</th><th>birthMonth</th><th>birthDay</th><th>birthCountry</th><th>birthState</th><th>birthCity</th><th>deathYear</th><th>deathMonth</th><th>deathDay</th><th>deathCountry</th><th>deathState</th><th>deathCity</th><th>nameFirst</th><th>nameLast</th><th>nameNote</th><th>nameGiven</th><th>nameNick</th><th>weight</th><th>height</th><th>bats</th><th>throws</th><th>debut</th><th>finalGame</th><th>college</th><th>lahman40ID</th><th>lahman45ID</th><th>retroID</th><th>holtzID</th><th>bbrefID</th></tr><tr><td>i64</td><td>str</td><td>str</td><td>str</td><td>f64</td><td>f64</td><td>f64</td><td>str</td><td>str</td><td>str</td><td>f64</td><td>f64</td><td>f64</td><td>str</td><td>str</td><td>str</td><td>str</td><td>str</td><td>str</td><td>str</td><td>str</td><td>f64</td><td>f64</td><td>str</td><td>str</td><td>str</td><td>str</td><td>str</td><td>str</td><td>str</td><td>str</td><td>str</td><td>str</td></tr></thead><tbody><tr><td>1</td><td>&quot;aaronha01&quot;</td><td>null</td><td>&quot;aaronha01h&quot;</td><td>1934.0</td><td>2.0</td><td>5.0</td><td>&quot;USA&quot;</td><td>&quot;AL&quot;</td><td>&quot;Mobile&quot;</td><td>null</td><td>null</td><td>null</td><td>null</td><td>null</td><td>null</td><td>&quot;Hank&quot;</td><td>&quot;Aaron&quot;</td><td>null</td><td>&quot;Henry Louis&quot;</td><td>&quot;Hammer,Hammeri…</td><td>180.0</td><td>72.0</td><td>&quot;R&quot;</td><td>&quot;R&quot;</td><td>&quot;4/13/1954&quot;</td><td>&quot;10/3/1976&quot;</td><td>null</td><td>&quot;aaronha01&quot;</td><td>&quot;aaronha01&quot;</td><td>&quot;aaroh101&quot;</td><td>&quot;aaronha01&quot;</td><td>&quot;aaronha01&quot;</td></tr><tr><td>2</td><td>&quot;aaronto01&quot;</td><td>null</td><td>null</td><td>1939.0</td><td>8.0</td><td>5.0</td><td>&quot;USA&quot;</td><td>&quot;AL&quot;</td><td>&quot;Mobile&quot;</td><td>1984.0</td><td>8.0</td><td>16.0</td><td>&quot;USA&quot;</td><td>&quot;GA&quot;</td><td>&quot;Atlanta&quot;</td><td>&quot;Tommie&quot;</td><td>&quot;Aaron&quot;</td><td>null</td><td>&quot;Tommie Lee&quot;</td><td>null</td><td>190.0</td><td>75.0</td><td>&quot;R&quot;</td><td>&quot;R&quot;</td><td>&quot;4/10/1962&quot;</td><td>&quot;9/26/1971&quot;</td><td>null</td><td>&quot;aaronto01&quot;</td><td>&quot;aaronto01&quot;</td><td>&quot;aarot101&quot;</td><td>&quot;aaronto01&quot;</td><td>&quot;aaronto01&quot;</td></tr><tr><td>3</td><td>&quot;aasedo01&quot;</td><td>null</td><td>null</td><td>1954.0</td><td>9.0</td><td>8.0</td><td>&quot;USA&quot;</td><td>&quot;CA&quot;</td><td>&quot;Orange&quot;</td><td>null</td><td>null</td><td>null</td><td>null</td><td>null</td><td>null</td><td>&quot;Don&quot;</td><td>&quot;Aase&quot;</td><td>null</td><td>&quot;Donald William…</td><td>null</td><td>190.0</td><td>75.0</td><td>&quot;R&quot;</td><td>&quot;R&quot;</td><td>&quot;7/26/1977&quot;</td><td>&quot;10/3/1990&quot;</td><td>&quot;Cal St. Fuller…</td><td>&quot;aasedo01&quot;</td><td>&quot;aasedo01&quot;</td><td>&quot;aased001&quot;</td><td>&quot;aasedo01&quot;</td><td>&quot;aasedo01&quot;</td></tr><tr><td>4</td><td>&quot;abadan01&quot;</td><td>null</td><td>null</td><td>1972.0</td><td>8.0</td><td>25.0</td><td>&quot;USA&quot;</td><td>&quot;FL&quot;</td><td>&quot;West Palm Beac…</td><td>null</td><td>null</td><td>null</td><td>null</td><td>null</td><td>null</td><td>&quot;Andy&quot;</td><td>&quot;Abad&quot;</td><td>null</td><td>null</td><td>null</td><td>184.0</td><td>73.0</td><td>&quot;L&quot;</td><td>&quot;L&quot;</td><td>&quot;9/10/2001&quot;</td><td>&quot;4/13/2006&quot;</td><td>&quot;Middle Georgia…</td><td>&quot;abadan01&quot;</td><td>&quot;abadan01&quot;</td><td>&quot;abada001&quot;</td><td>&quot;abadan01&quot;</td><td>&quot;abadan01&quot;</td></tr><tr><td>5</td><td>&quot;abadijo01&quot;</td><td>null</td><td>null</td><td>1854.0</td><td>11.0</td><td>4.0</td><td>&quot;USA&quot;</td><td>&quot;PA&quot;</td><td>&quot;Philadelphia&quot;</td><td>1905.0</td><td>5.0</td><td>17.0</td><td>&quot;USA&quot;</td><td>&quot;NJ&quot;</td><td>&quot;Pemberton&quot;</td><td>&quot;John&quot;</td><td>&quot;Abadie&quot;</td><td>null</td><td>&quot;John&quot;</td><td>null</td><td>192.0</td><td>72.0</td><td>&quot;R&quot;</td><td>&quot;R&quot;</td><td>&quot;4/26/1875&quot;</td><td>&quot;6/10/1875&quot;</td><td>null</td><td>&quot;abadijo01&quot;</td><td>&quot;abadijo01&quot;</td><td>&quot;abadj101&quot;</td><td>&quot;abadijo01&quot;</td><td>&quot;abadijo01&quot;</td></tr></tbody></table></div>"
            ]
          },
          "metadata": {},
          "execution_count": 45
        }
      ]
    },
    {
      "cell_type": "code",
      "source": [
        "rowCount_master = baseball_master.shape[0]\n",
        "print(\"Total number of rows in the dataset:\", rowCount_master)"
      ],
      "metadata": {
        "colab": {
          "base_uri": "https://localhost:8080/"
        },
        "id": "oni5b2pmapJ9",
        "outputId": "4486457d-320f-404b-8013-388a61dae000"
      },
      "execution_count": null,
      "outputs": [
        {
          "output_type": "stream",
          "name": "stdout",
          "text": [
            "Total number of rows in the dataset: 18125\n"
          ]
        }
      ]
    },
    {
      "cell_type": "code",
      "source": [
        "baseball_master.columns"
      ],
      "metadata": {
        "colab": {
          "base_uri": "https://localhost:8080/"
        },
        "id": "vp-AzheDa-VJ",
        "outputId": "e5f20ab5-6eeb-46e7-b43f-fe87641a25df"
      },
      "execution_count": null,
      "outputs": [
        {
          "output_type": "execute_result",
          "data": {
            "text/plain": [
              "['lahmanID',\n",
              " 'playerID',\n",
              " 'managerID',\n",
              " 'hofID',\n",
              " 'birthYear',\n",
              " 'birthMonth',\n",
              " 'birthDay',\n",
              " 'birthCountry',\n",
              " 'birthState',\n",
              " 'birthCity',\n",
              " 'deathYear',\n",
              " 'deathMonth',\n",
              " 'deathDay',\n",
              " 'deathCountry',\n",
              " 'deathState',\n",
              " 'deathCity',\n",
              " 'nameFirst',\n",
              " 'nameLast',\n",
              " 'nameNote',\n",
              " 'nameGiven',\n",
              " 'nameNick',\n",
              " 'weight',\n",
              " 'height',\n",
              " 'bats',\n",
              " 'throws',\n",
              " 'debut',\n",
              " 'finalGame',\n",
              " 'college',\n",
              " 'lahman40ID',\n",
              " 'lahman45ID',\n",
              " 'retroID',\n",
              " 'holtzID',\n",
              " 'bbrefID']"
            ]
          },
          "metadata": {},
          "execution_count": 52
        }
      ]
    },
    {
      "cell_type": "markdown",
      "source": [
        "## Importing the batting dataset"
      ],
      "metadata": {
        "id": "BDfxPnwKZr03"
      }
    },
    {
      "cell_type": "code",
      "source": [
        "data = pd.read_csv(\"https://raw.githubusercontent.com/Korsholm22/MLOps/main/archive/Batting.csv\", encoding=\"ISO-8859-1\") #importing data with pandas\n",
        "\n",
        "data.to_csv('baseball_batting.csv', index=False) #saving it locally\n",
        "\n",
        "baseball_batting = pl.read_csv(\"/content/baseball_batting.csv\") #reading the file with polar and showing top 5 rows\n",
        "baseball_batting.head(5)"
      ],
      "metadata": {
        "colab": {
          "base_uri": "https://localhost:8080/",
          "height": 252
        },
        "id": "-BT_kgLTZt6I",
        "outputId": "73cd1f53-32e7-4c10-e157-8a6c7adf4bf5"
      },
      "execution_count": null,
      "outputs": [
        {
          "output_type": "execute_result",
          "data": {
            "text/plain": [
              "shape: (5, 24)\n",
              "┌───────────┬────────┬───────┬────────┬───┬─────┬─────┬──────┬───────┐\n",
              "│ playerID  ┆ yearID ┆ stint ┆ teamID ┆ … ┆ SH  ┆ SF  ┆ GIDP ┆ G_old │\n",
              "│ ---       ┆ ---    ┆ ---   ┆ ---    ┆   ┆ --- ┆ --- ┆ ---  ┆ ---   │\n",
              "│ str       ┆ i64    ┆ i64   ┆ str    ┆   ┆ f64 ┆ f64 ┆ f64  ┆ f64   │\n",
              "╞═══════════╪════════╪═══════╪════════╪═══╪═════╪═════╪══════╪═══════╡\n",
              "│ aardsda01 ┆ 2004   ┆ 1     ┆ SFN    ┆ … ┆ 0.0 ┆ 0.0 ┆ 0.0  ┆ 11.0  │\n",
              "│ aardsda01 ┆ 2006   ┆ 1     ┆ CHN    ┆ … ┆ 1.0 ┆ 0.0 ┆ 0.0  ┆ 45.0  │\n",
              "│ aardsda01 ┆ 2007   ┆ 1     ┆ CHA    ┆ … ┆ 0.0 ┆ 0.0 ┆ 0.0  ┆ 2.0   │\n",
              "│ aardsda01 ┆ 2008   ┆ 1     ┆ BOS    ┆ … ┆ 0.0 ┆ 0.0 ┆ 0.0  ┆ 5.0   │\n",
              "│ aardsda01 ┆ 2009   ┆ 1     ┆ SEA    ┆ … ┆ 0.0 ┆ 0.0 ┆ 0.0  ┆ null  │\n",
              "└───────────┴────────┴───────┴────────┴───┴─────┴─────┴──────┴───────┘"
            ],
            "text/html": [
              "<div><style>\n",
              ".dataframe > thead > tr > th,\n",
              ".dataframe > tbody > tr > td {\n",
              "  text-align: right;\n",
              "}\n",
              "</style>\n",
              "<small>shape: (5, 24)</small><table border=\"1\" class=\"dataframe\"><thead><tr><th>playerID</th><th>yearID</th><th>stint</th><th>teamID</th><th>lgID</th><th>G</th><th>G_batting</th><th>AB</th><th>R</th><th>H</th><th>2B</th><th>3B</th><th>HR</th><th>RBI</th><th>SB</th><th>CS</th><th>BB</th><th>SO</th><th>IBB</th><th>HBP</th><th>SH</th><th>SF</th><th>GIDP</th><th>G_old</th></tr><tr><td>str</td><td>i64</td><td>i64</td><td>str</td><td>str</td><td>i64</td><td>f64</td><td>f64</td><td>f64</td><td>f64</td><td>f64</td><td>f64</td><td>f64</td><td>f64</td><td>f64</td><td>f64</td><td>f64</td><td>f64</td><td>f64</td><td>f64</td><td>f64</td><td>f64</td><td>f64</td><td>f64</td></tr></thead><tbody><tr><td>&quot;aardsda01&quot;</td><td>2004</td><td>1</td><td>&quot;SFN&quot;</td><td>&quot;NL&quot;</td><td>11</td><td>11.0</td><td>0.0</td><td>0.0</td><td>0.0</td><td>0.0</td><td>0.0</td><td>0.0</td><td>0.0</td><td>0.0</td><td>0.0</td><td>0.0</td><td>0.0</td><td>0.0</td><td>0.0</td><td>0.0</td><td>0.0</td><td>0.0</td><td>11.0</td></tr><tr><td>&quot;aardsda01&quot;</td><td>2006</td><td>1</td><td>&quot;CHN&quot;</td><td>&quot;NL&quot;</td><td>45</td><td>43.0</td><td>2.0</td><td>0.0</td><td>0.0</td><td>0.0</td><td>0.0</td><td>0.0</td><td>0.0</td><td>0.0</td><td>0.0</td><td>0.0</td><td>0.0</td><td>0.0</td><td>0.0</td><td>1.0</td><td>0.0</td><td>0.0</td><td>45.0</td></tr><tr><td>&quot;aardsda01&quot;</td><td>2007</td><td>1</td><td>&quot;CHA&quot;</td><td>&quot;AL&quot;</td><td>25</td><td>2.0</td><td>0.0</td><td>0.0</td><td>0.0</td><td>0.0</td><td>0.0</td><td>0.0</td><td>0.0</td><td>0.0</td><td>0.0</td><td>0.0</td><td>0.0</td><td>0.0</td><td>0.0</td><td>0.0</td><td>0.0</td><td>0.0</td><td>2.0</td></tr><tr><td>&quot;aardsda01&quot;</td><td>2008</td><td>1</td><td>&quot;BOS&quot;</td><td>&quot;AL&quot;</td><td>47</td><td>5.0</td><td>1.0</td><td>0.0</td><td>0.0</td><td>0.0</td><td>0.0</td><td>0.0</td><td>0.0</td><td>0.0</td><td>0.0</td><td>0.0</td><td>1.0</td><td>0.0</td><td>0.0</td><td>0.0</td><td>0.0</td><td>0.0</td><td>5.0</td></tr><tr><td>&quot;aardsda01&quot;</td><td>2009</td><td>1</td><td>&quot;SEA&quot;</td><td>&quot;AL&quot;</td><td>73</td><td>3.0</td><td>0.0</td><td>0.0</td><td>0.0</td><td>0.0</td><td>0.0</td><td>0.0</td><td>0.0</td><td>0.0</td><td>0.0</td><td>0.0</td><td>0.0</td><td>0.0</td><td>0.0</td><td>0.0</td><td>0.0</td><td>0.0</td><td>null</td></tr></tbody></table></div>"
            ]
          },
          "metadata": {},
          "execution_count": 46
        }
      ]
    },
    {
      "cell_type": "code",
      "source": [
        "rowCount_batting = baseball_batting.shape[0]\n",
        "print(\"Total number of rows in the dataset:\", rowCount_batting)"
      ],
      "metadata": {
        "colab": {
          "base_uri": "https://localhost:8080/"
        },
        "id": "2vGjYa0datjw",
        "outputId": "94855eeb-2d6c-4d69-981e-495ee23e731c"
      },
      "execution_count": null,
      "outputs": [
        {
          "output_type": "stream",
          "name": "stdout",
          "text": [
            "Total number of rows in the dataset: 96600\n"
          ]
        }
      ]
    },
    {
      "cell_type": "code",
      "source": [
        "baseball_batting.columns"
      ],
      "metadata": {
        "colab": {
          "base_uri": "https://localhost:8080/"
        },
        "id": "5roAEyaJbAtD",
        "outputId": "cb960a23-c9ec-44f1-eb4b-d78aa95be190"
      },
      "execution_count": null,
      "outputs": [
        {
          "output_type": "execute_result",
          "data": {
            "text/plain": [
              "['playerID',\n",
              " 'yearID',\n",
              " 'stint',\n",
              " 'teamID',\n",
              " 'lgID',\n",
              " 'G',\n",
              " 'G_batting',\n",
              " 'AB',\n",
              " 'R',\n",
              " 'H',\n",
              " '2B',\n",
              " '3B',\n",
              " 'HR',\n",
              " 'RBI',\n",
              " 'SB',\n",
              " 'CS',\n",
              " 'BB',\n",
              " 'SO',\n",
              " 'IBB',\n",
              " 'HBP',\n",
              " 'SH',\n",
              " 'SF',\n",
              " 'GIDP',\n",
              " 'G_old']"
            ]
          },
          "metadata": {},
          "execution_count": 53
        }
      ]
    },
    {
      "cell_type": "markdown",
      "source": [
        "## Merging the 2 datasets"
      ],
      "metadata": {
        "id": "Vcu_CH6rZ5gR"
      }
    },
    {
      "cell_type": "code",
      "source": [
        "baseball = baseball_master.join(baseball_batting, on = 'playerID')"
      ],
      "metadata": {
        "id": "NNtwHNXcaTKU"
      },
      "execution_count": null,
      "outputs": []
    },
    {
      "cell_type": "code",
      "source": [
        "print(baseball.head(5))"
      ],
      "metadata": {
        "colab": {
          "base_uri": "https://localhost:8080/"
        },
        "id": "QXGIoTkSaeyK",
        "outputId": "f61bd532-e675-4ffe-cdfa-f608a1a7470f"
      },
      "execution_count": null,
      "outputs": [
        {
          "output_type": "stream",
          "name": "stdout",
          "text": [
            "shape: (5, 56)\n",
            "┌──────────┬───────────┬───────────┬───────┬───┬─────┬─────┬──────┬───────┐\n",
            "│ lahmanID ┆ playerID  ┆ managerID ┆ hofID ┆ … ┆ SH  ┆ SF  ┆ GIDP ┆ G_old │\n",
            "│ ---      ┆ ---       ┆ ---       ┆ ---   ┆   ┆ --- ┆ --- ┆ ---  ┆ ---   │\n",
            "│ i64      ┆ str       ┆ str       ┆ str   ┆   ┆ f64 ┆ f64 ┆ f64  ┆ f64   │\n",
            "╞══════════╪═══════════╪═══════════╪═══════╪═══╪═════╪═════╪══════╪═══════╡\n",
            "│ 17157    ┆ aardsda01 ┆ null      ┆ null  ┆ … ┆ 0.0 ┆ 0.0 ┆ 0.0  ┆ 11.0  │\n",
            "│ 17157    ┆ aardsda01 ┆ null      ┆ null  ┆ … ┆ 1.0 ┆ 0.0 ┆ 0.0  ┆ 45.0  │\n",
            "│ 17157    ┆ aardsda01 ┆ null      ┆ null  ┆ … ┆ 0.0 ┆ 0.0 ┆ 0.0  ┆ 2.0   │\n",
            "│ 17157    ┆ aardsda01 ┆ null      ┆ null  ┆ … ┆ 0.0 ┆ 0.0 ┆ 0.0  ┆ 5.0   │\n",
            "│ 17157    ┆ aardsda01 ┆ null      ┆ null  ┆ … ┆ 0.0 ┆ 0.0 ┆ 0.0  ┆ null  │\n",
            "└──────────┴───────────┴───────────┴───────┴───┴─────┴─────┴──────┴───────┘\n"
          ]
        }
      ]
    },
    {
      "cell_type": "code",
      "source": [
        "rowCount = baseball.shape[0]\n",
        "print(\"Total number of rows in the dataset:\", rowCount)"
      ],
      "metadata": {
        "colab": {
          "base_uri": "https://localhost:8080/"
        },
        "id": "vYo4wEXKaj8A",
        "outputId": "911624c0-1f10-4c1d-9f66-20931193286b"
      },
      "execution_count": null,
      "outputs": [
        {
          "output_type": "stream",
          "name": "stdout",
          "text": [
            "Total number of rows in the dataset: 96609\n"
          ]
        }
      ]
    },
    {
      "cell_type": "code",
      "source": [
        "baseball.columns"
      ],
      "metadata": {
        "colab": {
          "base_uri": "https://localhost:8080/"
        },
        "id": "xfYyQL_qVYi_",
        "outputId": "c4ae9094-4dc5-4045-cbdd-304a8b011ecb"
      },
      "execution_count": null,
      "outputs": [
        {
          "output_type": "execute_result",
          "data": {
            "text/plain": [
              "['lahmanID',\n",
              " 'playerID',\n",
              " 'managerID',\n",
              " 'hofID',\n",
              " 'birthYear',\n",
              " 'birthMonth',\n",
              " 'birthDay',\n",
              " 'birthCountry',\n",
              " 'birthState',\n",
              " 'birthCity',\n",
              " 'deathYear',\n",
              " 'deathMonth',\n",
              " 'deathDay',\n",
              " 'deathCountry',\n",
              " 'deathState',\n",
              " 'deathCity',\n",
              " 'nameFirst',\n",
              " 'nameLast',\n",
              " 'nameNote',\n",
              " 'nameGiven',\n",
              " 'nameNick',\n",
              " 'weight',\n",
              " 'height',\n",
              " 'bats',\n",
              " 'throws',\n",
              " 'debut',\n",
              " 'finalGame',\n",
              " 'college',\n",
              " 'lahman40ID',\n",
              " 'lahman45ID',\n",
              " 'retroID',\n",
              " 'holtzID',\n",
              " 'bbrefID',\n",
              " 'yearID',\n",
              " 'stint',\n",
              " 'teamID',\n",
              " 'lgID',\n",
              " 'G',\n",
              " 'G_batting',\n",
              " 'AB',\n",
              " 'R',\n",
              " 'H',\n",
              " '2B',\n",
              " '3B',\n",
              " 'HR',\n",
              " 'RBI',\n",
              " 'SB',\n",
              " 'CS',\n",
              " 'BB',\n",
              " 'SO',\n",
              " 'IBB',\n",
              " 'HBP',\n",
              " 'SH',\n",
              " 'SF',\n",
              " 'GIDP',\n",
              " 'G_old']"
            ]
          },
          "metadata": {},
          "execution_count": 54
        }
      ]
    },
    {
      "cell_type": "markdown",
      "source": [
        "# EDA"
      ],
      "metadata": {
        "id": "KsqZgAF5bKJ6"
      }
    },
    {
      "cell_type": "code",
      "source": [
        "baseball.select(\n",
        "    pl.col(['nameFirst', 'nameLast','HR']).sort_by('HR', descending=True)    \n",
        ")"
      ],
      "metadata": {
        "colab": {
          "base_uri": "https://localhost:8080/",
          "height": 872
        },
        "id": "1Gl-Z7L9dmdh",
        "outputId": "2c1050dd-3e8b-4ecb-90bf-b89f6fd8e5e5"
      },
      "execution_count": null,
      "outputs": [
        {
          "output_type": "execute_result",
          "data": {
            "text/plain": [
              "shape: (96609, 3)\n",
              "┌───────────┬──────────┬──────┐\n",
              "│ nameFirst ┆ nameLast ┆ HR   │\n",
              "│ ---       ┆ ---      ┆ ---  │\n",
              "│ str       ┆ str      ┆ f64  │\n",
              "╞═══════════╪══════════╪══════╡\n",
              "│ Barry     ┆ Bonds    ┆ 73.0 │\n",
              "│ Mark      ┆ McGwire  ┆ 70.0 │\n",
              "│ Sammy     ┆ Sosa     ┆ 66.0 │\n",
              "│ Mark      ┆ McGwire  ┆ 65.0 │\n",
              "│ …         ┆ …        ┆ …    │\n",
              "│ Don       ┆ Aase     ┆ null │\n",
              "│ Don       ┆ Aase     ┆ null │\n",
              "│ Don       ┆ Aase     ┆ null │\n",
              "│ David     ┆ Aardsma  ┆ null │\n",
              "└───────────┴──────────┴──────┘"
            ],
            "text/html": [
              "<div><style>\n",
              ".dataframe > thead > tr > th,\n",
              ".dataframe > tbody > tr > td {\n",
              "  text-align: right;\n",
              "}\n",
              "</style>\n",
              "<small>shape: (96609, 3)</small><table border=\"1\" class=\"dataframe\"><thead><tr><th>nameFirst</th><th>nameLast</th><th>HR</th></tr><tr><td>str</td><td>str</td><td>f64</td></tr></thead><tbody><tr><td>&quot;Barry&quot;</td><td>&quot;Bonds&quot;</td><td>73.0</td></tr><tr><td>&quot;Mark&quot;</td><td>&quot;McGwire&quot;</td><td>70.0</td></tr><tr><td>&quot;Sammy&quot;</td><td>&quot;Sosa&quot;</td><td>66.0</td></tr><tr><td>&quot;Mark&quot;</td><td>&quot;McGwire&quot;</td><td>65.0</td></tr><tr><td>&quot;Sammy&quot;</td><td>&quot;Sosa&quot;</td><td>64.0</td></tr><tr><td>&quot;Sammy&quot;</td><td>&quot;Sosa&quot;</td><td>63.0</td></tr><tr><td>&quot;Roger&quot;</td><td>&quot;Maris&quot;</td><td>61.0</td></tr><tr><td>&quot;Babe&quot;</td><td>&quot;Ruth&quot;</td><td>60.0</td></tr><tr><td>&quot;Babe&quot;</td><td>&quot;Ruth&quot;</td><td>59.0</td></tr><tr><td>&quot;Jimmie&quot;</td><td>&quot;Foxx&quot;</td><td>58.0</td></tr><tr><td>&quot;Hank&quot;</td><td>&quot;Greenberg&quot;</td><td>58.0</td></tr><tr><td>&quot;Ryan&quot;</td><td>&quot;Howard&quot;</td><td>58.0</td></tr><tr><td>&hellip;</td><td>&hellip;</td><td>&hellip;</td></tr><tr><td>&quot;Don&quot;</td><td>&quot;Aase&quot;</td><td>null</td></tr><tr><td>&quot;Don&quot;</td><td>&quot;Aase&quot;</td><td>null</td></tr><tr><td>&quot;Don&quot;</td><td>&quot;Aase&quot;</td><td>null</td></tr><tr><td>&quot;Don&quot;</td><td>&quot;Aase&quot;</td><td>null</td></tr><tr><td>&quot;Don&quot;</td><td>&quot;Aase&quot;</td><td>null</td></tr><tr><td>&quot;Don&quot;</td><td>&quot;Aase&quot;</td><td>null</td></tr><tr><td>&quot;Don&quot;</td><td>&quot;Aase&quot;</td><td>null</td></tr><tr><td>&quot;Don&quot;</td><td>&quot;Aase&quot;</td><td>null</td></tr><tr><td>&quot;Don&quot;</td><td>&quot;Aase&quot;</td><td>null</td></tr><tr><td>&quot;Don&quot;</td><td>&quot;Aase&quot;</td><td>null</td></tr><tr><td>&quot;Don&quot;</td><td>&quot;Aase&quot;</td><td>null</td></tr><tr><td>&quot;David&quot;</td><td>&quot;Aardsma&quot;</td><td>null</td></tr></tbody></table></div>"
            ]
          },
          "metadata": {},
          "execution_count": 62
        }
      ]
    },
    {
      "cell_type": "code",
      "source": [
        "baseball.filter(\n",
        "    (pl.col('college') == 'UCLA') &\n",
        "    (pl.col('HR') >= 30) &\n",
        "    (pl.col('yearID') >= 2000)\n",
        "\n",
        ")"
      ],
      "metadata": {
        "colab": {
          "base_uri": "https://localhost:8080/",
          "height": 292
        },
        "id": "OdvbZpJ1eBF3",
        "outputId": "4b7d58aa-7efe-46e5-a457-c159d5dbc584"
      },
      "execution_count": null,
      "outputs": [
        {
          "output_type": "execute_result",
          "data": {
            "text/plain": [
              "shape: (4, 56)\n",
              "┌──────────┬───────────┬───────────┬────────────┬───┬─────┬──────┬──────┬───────┐\n",
              "│ lahmanID ┆ playerID  ┆ managerID ┆ hofID      ┆ … ┆ SH  ┆ SF   ┆ GIDP ┆ G_old │\n",
              "│ ---      ┆ ---       ┆ ---       ┆ ---        ┆   ┆ --- ┆ ---  ┆ ---  ┆ ---   │\n",
              "│ i64      ┆ str       ┆ str       ┆ str        ┆   ┆ f64 ┆ f64  ┆ f64  ┆ f64   │\n",
              "╞══════════╪═══════════╪═══════════╪════════════╪═══╪═════╪══════╪══════╪═══════╡\n",
              "│ 7285     ┆ karroer01 ┆ null      ┆ karroer01h ┆ … ┆ 0.0 ┆ 12.0 ┆ 18.0 ┆ 155.0 │\n",
              "│ 16719    ┆ utleych01 ┆ null      ┆ null       ┆ … ┆ 0.0 ┆ 4.0  ┆ 9.0  ┆ 160.0 │\n",
              "│ 16719    ┆ utleych01 ┆ null      ┆ null       ┆ … ┆ 1.0 ┆ 8.0  ┆ 9.0  ┆ 159.0 │\n",
              "│ 16719    ┆ utleych01 ┆ null      ┆ null       ┆ … ┆ 0.0 ┆ 4.0  ┆ 5.0  ┆ null  │\n",
              "└──────────┴───────────┴───────────┴────────────┴───┴─────┴──────┴──────┴───────┘"
            ],
            "text/html": [
              "<div><style>\n",
              ".dataframe > thead > tr > th,\n",
              ".dataframe > tbody > tr > td {\n",
              "  text-align: right;\n",
              "}\n",
              "</style>\n",
              "<small>shape: (4, 56)</small><table border=\"1\" class=\"dataframe\"><thead><tr><th>lahmanID</th><th>playerID</th><th>managerID</th><th>hofID</th><th>birthYear</th><th>birthMonth</th><th>birthDay</th><th>birthCountry</th><th>birthState</th><th>birthCity</th><th>deathYear</th><th>deathMonth</th><th>deathDay</th><th>deathCountry</th><th>deathState</th><th>deathCity</th><th>nameFirst</th><th>nameLast</th><th>nameNote</th><th>nameGiven</th><th>nameNick</th><th>weight</th><th>height</th><th>bats</th><th>throws</th><th>debut</th><th>finalGame</th><th>college</th><th>lahman40ID</th><th>lahman45ID</th><th>retroID</th><th>holtzID</th><th>bbrefID</th><th>yearID</th><th>stint</th><th>teamID</th><th>lgID</th><th>G</th><th>G_batting</th><th>AB</th><th>R</th><th>H</th><th>2B</th><th>3B</th><th>HR</th><th>RBI</th><th>SB</th><th>CS</th><th>BB</th><th>SO</th><th>IBB</th><th>HBP</th><th>SH</th><th>SF</th><th>GIDP</th><th>G_old</th></tr><tr><td>i64</td><td>str</td><td>str</td><td>str</td><td>f64</td><td>f64</td><td>f64</td><td>str</td><td>str</td><td>str</td><td>f64</td><td>f64</td><td>f64</td><td>str</td><td>str</td><td>str</td><td>str</td><td>str</td><td>str</td><td>str</td><td>str</td><td>f64</td><td>f64</td><td>str</td><td>str</td><td>str</td><td>str</td><td>str</td><td>str</td><td>str</td><td>str</td><td>str</td><td>str</td><td>i64</td><td>i64</td><td>str</td><td>str</td><td>i64</td><td>f64</td><td>f64</td><td>f64</td><td>f64</td><td>f64</td><td>f64</td><td>f64</td><td>f64</td><td>f64</td><td>f64</td><td>f64</td><td>f64</td><td>f64</td><td>f64</td><td>f64</td><td>f64</td><td>f64</td><td>f64</td></tr></thead><tbody><tr><td>7285</td><td>&quot;karroer01&quot;</td><td>null</td><td>&quot;karroer01h&quot;</td><td>1967.0</td><td>11.0</td><td>4.0</td><td>&quot;USA&quot;</td><td>&quot;NJ&quot;</td><td>&quot;Hackensack&quot;</td><td>null</td><td>null</td><td>null</td><td>null</td><td>null</td><td>null</td><td>&quot;Eric&quot;</td><td>&quot;Karros&quot;</td><td>null</td><td>&quot;Eric Peter&quot;</td><td>null</td><td>205.0</td><td>76.0</td><td>&quot;R&quot;</td><td>&quot;R&quot;</td><td>&quot;9/1/1991&quot;</td><td>&quot;7/21/2004&quot;</td><td>&quot;UCLA&quot;</td><td>&quot;karroer01&quot;</td><td>&quot;karroer01&quot;</td><td>&quot;karre001&quot;</td><td>&quot;karroer01&quot;</td><td>&quot;karroer01&quot;</td><td>2000</td><td>1</td><td>&quot;LAN&quot;</td><td>&quot;NL&quot;</td><td>155</td><td>155.0</td><td>584.0</td><td>84.0</td><td>146.0</td><td>29.0</td><td>0.0</td><td>31.0</td><td>106.0</td><td>4.0</td><td>3.0</td><td>63.0</td><td>122.0</td><td>2.0</td><td>4.0</td><td>0.0</td><td>12.0</td><td>18.0</td><td>155.0</td></tr><tr><td>16719</td><td>&quot;utleych01&quot;</td><td>null</td><td>null</td><td>1978.0</td><td>12.0</td><td>17.0</td><td>&quot;USA&quot;</td><td>&quot;CA&quot;</td><td>&quot;Pasadena&quot;</td><td>null</td><td>null</td><td>null</td><td>null</td><td>null</td><td>null</td><td>&quot;Chase&quot;</td><td>&quot;Utley&quot;</td><td>null</td><td>&quot;Chase Cameron&quot;</td><td>null</td><td>190.0</td><td>73.0</td><td>&quot;L&quot;</td><td>&quot;R&quot;</td><td>&quot;4/4/2003&quot;</td><td>null</td><td>&quot;UCLA&quot;</td><td>null</td><td>null</td><td>&quot;utlec001&quot;</td><td>null</td><td>&quot;utleych01&quot;</td><td>2006</td><td>1</td><td>&quot;PHI&quot;</td><td>&quot;NL&quot;</td><td>160</td><td>160.0</td><td>658.0</td><td>131.0</td><td>203.0</td><td>40.0</td><td>4.0</td><td>32.0</td><td>102.0</td><td>15.0</td><td>4.0</td><td>63.0</td><td>132.0</td><td>1.0</td><td>14.0</td><td>0.0</td><td>4.0</td><td>9.0</td><td>160.0</td></tr><tr><td>16719</td><td>&quot;utleych01&quot;</td><td>null</td><td>null</td><td>1978.0</td><td>12.0</td><td>17.0</td><td>&quot;USA&quot;</td><td>&quot;CA&quot;</td><td>&quot;Pasadena&quot;</td><td>null</td><td>null</td><td>null</td><td>null</td><td>null</td><td>null</td><td>&quot;Chase&quot;</td><td>&quot;Utley&quot;</td><td>null</td><td>&quot;Chase Cameron&quot;</td><td>null</td><td>190.0</td><td>73.0</td><td>&quot;L&quot;</td><td>&quot;R&quot;</td><td>&quot;4/4/2003&quot;</td><td>null</td><td>&quot;UCLA&quot;</td><td>null</td><td>null</td><td>&quot;utlec001&quot;</td><td>null</td><td>&quot;utleych01&quot;</td><td>2008</td><td>1</td><td>&quot;PHI&quot;</td><td>&quot;NL&quot;</td><td>159</td><td>159.0</td><td>607.0</td><td>113.0</td><td>177.0</td><td>41.0</td><td>4.0</td><td>33.0</td><td>104.0</td><td>14.0</td><td>2.0</td><td>64.0</td><td>104.0</td><td>14.0</td><td>27.0</td><td>1.0</td><td>8.0</td><td>9.0</td><td>159.0</td></tr><tr><td>16719</td><td>&quot;utleych01&quot;</td><td>null</td><td>null</td><td>1978.0</td><td>12.0</td><td>17.0</td><td>&quot;USA&quot;</td><td>&quot;CA&quot;</td><td>&quot;Pasadena&quot;</td><td>null</td><td>null</td><td>null</td><td>null</td><td>null</td><td>null</td><td>&quot;Chase&quot;</td><td>&quot;Utley&quot;</td><td>null</td><td>&quot;Chase Cameron&quot;</td><td>null</td><td>190.0</td><td>73.0</td><td>&quot;L&quot;</td><td>&quot;R&quot;</td><td>&quot;4/4/2003&quot;</td><td>null</td><td>&quot;UCLA&quot;</td><td>null</td><td>null</td><td>&quot;utlec001&quot;</td><td>null</td><td>&quot;utleych01&quot;</td><td>2009</td><td>1</td><td>&quot;PHI&quot;</td><td>&quot;NL&quot;</td><td>156</td><td>156.0</td><td>571.0</td><td>112.0</td><td>161.0</td><td>28.0</td><td>4.0</td><td>31.0</td><td>93.0</td><td>23.0</td><td>0.0</td><td>88.0</td><td>110.0</td><td>3.0</td><td>24.0</td><td>0.0</td><td>4.0</td><td>5.0</td><td>null</td></tr></tbody></table></div>"
            ]
          },
          "metadata": {},
          "execution_count": 67
        }
      ]
    },
    {
      "cell_type": "code",
      "source": [
        "baseball.filter((pl.col('college') == 'UCLA') & (pl.col('yearID') > 2000)).select(['nameGiven', 'weight', 'height', 'bats', 'debut', 'yearID'])\n"
      ],
      "metadata": {
        "colab": {
          "base_uri": "https://localhost:8080/",
          "height": 872
        },
        "id": "JboDFLjNgClh",
        "outputId": "2e4ab21f-2825-448e-f39a-d50bc8bf49fe"
      },
      "execution_count": null,
      "outputs": [
        {
          "output_type": "execute_result",
          "data": {
            "text/plain": [
              "shape: (95, 6)\n",
              "┌─────────────────┬────────┬────────┬──────┬───────────┬────────┐\n",
              "│ nameGiven       ┆ weight ┆ height ┆ bats ┆ debut     ┆ yearID │\n",
              "│ ---             ┆ ---    ┆ ---    ┆ ---  ┆ ---       ┆ ---    │\n",
              "│ str             ┆ f64    ┆ f64    ┆ str  ┆ str       ┆ i64    │\n",
              "╞═════════════════╪════════╪════════╪══════╪═══════════╪════════╡\n",
              "│ Hector          ┆ 235.0  ┆ 74.0   ┆ L    ┆ 4/30/2010 ┆ 2010   │\n",
              "│ Hector          ┆ 235.0  ┆ 74.0   ┆ L    ┆ 4/30/2010 ┆ 2012   │\n",
              "│ Garrett Bernard ┆ 215.0  ┆ 75.0   ┆ R    ┆ 8/3/2003  ┆ 2003   │\n",
              "│ Garrett Bernard ┆ 215.0  ┆ 75.0   ┆ R    ┆ 8/3/2003  ┆ 2004   │\n",
              "│ …               ┆ …      ┆ …      ┆ …    ┆ …         ┆ …      │\n",
              "│ Todd Edward     ┆ 190.0  ┆ 73.0   ┆ R    ┆ 8/18/1989 ┆ 2002   │\n",
              "│ Todd Edward     ┆ 190.0  ┆ 73.0   ┆ R    ┆ 8/18/1989 ┆ 2003   │\n",
              "│ Todd Edward     ┆ 190.0  ┆ 73.0   ┆ R    ┆ 8/18/1989 ┆ 2003   │\n",
              "│ Todd Edward     ┆ 190.0  ┆ 73.0   ┆ R    ┆ 8/18/1989 ┆ 2004   │\n",
              "└─────────────────┴────────┴────────┴──────┴───────────┴────────┘"
            ],
            "text/html": [
              "<div><style>\n",
              ".dataframe > thead > tr > th,\n",
              ".dataframe > tbody > tr > td {\n",
              "  text-align: right;\n",
              "}\n",
              "</style>\n",
              "<small>shape: (95, 6)</small><table border=\"1\" class=\"dataframe\"><thead><tr><th>nameGiven</th><th>weight</th><th>height</th><th>bats</th><th>debut</th><th>yearID</th></tr><tr><td>str</td><td>f64</td><td>f64</td><td>str</td><td>str</td><td>i64</td></tr></thead><tbody><tr><td>&quot;Hector&quot;</td><td>235.0</td><td>74.0</td><td>&quot;L&quot;</td><td>&quot;4/30/2010&quot;</td><td>2010</td></tr><tr><td>&quot;Hector&quot;</td><td>235.0</td><td>74.0</td><td>&quot;L&quot;</td><td>&quot;4/30/2010&quot;</td><td>2012</td></tr><tr><td>&quot;Garrett Bernar…</td><td>215.0</td><td>75.0</td><td>&quot;R&quot;</td><td>&quot;8/3/2003&quot;</td><td>2003</td></tr><tr><td>&quot;Garrett Bernar…</td><td>215.0</td><td>75.0</td><td>&quot;R&quot;</td><td>&quot;8/3/2003&quot;</td><td>2004</td></tr><tr><td>&quot;Garrett Bernar…</td><td>215.0</td><td>75.0</td><td>&quot;R&quot;</td><td>&quot;8/3/2003&quot;</td><td>2005</td></tr><tr><td>&quot;Garrett Bernar…</td><td>215.0</td><td>75.0</td><td>&quot;R&quot;</td><td>&quot;8/3/2003&quot;</td><td>2006</td></tr><tr><td>&quot;Garrett Bernar…</td><td>215.0</td><td>75.0</td><td>&quot;R&quot;</td><td>&quot;8/3/2003&quot;</td><td>2007</td></tr><tr><td>&quot;Garrett Bernar…</td><td>215.0</td><td>75.0</td><td>&quot;R&quot;</td><td>&quot;8/3/2003&quot;</td><td>2008</td></tr><tr><td>&quot;Garrett Bernar…</td><td>215.0</td><td>75.0</td><td>&quot;R&quot;</td><td>&quot;8/3/2003&quot;</td><td>2009</td></tr><tr><td>&quot;Garrett Bernar…</td><td>215.0</td><td>75.0</td><td>&quot;R&quot;</td><td>&quot;8/3/2003&quot;</td><td>2010</td></tr><tr><td>&quot;Michael John&quot;</td><td>205.0</td><td>72.0</td><td>&quot;R&quot;</td><td>&quot;5/13/2005&quot;</td><td>2005</td></tr><tr><td>&quot;Michael John&quot;</td><td>205.0</td><td>72.0</td><td>&quot;R&quot;</td><td>&quot;5/13/2005&quot;</td><td>2006</td></tr><tr><td>&hellip;</td><td>&hellip;</td><td>&hellip;</td><td>&hellip;</td><td>&hellip;</td><td>&hellip;</td></tr><tr><td>&quot;Chase Cameron&quot;</td><td>190.0</td><td>73.0</td><td>&quot;L&quot;</td><td>&quot;4/4/2003&quot;</td><td>2011</td></tr><tr><td>&quot;Chase Cameron&quot;</td><td>190.0</td><td>73.0</td><td>&quot;L&quot;</td><td>&quot;4/4/2003&quot;</td><td>2012</td></tr><tr><td>null</td><td>191.0</td><td>72.0</td><td>&quot;L&quot;</td><td>&quot;6/8/2001&quot;</td><td>2001</td></tr><tr><td>null</td><td>191.0</td><td>72.0</td><td>&quot;L&quot;</td><td>&quot;6/8/2001&quot;</td><td>2002</td></tr><tr><td>null</td><td>191.0</td><td>72.0</td><td>&quot;L&quot;</td><td>&quot;6/8/2001&quot;</td><td>2003</td></tr><tr><td>null</td><td>191.0</td><td>72.0</td><td>&quot;L&quot;</td><td>&quot;6/8/2001&quot;</td><td>2004</td></tr><tr><td>null</td><td>191.0</td><td>72.0</td><td>&quot;L&quot;</td><td>&quot;6/8/2001&quot;</td><td>2005</td></tr><tr><td>&quot;Todd Edward&quot;</td><td>190.0</td><td>73.0</td><td>&quot;R&quot;</td><td>&quot;8/18/1989&quot;</td><td>2001</td></tr><tr><td>&quot;Todd Edward&quot;</td><td>190.0</td><td>73.0</td><td>&quot;R&quot;</td><td>&quot;8/18/1989&quot;</td><td>2002</td></tr><tr><td>&quot;Todd Edward&quot;</td><td>190.0</td><td>73.0</td><td>&quot;R&quot;</td><td>&quot;8/18/1989&quot;</td><td>2003</td></tr><tr><td>&quot;Todd Edward&quot;</td><td>190.0</td><td>73.0</td><td>&quot;R&quot;</td><td>&quot;8/18/1989&quot;</td><td>2003</td></tr><tr><td>&quot;Todd Edward&quot;</td><td>190.0</td><td>73.0</td><td>&quot;R&quot;</td><td>&quot;8/18/1989&quot;</td><td>2004</td></tr></tbody></table></div>"
            ]
          },
          "metadata": {},
          "execution_count": 70
        }
      ]
    },
    {
      "cell_type": "code",
      "source": [
        "HRbyTeam = baseball.groupby('teamID').agg(pl.col('HR').sum()).sort(by = 'HR', reverse = True)\n",
        "HRbyTeam.head(10)"
      ],
      "metadata": {
        "colab": {
          "base_uri": "https://localhost:8080/",
          "height": 441
        },
        "id": "wKXgIKDkg41_",
        "outputId": "5d3fcad3-d4a7-4633-fcae-21751e877d0e"
      },
      "execution_count": null,
      "outputs": [
        {
          "output_type": "stream",
          "name": "stderr",
          "text": [
            "<ipython-input-78-de111a89e197>:1: DeprecationWarning: `reverse` is deprecated as an argument to `sort`; use `descending` instead.\n",
            "  HRbyTeam = baseball.groupby('teamID').agg(pl.col('HR').sum()).sort(by = 'HR', reverse = True)\n"
          ]
        },
        {
          "output_type": "execute_result",
          "data": {
            "text/plain": [
              "shape: (10, 2)\n",
              "┌────────┬─────────┐\n",
              "│ teamID ┆ HR      │\n",
              "│ ---    ┆ ---     │\n",
              "│ str    ┆ f64     │\n",
              "╞════════╪═════════╡\n",
              "│ NYA    ┆ 14715.0 │\n",
              "│ CHN    ┆ 13030.0 │\n",
              "│ DET    ┆ 12678.0 │\n",
              "│ BOS    ┆ 12421.0 │\n",
              "│ …      ┆ …       │\n",
              "│ CLE    ┆ 11879.0 │\n",
              "│ SLN    ┆ 10790.0 │\n",
              "│ PIT    ┆ 10421.0 │\n",
              "│ CHA    ┆ 10353.0 │\n",
              "└────────┴─────────┘"
            ],
            "text/html": [
              "<div><style>\n",
              ".dataframe > thead > tr > th,\n",
              ".dataframe > tbody > tr > td {\n",
              "  text-align: right;\n",
              "}\n",
              "</style>\n",
              "<small>shape: (10, 2)</small><table border=\"1\" class=\"dataframe\"><thead><tr><th>teamID</th><th>HR</th></tr><tr><td>str</td><td>f64</td></tr></thead><tbody><tr><td>&quot;NYA&quot;</td><td>14715.0</td></tr><tr><td>&quot;CHN&quot;</td><td>13030.0</td></tr><tr><td>&quot;DET&quot;</td><td>12678.0</td></tr><tr><td>&quot;BOS&quot;</td><td>12421.0</td></tr><tr><td>&quot;PHI&quot;</td><td>12108.0</td></tr><tr><td>&quot;CIN&quot;</td><td>11930.0</td></tr><tr><td>&quot;CLE&quot;</td><td>11879.0</td></tr><tr><td>&quot;SLN&quot;</td><td>10790.0</td></tr><tr><td>&quot;PIT&quot;</td><td>10421.0</td></tr><tr><td>&quot;CHA&quot;</td><td>10353.0</td></tr></tbody></table></div>"
            ]
          },
          "metadata": {},
          "execution_count": 78
        }
      ]
    },
    {
      "cell_type": "code",
      "source": [],
      "metadata": {
        "id": "bwKcgJu0ixze"
      },
      "execution_count": null,
      "outputs": []
    }
  ]
}