{
  "nbformat": 4,
  "nbformat_minor": 0,
  "metadata": {
    "colab": {
      "provenance": [],
      "authorship_tag": "ABX9TyPjGJv+P+zLzNeIHuNoCYRt",
      "include_colab_link": true
    },
    "kernelspec": {
      "name": "python3",
      "display_name": "Python 3"
    },
    "language_info": {
      "name": "python"
    }
  },
  "cells": [
    {
      "cell_type": "markdown",
      "metadata": {
        "id": "view-in-github",
        "colab_type": "text"
      },
      "source": [
        "<a href=\"https://colab.research.google.com/github/NadiaHolmlund/M6_Group_Assignments/blob/main/Group_Assignment_3/Group_Assignment_3.ipynb\" target=\"_parent\"><img src=\"https://colab.research.google.com/assets/colab-badge.svg\" alt=\"Open In Colab\"/></a>"
      ]
    },
    {
      "cell_type": "markdown",
      "metadata": {
        "id": "FjfxQospZmZn"
      },
      "source": [
        "# Task"
      ]
    },
    {
      "cell_type": "markdown",
      "metadata": {
        "id": "anXOXiWiZoE3"
      },
      "source": [
        "Select one of your previous projects that includes a machine learning component and use MLflow to track and manage your machine learning experiments. The following tasks should be performed:\n",
        "\n",
        "- Train a machine learning model using the data from your previous project. You can use any machine learning model that is appropriate for your data and problem.\n",
        "\n",
        "- Use MLflow to track and manage your machine learning experiments. Log the hyperparameters, metrics, and artifacts of your machine learning experiments in MLflow. Save structured and unstructured information related to your trained model in SQLite within MLflow."
      ]
    },
    {
      "cell_type": "markdown",
      "metadata": {
        "id": "5K-7veNeZplA"
      },
      "source": [
        "# Imports"
      ]
    },
    {
      "cell_type": "code",
      "execution_count": 1,
      "metadata": {
        "id": "Z2Gi51xOZnBz",
        "colab": {
          "base_uri": "https://localhost:8080/"
        },
        "outputId": "d8085826-144f-47f5-fcbd-2d059d018f34"
      },
      "outputs": [
        {
          "output_type": "stream",
          "name": "stdout",
          "text": [
            "\u001b[2K     \u001b[90m━━━━━━━━━━━━━━━━━━━━━━━━━━━━━━━━━━━━━━━━\u001b[0m \u001b[32m17.7/17.7 MB\u001b[0m \u001b[31m26.9 MB/s\u001b[0m eta \u001b[36m0:00:00\u001b[0m\n",
            "\u001b[2K     \u001b[90m━━━━━━━━━━━━━━━━━━━━━━━━━━━━━━━━━━━━━━\u001b[0m \u001b[32m212.9/212.9 kB\u001b[0m \u001b[31m11.3 MB/s\u001b[0m eta \u001b[36m0:00:00\u001b[0m\n",
            "\u001b[2K     \u001b[90m━━━━━━━━━━━━━━━━━━━━━━━━━━━━━━━━━━━━━━━━\u001b[0m \u001b[32m82.7/82.7 kB\u001b[0m \u001b[31m9.5 MB/s\u001b[0m eta \u001b[36m0:00:00\u001b[0m\n",
            "\u001b[?25h  Preparing metadata (setup.py) ... \u001b[?25l\u001b[?25hdone\n",
            "\u001b[2K     \u001b[90m━━━━━━━━━━━━━━━━━━━━━━━━━━━━━━━━━━━━━━━━\u001b[0m \u001b[32m79.5/79.5 kB\u001b[0m \u001b[31m6.4 MB/s\u001b[0m eta \u001b[36m0:00:00\u001b[0m\n",
            "\u001b[2K     \u001b[90m━━━━━━━━━━━━━━━━━━━━━━━━━━━━━━━━━━━━━━━\u001b[0m \u001b[32m147.5/147.5 kB\u001b[0m \u001b[31m8.7 MB/s\u001b[0m eta \u001b[36m0:00:00\u001b[0m\n",
            "\u001b[2K     \u001b[90m━━━━━━━━━━━━━━━━━━━━━━━━━━━━━━━━━━━━━━━\u001b[0m \u001b[32m184.3/184.3 kB\u001b[0m \u001b[31m8.7 MB/s\u001b[0m eta \u001b[36m0:00:00\u001b[0m\n",
            "\u001b[2K     \u001b[90m━━━━━━━━━━━━━━━━━━━━━━━━━━━━━━━━━━━━━━━━\u001b[0m \u001b[32m78.7/78.7 kB\u001b[0m \u001b[31m4.7 MB/s\u001b[0m eta \u001b[36m0:00:00\u001b[0m\n",
            "\u001b[2K     \u001b[90m━━━━━━━━━━━━━━━━━━━━━━━━━━━━━━━━━━━━━━━━\u001b[0m \u001b[32m62.7/62.7 kB\u001b[0m \u001b[31m2.3 MB/s\u001b[0m eta \u001b[36m0:00:00\u001b[0m\n",
            "\u001b[?25h  Building wheel for databricks-cli (setup.py) ... \u001b[?25l\u001b[?25hdone\n"
          ]
        }
      ],
      "source": [
        "!pip install mlflow -q"
      ]
    },
    {
      "cell_type": "code",
      "execution_count": 2,
      "metadata": {
        "colab": {
          "base_uri": "https://localhost:8080/"
        },
        "id": "P5dz7VATZyPy",
        "outputId": "0c9fa28f-908c-407b-da1b-bf2bdb2ef6f8"
      },
      "outputs": [
        {
          "output_type": "stream",
          "name": "stdout",
          "text": [
            "display.max_colwidth : int or None\n",
            "    The maximum width in characters of a column in the repr of\n",
            "    a pandas data structure. When the column overflows, a \"...\"\n",
            "    placeholder is embedded in the output. A 'None' value means unlimited.\n",
            "    [default: 50] [currently: 1000]\n"
          ]
        }
      ],
      "source": [
        "import pandas as pd\n",
        "import sqlite3\n",
        "\n",
        "pd.set_option('max_colwidth', 1000)\n",
        "pd.describe_option('max_colwidth')"
      ]
    },
    {
      "cell_type": "markdown",
      "metadata": {
        "id": "CyxRrYwQZ3Sr"
      },
      "source": [
        "# Cleaning the data"
      ]
    },
    {
      "cell_type": "code",
      "execution_count": 3,
      "metadata": {
        "id": "_RL3UkukZ3p8"
      },
      "outputs": [],
      "source": [
        "# Reading the CSV files into Pandas Dataframes and merging them together based on player ID\n",
        "baseball_master = pd.read_csv('https://raw.githubusercontent.com/NadiaHolmlund/M6_Group_Assignments/main/Group_Assignment_3/Data/Master.csv', encoding=\"ISO-8859-1\")\n",
        "baseball_batting = pd.read_csv('https://raw.githubusercontent.com/NadiaHolmlund/M6_Group_Assignments/main/Group_Assignment_3/Data/Batting.csv', encoding=\"ISO-8859-1\")\n",
        "\n",
        "baseball = baseball_master.merge(baseball_batting, on = 'playerID')"
      ]
    },
    {
      "cell_type": "code",
      "execution_count": 4,
      "metadata": {
        "colab": {
          "base_uri": "https://localhost:8080/",
          "height": 292
        },
        "id": "YJKI83uKZ6L5",
        "outputId": "52159260-8ec6-434e-d7ae-06b2d76b71ad"
      },
      "outputs": [
        {
          "output_type": "execute_result",
          "data": {
            "text/plain": [
              "   lahmanID   playerID managerID       hofID  birthYear  birthMonth  birthDay  \\\n",
              "0         1  aaronha01       NaN  aaronha01h     1934.0         2.0       5.0   \n",
              "1         1  aaronha01       NaN  aaronha01h     1934.0         2.0       5.0   \n",
              "2         1  aaronha01       NaN  aaronha01h     1934.0         2.0       5.0   \n",
              "3         1  aaronha01       NaN  aaronha01h     1934.0         2.0       5.0   \n",
              "4         1  aaronha01       NaN  aaronha01h     1934.0         2.0       5.0   \n",
              "\n",
              "  birthCountry birthState birthCity  ...   SB   CS    BB    SO   IBB  HBP  \\\n",
              "0          USA         AL    Mobile  ...  2.0  2.0  28.0  39.0   NaN  3.0   \n",
              "1          USA         AL    Mobile  ...  3.0  1.0  49.0  61.0   5.0  3.0   \n",
              "2          USA         AL    Mobile  ...  2.0  4.0  37.0  54.0   6.0  2.0   \n",
              "3          USA         AL    Mobile  ...  1.0  1.0  57.0  58.0  15.0  0.0   \n",
              "4          USA         AL    Mobile  ...  4.0  1.0  59.0  49.0  16.0  1.0   \n",
              "\n",
              "    SH   SF  GIDP  G_old  \n",
              "0  6.0  4.0  13.0  122.0  \n",
              "1  7.0  4.0  20.0  153.0  \n",
              "2  5.0  7.0  21.0  153.0  \n",
              "3  0.0  3.0  13.0  151.0  \n",
              "4  0.0  3.0  21.0  153.0  \n",
              "\n",
              "[5 rows x 56 columns]"
            ],
            "text/html": [
              "\n",
              "  <div id=\"df-d65b194a-ff9d-49a4-a423-7eb1d395dff2\">\n",
              "    <div class=\"colab-df-container\">\n",
              "      <div>\n",
              "<style scoped>\n",
              "    .dataframe tbody tr th:only-of-type {\n",
              "        vertical-align: middle;\n",
              "    }\n",
              "\n",
              "    .dataframe tbody tr th {\n",
              "        vertical-align: top;\n",
              "    }\n",
              "\n",
              "    .dataframe thead th {\n",
              "        text-align: right;\n",
              "    }\n",
              "</style>\n",
              "<table border=\"1\" class=\"dataframe\">\n",
              "  <thead>\n",
              "    <tr style=\"text-align: right;\">\n",
              "      <th></th>\n",
              "      <th>lahmanID</th>\n",
              "      <th>playerID</th>\n",
              "      <th>managerID</th>\n",
              "      <th>hofID</th>\n",
              "      <th>birthYear</th>\n",
              "      <th>birthMonth</th>\n",
              "      <th>birthDay</th>\n",
              "      <th>birthCountry</th>\n",
              "      <th>birthState</th>\n",
              "      <th>birthCity</th>\n",
              "      <th>...</th>\n",
              "      <th>SB</th>\n",
              "      <th>CS</th>\n",
              "      <th>BB</th>\n",
              "      <th>SO</th>\n",
              "      <th>IBB</th>\n",
              "      <th>HBP</th>\n",
              "      <th>SH</th>\n",
              "      <th>SF</th>\n",
              "      <th>GIDP</th>\n",
              "      <th>G_old</th>\n",
              "    </tr>\n",
              "  </thead>\n",
              "  <tbody>\n",
              "    <tr>\n",
              "      <th>0</th>\n",
              "      <td>1</td>\n",
              "      <td>aaronha01</td>\n",
              "      <td>NaN</td>\n",
              "      <td>aaronha01h</td>\n",
              "      <td>1934.0</td>\n",
              "      <td>2.0</td>\n",
              "      <td>5.0</td>\n",
              "      <td>USA</td>\n",
              "      <td>AL</td>\n",
              "      <td>Mobile</td>\n",
              "      <td>...</td>\n",
              "      <td>2.0</td>\n",
              "      <td>2.0</td>\n",
              "      <td>28.0</td>\n",
              "      <td>39.0</td>\n",
              "      <td>NaN</td>\n",
              "      <td>3.0</td>\n",
              "      <td>6.0</td>\n",
              "      <td>4.0</td>\n",
              "      <td>13.0</td>\n",
              "      <td>122.0</td>\n",
              "    </tr>\n",
              "    <tr>\n",
              "      <th>1</th>\n",
              "      <td>1</td>\n",
              "      <td>aaronha01</td>\n",
              "      <td>NaN</td>\n",
              "      <td>aaronha01h</td>\n",
              "      <td>1934.0</td>\n",
              "      <td>2.0</td>\n",
              "      <td>5.0</td>\n",
              "      <td>USA</td>\n",
              "      <td>AL</td>\n",
              "      <td>Mobile</td>\n",
              "      <td>...</td>\n",
              "      <td>3.0</td>\n",
              "      <td>1.0</td>\n",
              "      <td>49.0</td>\n",
              "      <td>61.0</td>\n",
              "      <td>5.0</td>\n",
              "      <td>3.0</td>\n",
              "      <td>7.0</td>\n",
              "      <td>4.0</td>\n",
              "      <td>20.0</td>\n",
              "      <td>153.0</td>\n",
              "    </tr>\n",
              "    <tr>\n",
              "      <th>2</th>\n",
              "      <td>1</td>\n",
              "      <td>aaronha01</td>\n",
              "      <td>NaN</td>\n",
              "      <td>aaronha01h</td>\n",
              "      <td>1934.0</td>\n",
              "      <td>2.0</td>\n",
              "      <td>5.0</td>\n",
              "      <td>USA</td>\n",
              "      <td>AL</td>\n",
              "      <td>Mobile</td>\n",
              "      <td>...</td>\n",
              "      <td>2.0</td>\n",
              "      <td>4.0</td>\n",
              "      <td>37.0</td>\n",
              "      <td>54.0</td>\n",
              "      <td>6.0</td>\n",
              "      <td>2.0</td>\n",
              "      <td>5.0</td>\n",
              "      <td>7.0</td>\n",
              "      <td>21.0</td>\n",
              "      <td>153.0</td>\n",
              "    </tr>\n",
              "    <tr>\n",
              "      <th>3</th>\n",
              "      <td>1</td>\n",
              "      <td>aaronha01</td>\n",
              "      <td>NaN</td>\n",
              "      <td>aaronha01h</td>\n",
              "      <td>1934.0</td>\n",
              "      <td>2.0</td>\n",
              "      <td>5.0</td>\n",
              "      <td>USA</td>\n",
              "      <td>AL</td>\n",
              "      <td>Mobile</td>\n",
              "      <td>...</td>\n",
              "      <td>1.0</td>\n",
              "      <td>1.0</td>\n",
              "      <td>57.0</td>\n",
              "      <td>58.0</td>\n",
              "      <td>15.0</td>\n",
              "      <td>0.0</td>\n",
              "      <td>0.0</td>\n",
              "      <td>3.0</td>\n",
              "      <td>13.0</td>\n",
              "      <td>151.0</td>\n",
              "    </tr>\n",
              "    <tr>\n",
              "      <th>4</th>\n",
              "      <td>1</td>\n",
              "      <td>aaronha01</td>\n",
              "      <td>NaN</td>\n",
              "      <td>aaronha01h</td>\n",
              "      <td>1934.0</td>\n",
              "      <td>2.0</td>\n",
              "      <td>5.0</td>\n",
              "      <td>USA</td>\n",
              "      <td>AL</td>\n",
              "      <td>Mobile</td>\n",
              "      <td>...</td>\n",
              "      <td>4.0</td>\n",
              "      <td>1.0</td>\n",
              "      <td>59.0</td>\n",
              "      <td>49.0</td>\n",
              "      <td>16.0</td>\n",
              "      <td>1.0</td>\n",
              "      <td>0.0</td>\n",
              "      <td>3.0</td>\n",
              "      <td>21.0</td>\n",
              "      <td>153.0</td>\n",
              "    </tr>\n",
              "  </tbody>\n",
              "</table>\n",
              "<p>5 rows × 56 columns</p>\n",
              "</div>\n",
              "      <button class=\"colab-df-convert\" onclick=\"convertToInteractive('df-d65b194a-ff9d-49a4-a423-7eb1d395dff2')\"\n",
              "              title=\"Convert this dataframe to an interactive table.\"\n",
              "              style=\"display:none;\">\n",
              "        \n",
              "  <svg xmlns=\"http://www.w3.org/2000/svg\" height=\"24px\"viewBox=\"0 0 24 24\"\n",
              "       width=\"24px\">\n",
              "    <path d=\"M0 0h24v24H0V0z\" fill=\"none\"/>\n",
              "    <path d=\"M18.56 5.44l.94 2.06.94-2.06 2.06-.94-2.06-.94-.94-2.06-.94 2.06-2.06.94zm-11 1L8.5 8.5l.94-2.06 2.06-.94-2.06-.94L8.5 2.5l-.94 2.06-2.06.94zm10 10l.94 2.06.94-2.06 2.06-.94-2.06-.94-.94-2.06-.94 2.06-2.06.94z\"/><path d=\"M17.41 7.96l-1.37-1.37c-.4-.4-.92-.59-1.43-.59-.52 0-1.04.2-1.43.59L10.3 9.45l-7.72 7.72c-.78.78-.78 2.05 0 2.83L4 21.41c.39.39.9.59 1.41.59.51 0 1.02-.2 1.41-.59l7.78-7.78 2.81-2.81c.8-.78.8-2.07 0-2.86zM5.41 20L4 18.59l7.72-7.72 1.47 1.35L5.41 20z\"/>\n",
              "  </svg>\n",
              "      </button>\n",
              "      \n",
              "  <style>\n",
              "    .colab-df-container {\n",
              "      display:flex;\n",
              "      flex-wrap:wrap;\n",
              "      gap: 12px;\n",
              "    }\n",
              "\n",
              "    .colab-df-convert {\n",
              "      background-color: #E8F0FE;\n",
              "      border: none;\n",
              "      border-radius: 50%;\n",
              "      cursor: pointer;\n",
              "      display: none;\n",
              "      fill: #1967D2;\n",
              "      height: 32px;\n",
              "      padding: 0 0 0 0;\n",
              "      width: 32px;\n",
              "    }\n",
              "\n",
              "    .colab-df-convert:hover {\n",
              "      background-color: #E2EBFA;\n",
              "      box-shadow: 0px 1px 2px rgba(60, 64, 67, 0.3), 0px 1px 3px 1px rgba(60, 64, 67, 0.15);\n",
              "      fill: #174EA6;\n",
              "    }\n",
              "\n",
              "    [theme=dark] .colab-df-convert {\n",
              "      background-color: #3B4455;\n",
              "      fill: #D2E3FC;\n",
              "    }\n",
              "\n",
              "    [theme=dark] .colab-df-convert:hover {\n",
              "      background-color: #434B5C;\n",
              "      box-shadow: 0px 1px 3px 1px rgba(0, 0, 0, 0.15);\n",
              "      filter: drop-shadow(0px 1px 2px rgba(0, 0, 0, 0.3));\n",
              "      fill: #FFFFFF;\n",
              "    }\n",
              "  </style>\n",
              "\n",
              "      <script>\n",
              "        const buttonEl =\n",
              "          document.querySelector('#df-d65b194a-ff9d-49a4-a423-7eb1d395dff2 button.colab-df-convert');\n",
              "        buttonEl.style.display =\n",
              "          google.colab.kernel.accessAllowed ? 'block' : 'none';\n",
              "\n",
              "        async function convertToInteractive(key) {\n",
              "          const element = document.querySelector('#df-d65b194a-ff9d-49a4-a423-7eb1d395dff2');\n",
              "          const dataTable =\n",
              "            await google.colab.kernel.invokeFunction('convertToInteractive',\n",
              "                                                     [key], {});\n",
              "          if (!dataTable) return;\n",
              "\n",
              "          const docLinkHtml = 'Like what you see? Visit the ' +\n",
              "            '<a target=\"_blank\" href=https://colab.research.google.com/notebooks/data_table.ipynb>data table notebook</a>'\n",
              "            + ' to learn more about interactive tables.';\n",
              "          element.innerHTML = '';\n",
              "          dataTable['output_type'] = 'display_data';\n",
              "          await google.colab.output.renderOutput(dataTable, element);\n",
              "          const docLink = document.createElement('div');\n",
              "          docLink.innerHTML = docLinkHtml;\n",
              "          element.appendChild(docLink);\n",
              "        }\n",
              "      </script>\n",
              "    </div>\n",
              "  </div>\n",
              "  "
            ]
          },
          "metadata": {},
          "execution_count": 4
        }
      ],
      "source": [
        "# Examining the DataFrame\n",
        "baseball.head()"
      ]
    },
    {
      "cell_type": "code",
      "execution_count": 5,
      "metadata": {
        "colab": {
          "base_uri": "https://localhost:8080/"
        },
        "id": "tLyxle25Z7Tf",
        "outputId": "b0c279d0-c5b6-4ff0-f532-b82e025ea62a"
      },
      "outputs": [
        {
          "output_type": "stream",
          "name": "stdout",
          "text": [
            "<class 'pandas.core.frame.DataFrame'>\n",
            "Int64Index: 96609 entries, 0 to 96608\n",
            "Data columns (total 56 columns):\n",
            " #   Column        Non-Null Count  Dtype  \n",
            "---  ------        --------------  -----  \n",
            " 0   lahmanID      96609 non-null  int64  \n",
            " 1   playerID      96609 non-null  object \n",
            " 2   managerID     6546 non-null   object \n",
            " 3   hofID         17793 non-null  object \n",
            " 4   birthYear     96294 non-null  float64\n",
            " 5   birthMonth    95759 non-null  float64\n",
            " 6   birthDay      95397 non-null  float64\n",
            " 7   birthCountry  96174 non-null  object \n",
            " 8   birthState    86389 non-null  object \n",
            " 9   birthCity     95844 non-null  object \n",
            " 10  deathYear     39107 non-null  float64\n",
            " 11  deathMonth    39096 non-null  float64\n",
            " 12  deathDay      39095 non-null  float64\n",
            " 13  deathCountry  38839 non-null  object \n",
            " 14  deathState    38415 non-null  object \n",
            " 15  deathCity     38804 non-null  object \n",
            " 16  nameFirst     96557 non-null  object \n",
            " 17  nameLast      96609 non-null  object \n",
            " 18  nameNote      2459 non-null   object \n",
            " 19  nameGiven     92778 non-null  object \n",
            " 20  nameNick      19995 non-null  object \n",
            " 21  weight        95317 non-null  float64\n",
            " 22  height        95353 non-null  float64\n",
            " 23  bats          94364 non-null  object \n",
            " 24  throws        94906 non-null  object \n",
            " 25  debut         96603 non-null  object \n",
            " 26  finalGame     84966 non-null  object \n",
            " 27  college       24348 non-null  object \n",
            " 28  lahman40ID    88232 non-null  object \n",
            " 29  lahman45ID    88232 non-null  object \n",
            " 30  retroID       96214 non-null  object \n",
            " 31  holtzID       88260 non-null  object \n",
            " 32  bbrefID       96394 non-null  object \n",
            " 33  yearID        96609 non-null  int64  \n",
            " 34  stint         96609 non-null  int64  \n",
            " 35  teamID        96609 non-null  object \n",
            " 36  lgID          95872 non-null  object \n",
            " 37  G             96609 non-null  int64  \n",
            " 38  G_batting     95203 non-null  float64\n",
            " 39  AB            90196 non-null  float64\n",
            " 40  R             90196 non-null  float64\n",
            " 41  H             90196 non-null  float64\n",
            " 42  2B            90196 non-null  float64\n",
            " 43  3B            90196 non-null  float64\n",
            " 44  HR            90196 non-null  float64\n",
            " 45  RBI           89772 non-null  float64\n",
            " 46  SB            88896 non-null  float64\n",
            " 47  CS            66742 non-null  float64\n",
            " 48  BB            90196 non-null  float64\n",
            " 49  SO            82358 non-null  float64\n",
            " 50  IBB           53632 non-null  float64\n",
            " 51  HBP           87376 non-null  float64\n",
            " 52  SH            83858 non-null  float64\n",
            " 53  SF            54163 non-null  float64\n",
            " 54  GIDP          64088 non-null  float64\n",
            " 55  G_old         92707 non-null  float64\n",
            "dtypes: float64(26), int64(4), object(26)\n",
            "memory usage: 42.0+ MB\n"
          ]
        }
      ],
      "source": [
        "# Examining the DataFrame\n",
        "baseball.info()"
      ]
    },
    {
      "cell_type": "code",
      "execution_count": 6,
      "metadata": {
        "id": "CL79WZNjZ87h"
      },
      "outputs": [],
      "source": [
        "# Extracting columns to be included in the database\n",
        "baseball_db = baseball[['weight', 'height', 'G', 'AB', 'HR']]"
      ]
    },
    {
      "cell_type": "code",
      "execution_count": 7,
      "metadata": {
        "id": "dvvbTJ16Z-KJ"
      },
      "outputs": [],
      "source": [
        "# Dropping NaN values\n",
        "baseball_db = baseball_db.dropna()"
      ]
    },
    {
      "cell_type": "code",
      "execution_count": 8,
      "metadata": {
        "colab": {
          "base_uri": "https://localhost:8080/"
        },
        "id": "bgdsK7HvZ_Yi",
        "outputId": "f56eaf61-e683-4030-f0e8-0cfc91fbeeab"
      },
      "outputs": [
        {
          "output_type": "stream",
          "name": "stdout",
          "text": [
            "<class 'pandas.core.frame.DataFrame'>\n",
            "Int64Index: 88718 entries, 0 to 96604\n",
            "Data columns (total 5 columns):\n",
            " #   Column  Non-Null Count  Dtype  \n",
            "---  ------  --------------  -----  \n",
            " 0   weight  88718 non-null  float64\n",
            " 1   height  88718 non-null  float64\n",
            " 2   G       88718 non-null  int64  \n",
            " 3   AB      88718 non-null  float64\n",
            " 4   HR      88718 non-null  float64\n",
            "dtypes: float64(4), int64(1)\n",
            "memory usage: 4.1 MB\n"
          ]
        }
      ],
      "source": [
        "# Examining the dataFrame\n",
        "baseball_db.info()"
      ]
    },
    {
      "cell_type": "markdown",
      "metadata": {
        "id": "DjGIGipbaAof"
      },
      "source": [
        "# Setting up the Data Layer"
      ]
    },
    {
      "cell_type": "markdown",
      "metadata": {
        "id": "gKxc8Sk7aB26"
      },
      "source": [
        "Creating a SQLite database for the baseball dataset"
      ]
    },
    {
      "cell_type": "code",
      "execution_count": 9,
      "metadata": {
        "id": "cn0TlHsCaDWO"
      },
      "outputs": [],
      "source": [
        "#database.py\n",
        "import sqlite3\n",
        "import pandas as pd\n",
        "\n",
        "def init_db():\n",
        "  # Connect to the SQLite database\n",
        "  conn = sqlite3.connect(\"baseball.db\")\n",
        "\n",
        "  # Save the Pandas DataFrame to the SQLite database\n",
        "  baseball_db.to_sql(\"baseball\", conn, if_exists=\"replace\", index=False)\n",
        "\n",
        "  # Close the connection to the SQLite database\n",
        "  conn.close()\n",
        "\n",
        "if __name__ == '__main__':\n",
        "    init_db()"
      ]
    },
    {
      "cell_type": "markdown",
      "metadata": {
        "id": "LzHgbuMkaE1s"
      },
      "source": [
        "# Setting up the Business Layer with MLFlow"
      ]
    },
    {
      "cell_type": "markdown",
      "metadata": {
        "id": "euyFIs9oaHO5"
      },
      "source": [
        "Using the Scikit-Learn library to train a machine learning model for HR prediction.\n",
        "\n",
        "The code also sets up an experiment named \"HR_Prediction_exp_x\" and logs the model's parameters, performance metrics, and the trained model itself as an artifact in MLflow."
      ]
    },
    {
      "cell_type": "code",
      "execution_count": null,
      "metadata": {
        "colab": {
          "background_save": true,
          "base_uri": "https://localhost:8080/"
        },
        "id": "ZKp-MWM8aK6H",
        "outputId": "906c21ae-cff1-4c49-8e5b-34efc57ae983"
      },
      "outputs": [
        {
          "output_type": "stream",
          "name": "stderr",
          "text": [
            "2023/05/01 10:48:19 INFO mlflow.tracking.fluent: Experiment with name 'HR_Prediction_exp_0' does not exist. Creating a new experiment.\n"
          ]
        },
        {
          "output_type": "stream",
          "name": "stdout",
          "text": [
            "Model trained with accuracy: 0.6513884209925522\n"
          ]
        },
        {
          "output_type": "stream",
          "name": "stderr",
          "text": [
            "Successfully registered model 'HR_model'.\n",
            "2023/05/01 10:48:57 INFO mlflow.tracking._model_registry.client: Waiting up to 300 seconds for model version to finish creation. Model name: HR_model, version 1\n",
            "Created version '1' of model 'HR_model'.\n"
          ]
        }
      ],
      "source": [
        "import mlflow\n",
        "import mlflow.sklearn\n",
        "from sklearn.model_selection import train_test_split\n",
        "from sklearn.ensemble import RandomForestRegressor\n",
        "import sqlite3\n",
        "import pandas as pd\n",
        "\n",
        "# Connect to the SQLite database\n",
        "conn = sqlite3.connect(\"baseball.db\")\n",
        "\n",
        "# Read data from a table using Pandas\n",
        "data_df = pd.read_sql(\"SELECT * FROM baseball\", conn)\n",
        "\n",
        "def train_model():\n",
        "    mlflow.set_experiment(\"HR_Prediction_exp_0\")\n",
        "    X = data_df.drop('HR', axis=1)\n",
        "    y = data_df['HR']\n",
        "\n",
        "    X_train, X_test, y_train, y_test = train_test_split(X, y, test_size=0.3, random_state=42)\n",
        "\n",
        "    RFR = RandomForestRegressor(n_estimators=100, criterion=\"squared_error\")\n",
        "\n",
        "    with mlflow.start_run():\n",
        "        RFR.fit(X_train, y_train)\n",
        "\n",
        "        # Log model parameters\n",
        "        mlflow.log_param(\"n_estimators\", RFR.n_estimators)\n",
        "        mlflow.log_param(\"criterion\", RFR.criterion)\n",
        "\n",
        "        # Log model performance metrics\n",
        "        train_score = RFR.score(X_train, y_train)\n",
        "        test_score = RFR.score(X_test, y_test)\n",
        "        mlflow.log_metric(\"train_score\", train_score)\n",
        "        mlflow.log_metric(\"test_score\", test_score)\n",
        "\n",
        "        # Save the model as an artifact\n",
        "        mlflow.sklearn.log_model(RFR, \"model\")\n",
        "\n",
        "    return RFR, test_score\n",
        "\n",
        "if __name__ == '__main__':\n",
        "    RFR, accuracy = train_model()\n",
        "    print(f\"Model trained with accuracy: {accuracy}\")\n",
        "    mlflow.log_metric(\"accuracy\", accuracy)\n",
        "    mlflow.sklearn.log_model(RFR, \"model\")\n",
        "    mlflow.sklearn.log_model(RFR, \"model\", registered_model_name=\"HR_model\")\n",
        "    mlflow.sklearn.save_model(RFR, \"HR_model\")\n",
        "\n",
        "    # Launch MLflow UI\n",
        "    import os\n",
        "    os.system(\"mlflow ui\")"
      ]
    },
    {
      "cell_type": "markdown",
      "metadata": {
        "id": "XWz7SFUkz0Rb"
      },
      "source": [
        "# Experiments saved in MLFlow"
      ]
    },
    {
      "cell_type": "markdown",
      "source": [
        "## HR_Prediction_exp_0"
      ],
      "metadata": {
        "id": "udMq17DOYy2m"
      }
    },
    {
      "cell_type": "markdown",
      "source": [
        "![picture](https://raw.github.com/NadiaHolmlund/M6_Group_Assignments/main/Group_Assignment_3/Data/HR_Prediction_exp_0.png)"
      ],
      "metadata": {
        "id": "Q392CKS-fgqz"
      }
    },
    {
      "cell_type": "markdown",
      "source": [
        "## HR_Prediction_exp_1"
      ],
      "metadata": {
        "id": "xqQUN_5fY_7F"
      }
    },
    {
      "cell_type": "markdown",
      "source": [
        "![picture](https://raw.github.com/NadiaHolmlund/M6_Group_Assignments/main/Group_Assignment_3/Data/HR_Prediction_exp_1.png)"
      ],
      "metadata": {
        "id": "jU01hSmAfqfY"
      }
    },
    {
      "cell_type": "markdown",
      "source": [
        "## HR_Prediction_exp_2"
      ],
      "metadata": {
        "id": "SDTyfFHLZA8G"
      }
    },
    {
      "cell_type": "markdown",
      "source": [
        "![](https://raw.github.com/NadiaHolmlund/M6_Group_Assignments/main/Group_Assignment_3/Data/HR_Prediction_exp_2.png)"
      ],
      "metadata": {
        "id": "rH0SpYRrfxZj"
      }
    }
  ]
}