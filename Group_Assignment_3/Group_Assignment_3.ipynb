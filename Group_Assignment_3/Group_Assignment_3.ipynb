{
  "nbformat": 4,
  "nbformat_minor": 0,
  "metadata": {
    "colab": {
      "provenance": [],
      "authorship_tag": "ABX9TyNigWcgMTpABSoDJrORHLxa",
      "include_colab_link": true
    },
    "kernelspec": {
      "name": "python3",
      "display_name": "Python 3"
    },
    "language_info": {
      "name": "python"
    }
  },
  "cells": [
    {
      "cell_type": "markdown",
      "metadata": {
        "id": "view-in-github",
        "colab_type": "text"
      },
      "source": [
        "<a href=\"https://colab.research.google.com/github/NadiaHolmlund/M6_Group_Assignments/blob/main/Group_Assignment_3/Group_Assignment_3.ipynb\" target=\"_parent\"><img src=\"https://colab.research.google.com/assets/colab-badge.svg\" alt=\"Open In Colab\"/></a>"
      ]
    },
    {
      "cell_type": "markdown",
      "source": [
        "# Task"
      ],
      "metadata": {
        "id": "FjfxQospZmZn"
      }
    },
    {
      "cell_type": "markdown",
      "source": [
        "Select one of your previous projects that includes a machine learning component and use MLflow to track and manage your machine learning experiments. The following tasks should be performed:\n",
        "\n",
        "- Train a machine learning model using the data from your previous project. You can use any machine learning model that is appropriate for your data and problem.\n",
        "\n",
        "- Use MLflow to track and manage your machine learning experiments. Log the hyperparameters, metrics, and artifacts of your machine learning experiments in MLflow. Save structured and unstructured information related to your trained model in SQLite within MLflow.\n",
        "\n",
        "- Optionally, prepare an ML app based on three layers (data, business, presentation) to provide a user-friendly interface for interacting with your machine learning model. This will involve creating a data layer that handles the data processing pipeline and provides functions for loading and preprocessing the data, a business layer that implements the machine learning model and its related functions, and a presentation layer that implements the user interface and connects it to the business layer."
      ],
      "metadata": {
        "id": "anXOXiWiZoE3"
      }
    },
    {
      "cell_type": "markdown",
      "source": [
        "# Imports"
      ],
      "metadata": {
        "id": "5K-7veNeZplA"
      }
    },
    {
      "cell_type": "code",
      "source": [
        "!pip install mlflow -q"
      ],
      "metadata": {
        "id": "Z2Gi51xOZnBz"
      },
      "execution_count": null,
      "outputs": []
    },
    {
      "cell_type": "code",
      "source": [
        "import pandas as pd\n",
        "import sqlite3\n",
        "\n",
        "pd.set_option('max_colwidth', 1000)\n",
        "pd.describe_option('max_colwidth')"
      ],
      "metadata": {
        "colab": {
          "base_uri": "https://localhost:8080/"
        },
        "id": "P5dz7VATZyPy",
        "outputId": "46ad7ed5-7385-4853-e60a-a88eb9f8fbff"
      },
      "execution_count": null,
      "outputs": [
        {
          "output_type": "stream",
          "name": "stdout",
          "text": [
            "display.max_colwidth : int or None\n",
            "    The maximum width in characters of a column in the repr of\n",
            "    a pandas data structure. When the column overflows, a \"...\"\n",
            "    placeholder is embedded in the output. A 'None' value means unlimited.\n",
            "    [default: 50] [currently: 1000]\n"
          ]
        }
      ]
    },
    {
      "cell_type": "markdown",
      "source": [
        "# Cleaning the data"
      ],
      "metadata": {
        "id": "CyxRrYwQZ3Sr"
      }
    },
    {
      "cell_type": "code",
      "source": [
        "# Reading the CSV files into Pandas Dataframes and merging them together based on player ID\n",
        "baseball_master = pd.read_csv('https://raw.githubusercontent.com/NadiaHolmlund/M6_Group_Assignments/main/Group_Assignment_3/Data/Master.csv', encoding=\"ISO-8859-1\")\n",
        "baseball_batting = pd.read_csv('https://raw.githubusercontent.com/NadiaHolmlund/M6_Group_Assignments/main/Group_Assignment_3/Data/Batting.csv', encoding=\"ISO-8859-1\")\n",
        "\n",
        "baseball = baseball_master.merge(baseball_batting, on = 'playerID')"
      ],
      "metadata": {
        "id": "_RL3UkukZ3p8"
      },
      "execution_count": null,
      "outputs": []
    },
    {
      "cell_type": "code",
      "source": [
        "# Examining the DataFrame\n",
        "baseball.head()"
      ],
      "metadata": {
        "colab": {
          "base_uri": "https://localhost:8080/",
          "height": 292
        },
        "id": "YJKI83uKZ6L5",
        "outputId": "25183425-5caf-4216-bb58-5661750fa9a4"
      },
      "execution_count": null,
      "outputs": [
        {
          "output_type": "execute_result",
          "data": {
            "text/plain": [
              "   lahmanID   playerID managerID       hofID  birthYear  birthMonth  birthDay  \\\n",
              "0         1  aaronha01       NaN  aaronha01h     1934.0         2.0       5.0   \n",
              "1         1  aaronha01       NaN  aaronha01h     1934.0         2.0       5.0   \n",
              "2         1  aaronha01       NaN  aaronha01h     1934.0         2.0       5.0   \n",
              "3         1  aaronha01       NaN  aaronha01h     1934.0         2.0       5.0   \n",
              "4         1  aaronha01       NaN  aaronha01h     1934.0         2.0       5.0   \n",
              "\n",
              "  birthCountry birthState birthCity  ...   SB   CS    BB    SO   IBB  HBP  \\\n",
              "0          USA         AL    Mobile  ...  2.0  2.0  28.0  39.0   NaN  3.0   \n",
              "1          USA         AL    Mobile  ...  3.0  1.0  49.0  61.0   5.0  3.0   \n",
              "2          USA         AL    Mobile  ...  2.0  4.0  37.0  54.0   6.0  2.0   \n",
              "3          USA         AL    Mobile  ...  1.0  1.0  57.0  58.0  15.0  0.0   \n",
              "4          USA         AL    Mobile  ...  4.0  1.0  59.0  49.0  16.0  1.0   \n",
              "\n",
              "    SH   SF  GIDP  G_old  \n",
              "0  6.0  4.0  13.0  122.0  \n",
              "1  7.0  4.0  20.0  153.0  \n",
              "2  5.0  7.0  21.0  153.0  \n",
              "3  0.0  3.0  13.0  151.0  \n",
              "4  0.0  3.0  21.0  153.0  \n",
              "\n",
              "[5 rows x 56 columns]"
            ],
            "text/html": [
              "\n",
              "  <div id=\"df-15c36b0e-bdb8-4e04-8f0c-f09679554828\">\n",
              "    <div class=\"colab-df-container\">\n",
              "      <div>\n",
              "<style scoped>\n",
              "    .dataframe tbody tr th:only-of-type {\n",
              "        vertical-align: middle;\n",
              "    }\n",
              "\n",
              "    .dataframe tbody tr th {\n",
              "        vertical-align: top;\n",
              "    }\n",
              "\n",
              "    .dataframe thead th {\n",
              "        text-align: right;\n",
              "    }\n",
              "</style>\n",
              "<table border=\"1\" class=\"dataframe\">\n",
              "  <thead>\n",
              "    <tr style=\"text-align: right;\">\n",
              "      <th></th>\n",
              "      <th>lahmanID</th>\n",
              "      <th>playerID</th>\n",
              "      <th>managerID</th>\n",
              "      <th>hofID</th>\n",
              "      <th>birthYear</th>\n",
              "      <th>birthMonth</th>\n",
              "      <th>birthDay</th>\n",
              "      <th>birthCountry</th>\n",
              "      <th>birthState</th>\n",
              "      <th>birthCity</th>\n",
              "      <th>...</th>\n",
              "      <th>SB</th>\n",
              "      <th>CS</th>\n",
              "      <th>BB</th>\n",
              "      <th>SO</th>\n",
              "      <th>IBB</th>\n",
              "      <th>HBP</th>\n",
              "      <th>SH</th>\n",
              "      <th>SF</th>\n",
              "      <th>GIDP</th>\n",
              "      <th>G_old</th>\n",
              "    </tr>\n",
              "  </thead>\n",
              "  <tbody>\n",
              "    <tr>\n",
              "      <th>0</th>\n",
              "      <td>1</td>\n",
              "      <td>aaronha01</td>\n",
              "      <td>NaN</td>\n",
              "      <td>aaronha01h</td>\n",
              "      <td>1934.0</td>\n",
              "      <td>2.0</td>\n",
              "      <td>5.0</td>\n",
              "      <td>USA</td>\n",
              "      <td>AL</td>\n",
              "      <td>Mobile</td>\n",
              "      <td>...</td>\n",
              "      <td>2.0</td>\n",
              "      <td>2.0</td>\n",
              "      <td>28.0</td>\n",
              "      <td>39.0</td>\n",
              "      <td>NaN</td>\n",
              "      <td>3.0</td>\n",
              "      <td>6.0</td>\n",
              "      <td>4.0</td>\n",
              "      <td>13.0</td>\n",
              "      <td>122.0</td>\n",
              "    </tr>\n",
              "    <tr>\n",
              "      <th>1</th>\n",
              "      <td>1</td>\n",
              "      <td>aaronha01</td>\n",
              "      <td>NaN</td>\n",
              "      <td>aaronha01h</td>\n",
              "      <td>1934.0</td>\n",
              "      <td>2.0</td>\n",
              "      <td>5.0</td>\n",
              "      <td>USA</td>\n",
              "      <td>AL</td>\n",
              "      <td>Mobile</td>\n",
              "      <td>...</td>\n",
              "      <td>3.0</td>\n",
              "      <td>1.0</td>\n",
              "      <td>49.0</td>\n",
              "      <td>61.0</td>\n",
              "      <td>5.0</td>\n",
              "      <td>3.0</td>\n",
              "      <td>7.0</td>\n",
              "      <td>4.0</td>\n",
              "      <td>20.0</td>\n",
              "      <td>153.0</td>\n",
              "    </tr>\n",
              "    <tr>\n",
              "      <th>2</th>\n",
              "      <td>1</td>\n",
              "      <td>aaronha01</td>\n",
              "      <td>NaN</td>\n",
              "      <td>aaronha01h</td>\n",
              "      <td>1934.0</td>\n",
              "      <td>2.0</td>\n",
              "      <td>5.0</td>\n",
              "      <td>USA</td>\n",
              "      <td>AL</td>\n",
              "      <td>Mobile</td>\n",
              "      <td>...</td>\n",
              "      <td>2.0</td>\n",
              "      <td>4.0</td>\n",
              "      <td>37.0</td>\n",
              "      <td>54.0</td>\n",
              "      <td>6.0</td>\n",
              "      <td>2.0</td>\n",
              "      <td>5.0</td>\n",
              "      <td>7.0</td>\n",
              "      <td>21.0</td>\n",
              "      <td>153.0</td>\n",
              "    </tr>\n",
              "    <tr>\n",
              "      <th>3</th>\n",
              "      <td>1</td>\n",
              "      <td>aaronha01</td>\n",
              "      <td>NaN</td>\n",
              "      <td>aaronha01h</td>\n",
              "      <td>1934.0</td>\n",
              "      <td>2.0</td>\n",
              "      <td>5.0</td>\n",
              "      <td>USA</td>\n",
              "      <td>AL</td>\n",
              "      <td>Mobile</td>\n",
              "      <td>...</td>\n",
              "      <td>1.0</td>\n",
              "      <td>1.0</td>\n",
              "      <td>57.0</td>\n",
              "      <td>58.0</td>\n",
              "      <td>15.0</td>\n",
              "      <td>0.0</td>\n",
              "      <td>0.0</td>\n",
              "      <td>3.0</td>\n",
              "      <td>13.0</td>\n",
              "      <td>151.0</td>\n",
              "    </tr>\n",
              "    <tr>\n",
              "      <th>4</th>\n",
              "      <td>1</td>\n",
              "      <td>aaronha01</td>\n",
              "      <td>NaN</td>\n",
              "      <td>aaronha01h</td>\n",
              "      <td>1934.0</td>\n",
              "      <td>2.0</td>\n",
              "      <td>5.0</td>\n",
              "      <td>USA</td>\n",
              "      <td>AL</td>\n",
              "      <td>Mobile</td>\n",
              "      <td>...</td>\n",
              "      <td>4.0</td>\n",
              "      <td>1.0</td>\n",
              "      <td>59.0</td>\n",
              "      <td>49.0</td>\n",
              "      <td>16.0</td>\n",
              "      <td>1.0</td>\n",
              "      <td>0.0</td>\n",
              "      <td>3.0</td>\n",
              "      <td>21.0</td>\n",
              "      <td>153.0</td>\n",
              "    </tr>\n",
              "  </tbody>\n",
              "</table>\n",
              "<p>5 rows × 56 columns</p>\n",
              "</div>\n",
              "      <button class=\"colab-df-convert\" onclick=\"convertToInteractive('df-15c36b0e-bdb8-4e04-8f0c-f09679554828')\"\n",
              "              title=\"Convert this dataframe to an interactive table.\"\n",
              "              style=\"display:none;\">\n",
              "        \n",
              "  <svg xmlns=\"http://www.w3.org/2000/svg\" height=\"24px\"viewBox=\"0 0 24 24\"\n",
              "       width=\"24px\">\n",
              "    <path d=\"M0 0h24v24H0V0z\" fill=\"none\"/>\n",
              "    <path d=\"M18.56 5.44l.94 2.06.94-2.06 2.06-.94-2.06-.94-.94-2.06-.94 2.06-2.06.94zm-11 1L8.5 8.5l.94-2.06 2.06-.94-2.06-.94L8.5 2.5l-.94 2.06-2.06.94zm10 10l.94 2.06.94-2.06 2.06-.94-2.06-.94-.94-2.06-.94 2.06-2.06.94z\"/><path d=\"M17.41 7.96l-1.37-1.37c-.4-.4-.92-.59-1.43-.59-.52 0-1.04.2-1.43.59L10.3 9.45l-7.72 7.72c-.78.78-.78 2.05 0 2.83L4 21.41c.39.39.9.59 1.41.59.51 0 1.02-.2 1.41-.59l7.78-7.78 2.81-2.81c.8-.78.8-2.07 0-2.86zM5.41 20L4 18.59l7.72-7.72 1.47 1.35L5.41 20z\"/>\n",
              "  </svg>\n",
              "      </button>\n",
              "      \n",
              "  <style>\n",
              "    .colab-df-container {\n",
              "      display:flex;\n",
              "      flex-wrap:wrap;\n",
              "      gap: 12px;\n",
              "    }\n",
              "\n",
              "    .colab-df-convert {\n",
              "      background-color: #E8F0FE;\n",
              "      border: none;\n",
              "      border-radius: 50%;\n",
              "      cursor: pointer;\n",
              "      display: none;\n",
              "      fill: #1967D2;\n",
              "      height: 32px;\n",
              "      padding: 0 0 0 0;\n",
              "      width: 32px;\n",
              "    }\n",
              "\n",
              "    .colab-df-convert:hover {\n",
              "      background-color: #E2EBFA;\n",
              "      box-shadow: 0px 1px 2px rgba(60, 64, 67, 0.3), 0px 1px 3px 1px rgba(60, 64, 67, 0.15);\n",
              "      fill: #174EA6;\n",
              "    }\n",
              "\n",
              "    [theme=dark] .colab-df-convert {\n",
              "      background-color: #3B4455;\n",
              "      fill: #D2E3FC;\n",
              "    }\n",
              "\n",
              "    [theme=dark] .colab-df-convert:hover {\n",
              "      background-color: #434B5C;\n",
              "      box-shadow: 0px 1px 3px 1px rgba(0, 0, 0, 0.15);\n",
              "      filter: drop-shadow(0px 1px 2px rgba(0, 0, 0, 0.3));\n",
              "      fill: #FFFFFF;\n",
              "    }\n",
              "  </style>\n",
              "\n",
              "      <script>\n",
              "        const buttonEl =\n",
              "          document.querySelector('#df-15c36b0e-bdb8-4e04-8f0c-f09679554828 button.colab-df-convert');\n",
              "        buttonEl.style.display =\n",
              "          google.colab.kernel.accessAllowed ? 'block' : 'none';\n",
              "\n",
              "        async function convertToInteractive(key) {\n",
              "          const element = document.querySelector('#df-15c36b0e-bdb8-4e04-8f0c-f09679554828');\n",
              "          const dataTable =\n",
              "            await google.colab.kernel.invokeFunction('convertToInteractive',\n",
              "                                                     [key], {});\n",
              "          if (!dataTable) return;\n",
              "\n",
              "          const docLinkHtml = 'Like what you see? Visit the ' +\n",
              "            '<a target=\"_blank\" href=https://colab.research.google.com/notebooks/data_table.ipynb>data table notebook</a>'\n",
              "            + ' to learn more about interactive tables.';\n",
              "          element.innerHTML = '';\n",
              "          dataTable['output_type'] = 'display_data';\n",
              "          await google.colab.output.renderOutput(dataTable, element);\n",
              "          const docLink = document.createElement('div');\n",
              "          docLink.innerHTML = docLinkHtml;\n",
              "          element.appendChild(docLink);\n",
              "        }\n",
              "      </script>\n",
              "    </div>\n",
              "  </div>\n",
              "  "
            ]
          },
          "metadata": {},
          "execution_count": 6
        }
      ]
    },
    {
      "cell_type": "code",
      "source": [
        "# Examining the DataFrame\n",
        "baseball.info()"
      ],
      "metadata": {
        "colab": {
          "base_uri": "https://localhost:8080/"
        },
        "id": "tLyxle25Z7Tf",
        "outputId": "a3942eda-5a79-45c2-fedf-338170ea9a0e"
      },
      "execution_count": null,
      "outputs": [
        {
          "output_type": "stream",
          "name": "stdout",
          "text": [
            "<class 'pandas.core.frame.DataFrame'>\n",
            "Int64Index: 96609 entries, 0 to 96608\n",
            "Data columns (total 56 columns):\n",
            " #   Column        Non-Null Count  Dtype  \n",
            "---  ------        --------------  -----  \n",
            " 0   lahmanID      96609 non-null  int64  \n",
            " 1   playerID      96609 non-null  object \n",
            " 2   managerID     6546 non-null   object \n",
            " 3   hofID         17793 non-null  object \n",
            " 4   birthYear     96294 non-null  float64\n",
            " 5   birthMonth    95759 non-null  float64\n",
            " 6   birthDay      95397 non-null  float64\n",
            " 7   birthCountry  96174 non-null  object \n",
            " 8   birthState    86389 non-null  object \n",
            " 9   birthCity     95844 non-null  object \n",
            " 10  deathYear     39107 non-null  float64\n",
            " 11  deathMonth    39096 non-null  float64\n",
            " 12  deathDay      39095 non-null  float64\n",
            " 13  deathCountry  38839 non-null  object \n",
            " 14  deathState    38415 non-null  object \n",
            " 15  deathCity     38804 non-null  object \n",
            " 16  nameFirst     96557 non-null  object \n",
            " 17  nameLast      96609 non-null  object \n",
            " 18  nameNote      2459 non-null   object \n",
            " 19  nameGiven     92778 non-null  object \n",
            " 20  nameNick      19995 non-null  object \n",
            " 21  weight        95317 non-null  float64\n",
            " 22  height        95353 non-null  float64\n",
            " 23  bats          94364 non-null  object \n",
            " 24  throws        94906 non-null  object \n",
            " 25  debut         96603 non-null  object \n",
            " 26  finalGame     84966 non-null  object \n",
            " 27  college       24348 non-null  object \n",
            " 28  lahman40ID    88232 non-null  object \n",
            " 29  lahman45ID    88232 non-null  object \n",
            " 30  retroID       96214 non-null  object \n",
            " 31  holtzID       88260 non-null  object \n",
            " 32  bbrefID       96394 non-null  object \n",
            " 33  yearID        96609 non-null  int64  \n",
            " 34  stint         96609 non-null  int64  \n",
            " 35  teamID        96609 non-null  object \n",
            " 36  lgID          95872 non-null  object \n",
            " 37  G             96609 non-null  int64  \n",
            " 38  G_batting     95203 non-null  float64\n",
            " 39  AB            90196 non-null  float64\n",
            " 40  R             90196 non-null  float64\n",
            " 41  H             90196 non-null  float64\n",
            " 42  2B            90196 non-null  float64\n",
            " 43  3B            90196 non-null  float64\n",
            " 44  HR            90196 non-null  float64\n",
            " 45  RBI           89772 non-null  float64\n",
            " 46  SB            88896 non-null  float64\n",
            " 47  CS            66742 non-null  float64\n",
            " 48  BB            90196 non-null  float64\n",
            " 49  SO            82358 non-null  float64\n",
            " 50  IBB           53632 non-null  float64\n",
            " 51  HBP           87376 non-null  float64\n",
            " 52  SH            83858 non-null  float64\n",
            " 53  SF            54163 non-null  float64\n",
            " 54  GIDP          64088 non-null  float64\n",
            " 55  G_old         92707 non-null  float64\n",
            "dtypes: float64(26), int64(4), object(26)\n",
            "memory usage: 42.0+ MB\n"
          ]
        }
      ]
    },
    {
      "cell_type": "code",
      "source": [
        "# Extracting columns to be included in the database\n",
        "baseball_db = baseball[['weight', 'height', 'G', 'AB', 'HR']]"
      ],
      "metadata": {
        "id": "CL79WZNjZ87h"
      },
      "execution_count": null,
      "outputs": []
    },
    {
      "cell_type": "code",
      "source": [
        "# Dropping NaN values\n",
        "baseball_db = baseball_db.dropna()"
      ],
      "metadata": {
        "id": "dvvbTJ16Z-KJ"
      },
      "execution_count": null,
      "outputs": []
    },
    {
      "cell_type": "code",
      "source": [
        "# Examining the dataFrame\n",
        "baseball_db.info()"
      ],
      "metadata": {
        "colab": {
          "base_uri": "https://localhost:8080/"
        },
        "id": "bgdsK7HvZ_Yi",
        "outputId": "374de581-143a-4831-85d2-1f7ffd261168"
      },
      "execution_count": null,
      "outputs": [
        {
          "output_type": "stream",
          "name": "stdout",
          "text": [
            "<class 'pandas.core.frame.DataFrame'>\n",
            "Int64Index: 88718 entries, 0 to 96604\n",
            "Data columns (total 5 columns):\n",
            " #   Column  Non-Null Count  Dtype  \n",
            "---  ------  --------------  -----  \n",
            " 0   weight  88718 non-null  float64\n",
            " 1   height  88718 non-null  float64\n",
            " 2   G       88718 non-null  int64  \n",
            " 3   AB      88718 non-null  float64\n",
            " 4   HR      88718 non-null  float64\n",
            "dtypes: float64(4), int64(1)\n",
            "memory usage: 4.1 MB\n"
          ]
        }
      ]
    },
    {
      "cell_type": "markdown",
      "source": [
        "# Setting up the Data Layer"
      ],
      "metadata": {
        "id": "DjGIGipbaAof"
      }
    },
    {
      "cell_type": "markdown",
      "source": [
        "Creating a SQLite database for the baseball dataset"
      ],
      "metadata": {
        "id": "gKxc8Sk7aB26"
      }
    },
    {
      "cell_type": "code",
      "source": [
        "#database.py\n",
        "import sqlite3\n",
        "import pandas as pd\n",
        "\n",
        "def init_db():\n",
        "  # Connect to the SQLite database\n",
        "  conn = sqlite3.connect(\"baseball.db\")\n",
        "\n",
        "  # Save the Pandas DataFrame to the SQLite database\n",
        "  baseball_db.to_sql(\"baseball\", conn, if_exists=\"replace\", index=False)\n",
        "\n",
        "  # Close the connection to the SQLite database\n",
        "  conn.close()\n",
        "\n",
        "if __name__ == '__main__':\n",
        "    init_db()"
      ],
      "metadata": {
        "id": "cn0TlHsCaDWO"
      },
      "execution_count": null,
      "outputs": []
    },
    {
      "cell_type": "markdown",
      "source": [
        "# Setting up the Business Layer with MLFlow"
      ],
      "metadata": {
        "id": "LzHgbuMkaE1s"
      }
    },
    {
      "cell_type": "markdown",
      "source": [
        "Using the Scikit-Learn library to train a machine learning model for HR prediction.\n",
        "\n",
        "The code also sets up an experiment named \"HR_Prediction\" and logs the model's parameters, performance metrics, and the trained model itself as an artifact in MLflow."
      ],
      "metadata": {
        "id": "euyFIs9oaHO5"
      }
    },
    {
      "cell_type": "code",
      "source": [
        "import mlflow\n",
        "import mlflow.sklearn\n",
        "from sklearn.model_selection import train_test_split\n",
        "from sklearn.ensemble import RandomForestRegressor\n",
        "import sqlite3\n",
        "import pandas as pd\n",
        "\n",
        "# Connect to the SQLite database\n",
        "conn = sqlite3.connect(\"baseball.db\")\n",
        "\n",
        "# Read data from a table using Pandas\n",
        "data_df = pd.read_sql(\"SELECT * FROM baseball\", conn)\n",
        "\n",
        "def train_model():\n",
        "    mlflow.set_experiment(\"HR_Prediction\")\n",
        "    X = data_df.drop('HR', axis=1)\n",
        "    y = data_df['HR']\n",
        "\n",
        "    X_train, X_test, y_train, y_test = train_test_split(X, y, test_size=0.3, random_state=42)\n",
        "\n",
        "    RFR = RandomForestRegressor(n_estimators=100, criterion=\"squared_error\")\n",
        "\n",
        "    with mlflow.start_run():\n",
        "        RFR.fit(X_train, y_train)\n",
        "\n",
        "        # Log model parameters\n",
        "        mlflow.log_param(\"n_estimators\", RFR.n_estimators)\n",
        "        mlflow.log_param(\"criterion\", RFR.criterion)\n",
        "\n",
        "        # Log model performance metrics\n",
        "        train_score = RFR.score(X_train, y_train)\n",
        "        test_score = RFR.score(X_test, y_test)\n",
        "        mlflow.log_metric(\"train_score\", train_score)\n",
        "        mlflow.log_metric(\"test_score\", test_score)\n",
        "\n",
        "        # Save the model as an artifact\n",
        "        mlflow.sklearn.log_model(RFR, \"model\")\n",
        "\n",
        "    return RFR, test_score\n",
        "\n",
        "if __name__ == '__main__':\n",
        "    RFR, accuracy = train_model()\n",
        "    print(f\"Model trained with accuracy: {accuracy}\")\n",
        "    mlflow.log_metric(\"accuracy\", accuracy)\n",
        "    mlflow.sklearn.log_model(RFR, \"model\")\n",
        "    mlflow.sklearn.log_model(RFR, \"model\", registered_model_name=\"HR_model\")\n",
        "    mlflow.sklearn.save_model(RFR, \"HR_model\")\n",
        "\n",
        "    # Launch MLflow UI\n",
        "    import os\n",
        "    os.system(\"mlflow ui\")"
      ],
      "metadata": {
        "colab": {
          "base_uri": "https://localhost:8080/"
        },
        "id": "ZKp-MWM8aK6H",
        "outputId": "613bfcfd-9ded-40a4-84f6-3d849c32dea5"
      },
      "execution_count": null,
      "outputs": [
        {
          "output_type": "stream",
          "name": "stderr",
          "text": [
            "2023/04/16 18:54:58 INFO mlflow.tracking.fluent: Experiment with name 'HR_Prediction' does not exist. Creating a new experiment.\n"
          ]
        },
        {
          "output_type": "stream",
          "name": "stdout",
          "text": [
            "Model trained with accuracy: 0.6505444769367961\n"
          ]
        },
        {
          "output_type": "stream",
          "name": "stderr",
          "text": [
            "Successfully registered model 'HR_model'.\n",
            "2023/04/16 18:55:42 INFO mlflow.tracking._model_registry.client: Waiting up to 300 seconds for model version to finish creation.                     Model name: HR_model, version 1\n",
            "Created version '1' of model 'HR_model'.\n"
          ]
        }
      ]
    },
    {
      "cell_type": "markdown",
      "source": [
        "# Experiments saved on MLFlow"
      ],
      "metadata": {
        "id": "XWz7SFUkz0Rb"
      }
    },
    {
      "cell_type": "markdown",
      "source": [
        "![picture](https://raw.github.com/NadiaHolmlund/M6_Group_Assignments/main/Group_Assignment_3/Data/Screenshot%202023-04-17%20at%2012.22.24.png)"
      ],
      "metadata": {
        "id": "OBsXzNsxzVFw"
      }
    }
  ]
}