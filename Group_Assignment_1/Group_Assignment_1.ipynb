{
  "nbformat": 4,
  "nbformat_minor": 0,
  "metadata": {
    "colab": {
      "provenance": [],
      "toc_visible": true,
      "authorship_tag": "ABX9TyNx0VGeMFddvindW+r3nGpk",
      "include_colab_link": true
    },
    "kernelspec": {
      "name": "python3",
      "display_name": "Python 3"
    },
    "language_info": {
      "name": "python"
    }
  },
  "cells": [
    {
      "cell_type": "markdown",
      "metadata": {
        "id": "view-in-github",
        "colab_type": "text"
      },
      "source": [
        "<a href=\"https://colab.research.google.com/github/NadiaHolmlund/M6_Group_Assignments/blob/main/Group_Assignment_1/Group_Assignment_1.ipynb\" target=\"_parent\"><img src=\"https://colab.research.google.com/assets/colab-badge.svg\" alt=\"Open In Colab\"/></a>"
      ]
    },
    {
      "cell_type": "markdown",
      "source": [
        "# Task\n",
        "\n",
        "Develop a Proof-of-Concept version of an application that is querying a database to come provide an output to the user."
      ],
      "metadata": {
        "id": "uUxiGoVQIwKg"
      }
    },
    {
      "cell_type": "markdown",
      "source": [
        "This can be for example:\n",
        "- Selecting observations from database, performing prediction with a (beforehand fitted) SML model.\n",
        "- Perform a UML procedure on observations queried from a database.\n",
        "- Perform a semantic/similarity search for an user input, retrieve most similar docs from a database.\n",
        "\n",
        "The data used should be non-trivial (eg.: enough observations,´maybe multiple tables, different types of data…)\n",
        " - The solution has to be self-contained. This can be done:\n",
        " - Within a colab using for grad.io. (Hint: An option is to save the database on github, and then load it in the colab).)\n",
        " - As a streamlit app (figure out how to make it self-contained).\n",
        " - (sky is the limit.)\n",
        "\n",
        "Possible databases:\n",
        "- SQL DB (eg. SQL-lite)\n",
        "- NoSQL DB\n",
        " - Document (eg. tinyDB)\n",
        " - Vector (Eg. Faiss, Chroma)"
      ],
      "metadata": {
        "id": "MixgZ6VgIzCm"
      }
    },
    {
      "cell_type": "markdown",
      "source": [
        "# Solution"
      ],
      "metadata": {
        "id": "b2-BSVkKI4Se"
      }
    },
    {
      "cell_type": "markdown",
      "source": [
        "In the following, we have created a SQLite database containing the 2.000 most cited documents on Scopus within the topic of Natural Language Processing.\n",
        "\n",
        "Subsequently, a T5 summarization pipeline has been applied from HuggingFace to generate very brief summaries of the abstracts, in order for users to quickly get an overview of the main points of a document. The model is demonstrated in Grad.io in which the user can select a document from the Scopus database or upload their own abstract/abstracts not available in the database. The application then returns a super-summarized abstract."
      ],
      "metadata": {
        "id": "W1SKVFwtI55F"
      }
    },
    {
      "cell_type": "markdown",
      "source": [
        "# Imports"
      ],
      "metadata": {
        "id": "UvBbIiEkJcDM"
      }
    },
    {
      "cell_type": "code",
      "source": [
        "!pip install gradio --q\n",
        "!pip install transformers --q"
      ],
      "metadata": {
        "id": "d8wO5bA8dslr",
        "colab": {
          "base_uri": "https://localhost:8080/"
        },
        "outputId": "e51f2560-e003-487d-87ce-b8648ff1c61e"
      },
      "execution_count": 1,
      "outputs": [
        {
          "output_type": "stream",
          "name": "stdout",
          "text": [
            "\u001b[2K     \u001b[90m━━━━━━━━━━━━━━━━━━━━━━━━━━━━━━━━━━━━━━━━\u001b[0m \u001b[32m15.8/15.8 MB\u001b[0m \u001b[31m52.5 MB/s\u001b[0m eta \u001b[36m0:00:00\u001b[0m\n",
            "\u001b[?25h  Preparing metadata (setup.py) ... \u001b[?25l\u001b[?25hdone\n",
            "\u001b[2K     \u001b[90m━━━━━━━━━━━━━━━━━━━━━━━━━━━━━━━━━━━━━━━\u001b[0m \u001b[32m199.8/199.8 KB\u001b[0m \u001b[31m7.5 MB/s\u001b[0m eta \u001b[36m0:00:00\u001b[0m\n",
            "\u001b[2K     \u001b[90m━━━━━━━━━━━━━━━━━━━━━━━━━━━━━━━━━━━━━━━━\u001b[0m \u001b[32m1.0/1.0 MB\u001b[0m \u001b[31m24.0 MB/s\u001b[0m eta \u001b[36m0:00:00\u001b[0m\n",
            "\u001b[2K     \u001b[90m━━━━━━━━━━━━━━━━━━━━━━━━━━━━━━━━━━━━━━━\u001b[0m \u001b[32m143.5/143.5 KB\u001b[0m \u001b[31m4.2 MB/s\u001b[0m eta \u001b[36m0:00:00\u001b[0m\n",
            "\u001b[2K     \u001b[90m━━━━━━━━━━━━━━━━━━━━━━━━━━━━━━━━━━━━━━━━\u001b[0m \u001b[32m71.5/71.5 KB\u001b[0m \u001b[31m3.0 MB/s\u001b[0m eta \u001b[36m0:00:00\u001b[0m\n",
            "\u001b[2K     \u001b[90m━━━━━━━━━━━━━━━━━━━━━━━━━━━━━━━━━━━━━━━━\u001b[0m \u001b[32m50.5/50.5 KB\u001b[0m \u001b[31m3.2 MB/s\u001b[0m eta \u001b[36m0:00:00\u001b[0m\n",
            "\u001b[2K     \u001b[90m━━━━━━━━━━━━━━━━━━━━━━━━━━━━━━━━━━━━━━━\u001b[0m \u001b[32m106.5/106.5 KB\u001b[0m \u001b[31m3.8 MB/s\u001b[0m eta \u001b[36m0:00:00\u001b[0m\n",
            "\u001b[2K     \u001b[90m━━━━━━━━━━━━━━━━━━━━━━━━━━━━━━━━━━━━━━━━\u001b[0m \u001b[32m45.7/45.7 KB\u001b[0m \u001b[31m2.3 MB/s\u001b[0m eta \u001b[36m0:00:00\u001b[0m\n",
            "\u001b[2K     \u001b[90m━━━━━━━━━━━━━━━━━━━━━━━━━━━━━━━━━━━━━━━━\u001b[0m \u001b[32m57.8/57.8 KB\u001b[0m \u001b[31m3.0 MB/s\u001b[0m eta \u001b[36m0:00:00\u001b[0m\n",
            "\u001b[2K     \u001b[90m━━━━━━━━━━━━━━━━━━━━━━━━━━━━━━━━━━━━━━━━\u001b[0m \u001b[32m57.1/57.1 KB\u001b[0m \u001b[31m2.1 MB/s\u001b[0m eta \u001b[36m0:00:00\u001b[0m\n",
            "\u001b[2K     \u001b[90m━━━━━━━━━━━━━━━━━━━━━━━━━━━━━━━━━━━━━━━\u001b[0m \u001b[32m158.8/158.8 KB\u001b[0m \u001b[31m1.8 MB/s\u001b[0m eta \u001b[36m0:00:00\u001b[0m\n",
            "\u001b[2K     \u001b[90m━━━━━━━━━━━━━━━━━━━━━━━━━━━━━━━━━━━━━━━\u001b[0m \u001b[32m114.2/114.2 KB\u001b[0m \u001b[31m3.4 MB/s\u001b[0m eta \u001b[36m0:00:00\u001b[0m\n",
            "\u001b[2K     \u001b[90m━━━━━━━━━━━━━━━━━━━━━━━━━━━━━━━━━━━━━━\u001b[0m \u001b[32m264.6/264.6 KB\u001b[0m \u001b[31m12.3 MB/s\u001b[0m eta \u001b[36m0:00:00\u001b[0m\n",
            "\u001b[2K     \u001b[90m━━━━━━━━━━━━━━━━━━━━━━━━━━━━━━━━━━━━━━━━\u001b[0m \u001b[32m66.9/66.9 KB\u001b[0m \u001b[31m2.9 MB/s\u001b[0m eta \u001b[36m0:00:00\u001b[0m\n",
            "\u001b[2K     \u001b[90m━━━━━━━━━━━━━━━━━━━━━━━━━━━━━━━━━━━━━━━━\u001b[0m \u001b[32m69.6/69.6 KB\u001b[0m \u001b[31m4.7 MB/s\u001b[0m eta \u001b[36m0:00:00\u001b[0m\n",
            "\u001b[2K     \u001b[90m━━━━━━━━━━━━━━━━━━━━━━━━━━━━━━━━━━━━━━━━\u001b[0m \u001b[32m58.3/58.3 KB\u001b[0m \u001b[31m1.6 MB/s\u001b[0m eta \u001b[36m0:00:00\u001b[0m\n",
            "\u001b[2K     \u001b[90m━━━━━━━━━━━━━━━━━━━━━━━━━━━━━━━━━━━━━━━━\u001b[0m \u001b[32m80.6/80.6 KB\u001b[0m \u001b[31m4.4 MB/s\u001b[0m eta \u001b[36m0:00:00\u001b[0m\n",
            "\u001b[?25h  Building wheel for ffmpy (setup.py) ... \u001b[?25l\u001b[?25hdone\n",
            "\u001b[2K     \u001b[90m━━━━━━━━━━━━━━━━━━━━━━━━━━━━━━━━━━━━━━━━\u001b[0m \u001b[32m6.8/6.8 MB\u001b[0m \u001b[31m18.3 MB/s\u001b[0m eta \u001b[36m0:00:00\u001b[0m\n",
            "\u001b[2K     \u001b[90m━━━━━━━━━━━━━━━━━━━━━━━━━━━━━━━━━━━━━━━━\u001b[0m \u001b[32m7.6/7.6 MB\u001b[0m \u001b[31m98.2 MB/s\u001b[0m eta \u001b[36m0:00:00\u001b[0m\n",
            "\u001b[?25h"
          ]
        }
      ]
    },
    {
      "cell_type": "code",
      "source": [
        "import pandas as pd\n",
        "import sqlite3\n",
        "from transformers import pipeline\n",
        "import gradio as gr\n",
        "from IPython.display import Image\n",
        "\n",
        "pd.set_option('max_colwidth', 1000)\n",
        "pd.describe_option('max_colwidth')"
      ],
      "metadata": {
        "colab": {
          "base_uri": "https://localhost:8080/"
        },
        "id": "T15GHfLTJbIQ",
        "outputId": "f2377f40-396d-48e8-ef22-4959f629cfa3"
      },
      "execution_count": 2,
      "outputs": [
        {
          "output_type": "stream",
          "name": "stdout",
          "text": [
            "display.max_colwidth : int or None\n",
            "    The maximum width in characters of a column in the repr of\n",
            "    a pandas data structure. When the column overflows, a \"...\"\n",
            "    placeholder is embedded in the output. A 'None' value means unlimited.\n",
            "    [default: 50] [currently: 1000]\n"
          ]
        }
      ]
    },
    {
      "cell_type": "markdown",
      "source": [
        "# Creating the database"
      ],
      "metadata": {
        "id": "Go0rY-GbJKYh"
      }
    },
    {
      "cell_type": "code",
      "execution_count": 3,
      "metadata": {
        "id": "h9niVPdXIQtb"
      },
      "outputs": [],
      "source": [
        "# Reading the CSV file into a Pandas DataFrame\n",
        "df = pd.read_csv('https://raw.githubusercontent.com/NadiaHolmlund/M6_Group_Assignments/main/Group_Assignment_1/Data/Scopus_NLP.csv')"
      ]
    },
    {
      "cell_type": "code",
      "source": [
        "# Examining the DataFrame\n",
        "df.head()"
      ],
      "metadata": {
        "colab": {
          "base_uri": "https://localhost:8080/",
          "height": 1000
        },
        "id": "RNpzpIc-NUPe",
        "outputId": "7a05f5e4-f860-4e9c-8731-ba97c1133985"
      },
      "execution_count": 4,
      "outputs": [
        {
          "output_type": "execute_result",
          "data": {
            "text/plain": [
              "                                                                                    Authors  \\\n",
              "0                                                    Pennington J., Socher R., Manning C.D.   \n",
              "1                                              Devlin J., Chang M.-W., Lee K., Toutanova K.   \n",
              "2  Cho K., Van Merriënboer B., Gulcehre C., Bahdanau D., Bougares F., Schwenk H., Bengio Y.   \n",
              "3                                                         Pang B., Lee L., Vaithyanathan S.   \n",
              "4                   Collobert R., Weston J., Bottou L., Karlen M., Kavukcuoglu K., Kuksa P.   \n",
              "\n",
              "                                                                         Author(s) ID  \\\n",
              "0                                                22953926600;24766896100;35280197500;   \n",
              "1                                     54879967400;25925685700;56349980800;6506107920;   \n",
              "2  55722769200;57188495900;56006846900;57188434700;42061073000;7005072756;7003958245;   \n",
              "3                                                   8644537200;7404389769;6603253116;   \n",
              "4              14064641400;8865128200;6701721644;25651854400;25646533000;57221708009;   \n",
              "\n",
              "                                                                                           Title  \\\n",
              "0                                                  GloVe: Global vectors for word representation   \n",
              "1               BERT: Pre-training of deep bidirectional transformers for language understanding   \n",
              "2  Learning phrase representations using RNN encoder-decoder for statistical machine translation   \n",
              "3                          Thumbs up? Sentiment Classification using Machine Learning Techniques   \n",
              "4                                              Natural language processing (almost) from scratch   \n",
              "\n",
              "   Year  \\\n",
              "0  2014   \n",
              "1  2019   \n",
              "2  2014   \n",
              "3  2002   \n",
              "4  2011   \n",
              "\n",
              "                                                                                                                                                                   Source title  \\\n",
              "0                                                               EMNLP 2014 - 2014 Conference on Empirical Methods in Natural Language Processing, Proceedings of the Conference   \n",
              "1  NAACL HLT 2019 - 2019 Conference of the North American Chapter of the Association for Computational Linguistics: Human Language Technologies - Proceedings of the Conference   \n",
              "2                                                               EMNLP 2014 - 2014 Conference on Empirical Methods in Natural Language Processing, Proceedings of the Conference   \n",
              "3                                                                            Proceedings of the 2002 Conference on Empirical Methods in Natural Language Processing, EMNLP 2002   \n",
              "4                                                                                                                                          Journal of Machine Learning Research   \n",
              "\n",
              "  Volume Issue Art. No. Page start Page end  ...           ISBN  CODEN  \\\n",
              "0    NaN   NaN      NaN       1532     1543  ...  9781937284961    NaN   \n",
              "1      1   NaN      NaN       4171     4186  ...  9781950737130    NaN   \n",
              "2    NaN   NaN      NaN       1724     1734  ...  9781937284961    NaN   \n",
              "3    NaN   NaN      NaN         79       86  ...            NaN    NaN   \n",
              "4     12   NaN      NaN       2493     2537  ...            NaN    NaN   \n",
              "\n",
              "  PubMed ID Language of Original Document  \\\n",
              "0       NaN                       English   \n",
              "1       NaN                       English   \n",
              "2       NaN                       English   \n",
              "3       NaN                       English   \n",
              "4       NaN                       English   \n",
              "\n",
              "                                                                         Abbreviated Source Title  \\\n",
              "0                                   EMNLP - Conf. Empir. Methods Nat. Lang. Process., Proc. Conf.   \n",
              "1  NAACL HLT - Conf. N. Am. Chapter Assoc. Comput. Linguistics: Hum. Lang. Technol. - Proc. Conf.   \n",
              "2                                   EMNLP - Conf. Empir. Methods Nat. Lang. Process., Proc. Conf.   \n",
              "3                                           Proc. Conf. Empir. Methods Nat. Lang. Process., EMNLP   \n",
              "4                                                                            J. Mach. Learn. Res.   \n",
              "\n",
              "      Document Type Publication Stage             Open Access  Source  \\\n",
              "0  Conference Paper             Final                     NaN  Scopus   \n",
              "1  Conference Paper             Final                     NaN  Scopus   \n",
              "2  Conference Paper             Final  All Open Access, Green  Scopus   \n",
              "3  Conference Paper             Final                     NaN  Scopus   \n",
              "4           Article             Final                     NaN  Scopus   \n",
              "\n",
              "                  EID  \n",
              "0  2-s2.0-84961289992  \n",
              "1  2-s2.0-85083815650  \n",
              "2  2-s2.0-84961291190  \n",
              "3  2-s2.0-85141803251  \n",
              "4  2-s2.0-80053558787  \n",
              "\n",
              "[5 rows x 54 columns]"
            ],
            "text/html": [
              "\n",
              "  <div id=\"df-2fa67101-7179-4838-b738-d2183740d24b\">\n",
              "    <div class=\"colab-df-container\">\n",
              "      <div>\n",
              "<style scoped>\n",
              "    .dataframe tbody tr th:only-of-type {\n",
              "        vertical-align: middle;\n",
              "    }\n",
              "\n",
              "    .dataframe tbody tr th {\n",
              "        vertical-align: top;\n",
              "    }\n",
              "\n",
              "    .dataframe thead th {\n",
              "        text-align: right;\n",
              "    }\n",
              "</style>\n",
              "<table border=\"1\" class=\"dataframe\">\n",
              "  <thead>\n",
              "    <tr style=\"text-align: right;\">\n",
              "      <th></th>\n",
              "      <th>Authors</th>\n",
              "      <th>Author(s) ID</th>\n",
              "      <th>Title</th>\n",
              "      <th>Year</th>\n",
              "      <th>Source title</th>\n",
              "      <th>Volume</th>\n",
              "      <th>Issue</th>\n",
              "      <th>Art. No.</th>\n",
              "      <th>Page start</th>\n",
              "      <th>Page end</th>\n",
              "      <th>...</th>\n",
              "      <th>ISBN</th>\n",
              "      <th>CODEN</th>\n",
              "      <th>PubMed ID</th>\n",
              "      <th>Language of Original Document</th>\n",
              "      <th>Abbreviated Source Title</th>\n",
              "      <th>Document Type</th>\n",
              "      <th>Publication Stage</th>\n",
              "      <th>Open Access</th>\n",
              "      <th>Source</th>\n",
              "      <th>EID</th>\n",
              "    </tr>\n",
              "  </thead>\n",
              "  <tbody>\n",
              "    <tr>\n",
              "      <th>0</th>\n",
              "      <td>Pennington J., Socher R., Manning C.D.</td>\n",
              "      <td>22953926600;24766896100;35280197500;</td>\n",
              "      <td>GloVe: Global vectors for word representation</td>\n",
              "      <td>2014</td>\n",
              "      <td>EMNLP 2014 - 2014 Conference on Empirical Methods in Natural Language Processing, Proceedings of the Conference</td>\n",
              "      <td>NaN</td>\n",
              "      <td>NaN</td>\n",
              "      <td>NaN</td>\n",
              "      <td>1532</td>\n",
              "      <td>1543</td>\n",
              "      <td>...</td>\n",
              "      <td>9781937284961</td>\n",
              "      <td>NaN</td>\n",
              "      <td>NaN</td>\n",
              "      <td>English</td>\n",
              "      <td>EMNLP - Conf. Empir. Methods Nat. Lang. Process., Proc. Conf.</td>\n",
              "      <td>Conference Paper</td>\n",
              "      <td>Final</td>\n",
              "      <td>NaN</td>\n",
              "      <td>Scopus</td>\n",
              "      <td>2-s2.0-84961289992</td>\n",
              "    </tr>\n",
              "    <tr>\n",
              "      <th>1</th>\n",
              "      <td>Devlin J., Chang M.-W., Lee K., Toutanova K.</td>\n",
              "      <td>54879967400;25925685700;56349980800;6506107920;</td>\n",
              "      <td>BERT: Pre-training of deep bidirectional transformers for language understanding</td>\n",
              "      <td>2019</td>\n",
              "      <td>NAACL HLT 2019 - 2019 Conference of the North American Chapter of the Association for Computational Linguistics: Human Language Technologies - Proceedings of the Conference</td>\n",
              "      <td>1</td>\n",
              "      <td>NaN</td>\n",
              "      <td>NaN</td>\n",
              "      <td>4171</td>\n",
              "      <td>4186</td>\n",
              "      <td>...</td>\n",
              "      <td>9781950737130</td>\n",
              "      <td>NaN</td>\n",
              "      <td>NaN</td>\n",
              "      <td>English</td>\n",
              "      <td>NAACL HLT - Conf. N. Am. Chapter Assoc. Comput. Linguistics: Hum. Lang. Technol. - Proc. Conf.</td>\n",
              "      <td>Conference Paper</td>\n",
              "      <td>Final</td>\n",
              "      <td>NaN</td>\n",
              "      <td>Scopus</td>\n",
              "      <td>2-s2.0-85083815650</td>\n",
              "    </tr>\n",
              "    <tr>\n",
              "      <th>2</th>\n",
              "      <td>Cho K., Van Merriënboer B., Gulcehre C., Bahdanau D., Bougares F., Schwenk H., Bengio Y.</td>\n",
              "      <td>55722769200;57188495900;56006846900;57188434700;42061073000;7005072756;7003958245;</td>\n",
              "      <td>Learning phrase representations using RNN encoder-decoder for statistical machine translation</td>\n",
              "      <td>2014</td>\n",
              "      <td>EMNLP 2014 - 2014 Conference on Empirical Methods in Natural Language Processing, Proceedings of the Conference</td>\n",
              "      <td>NaN</td>\n",
              "      <td>NaN</td>\n",
              "      <td>NaN</td>\n",
              "      <td>1724</td>\n",
              "      <td>1734</td>\n",
              "      <td>...</td>\n",
              "      <td>9781937284961</td>\n",
              "      <td>NaN</td>\n",
              "      <td>NaN</td>\n",
              "      <td>English</td>\n",
              "      <td>EMNLP - Conf. Empir. Methods Nat. Lang. Process., Proc. Conf.</td>\n",
              "      <td>Conference Paper</td>\n",
              "      <td>Final</td>\n",
              "      <td>All Open Access, Green</td>\n",
              "      <td>Scopus</td>\n",
              "      <td>2-s2.0-84961291190</td>\n",
              "    </tr>\n",
              "    <tr>\n",
              "      <th>3</th>\n",
              "      <td>Pang B., Lee L., Vaithyanathan S.</td>\n",
              "      <td>8644537200;7404389769;6603253116;</td>\n",
              "      <td>Thumbs up? Sentiment Classification using Machine Learning Techniques</td>\n",
              "      <td>2002</td>\n",
              "      <td>Proceedings of the 2002 Conference on Empirical Methods in Natural Language Processing, EMNLP 2002</td>\n",
              "      <td>NaN</td>\n",
              "      <td>NaN</td>\n",
              "      <td>NaN</td>\n",
              "      <td>79</td>\n",
              "      <td>86</td>\n",
              "      <td>...</td>\n",
              "      <td>NaN</td>\n",
              "      <td>NaN</td>\n",
              "      <td>NaN</td>\n",
              "      <td>English</td>\n",
              "      <td>Proc. Conf. Empir. Methods Nat. Lang. Process., EMNLP</td>\n",
              "      <td>Conference Paper</td>\n",
              "      <td>Final</td>\n",
              "      <td>NaN</td>\n",
              "      <td>Scopus</td>\n",
              "      <td>2-s2.0-85141803251</td>\n",
              "    </tr>\n",
              "    <tr>\n",
              "      <th>4</th>\n",
              "      <td>Collobert R., Weston J., Bottou L., Karlen M., Kavukcuoglu K., Kuksa P.</td>\n",
              "      <td>14064641400;8865128200;6701721644;25651854400;25646533000;57221708009;</td>\n",
              "      <td>Natural language processing (almost) from scratch</td>\n",
              "      <td>2011</td>\n",
              "      <td>Journal of Machine Learning Research</td>\n",
              "      <td>12</td>\n",
              "      <td>NaN</td>\n",
              "      <td>NaN</td>\n",
              "      <td>2493</td>\n",
              "      <td>2537</td>\n",
              "      <td>...</td>\n",
              "      <td>NaN</td>\n",
              "      <td>NaN</td>\n",
              "      <td>NaN</td>\n",
              "      <td>English</td>\n",
              "      <td>J. Mach. Learn. Res.</td>\n",
              "      <td>Article</td>\n",
              "      <td>Final</td>\n",
              "      <td>NaN</td>\n",
              "      <td>Scopus</td>\n",
              "      <td>2-s2.0-80053558787</td>\n",
              "    </tr>\n",
              "  </tbody>\n",
              "</table>\n",
              "<p>5 rows × 54 columns</p>\n",
              "</div>\n",
              "      <button class=\"colab-df-convert\" onclick=\"convertToInteractive('df-2fa67101-7179-4838-b738-d2183740d24b')\"\n",
              "              title=\"Convert this dataframe to an interactive table.\"\n",
              "              style=\"display:none;\">\n",
              "        \n",
              "  <svg xmlns=\"http://www.w3.org/2000/svg\" height=\"24px\"viewBox=\"0 0 24 24\"\n",
              "       width=\"24px\">\n",
              "    <path d=\"M0 0h24v24H0V0z\" fill=\"none\"/>\n",
              "    <path d=\"M18.56 5.44l.94 2.06.94-2.06 2.06-.94-2.06-.94-.94-2.06-.94 2.06-2.06.94zm-11 1L8.5 8.5l.94-2.06 2.06-.94-2.06-.94L8.5 2.5l-.94 2.06-2.06.94zm10 10l.94 2.06.94-2.06 2.06-.94-2.06-.94-.94-2.06-.94 2.06-2.06.94z\"/><path d=\"M17.41 7.96l-1.37-1.37c-.4-.4-.92-.59-1.43-.59-.52 0-1.04.2-1.43.59L10.3 9.45l-7.72 7.72c-.78.78-.78 2.05 0 2.83L4 21.41c.39.39.9.59 1.41.59.51 0 1.02-.2 1.41-.59l7.78-7.78 2.81-2.81c.8-.78.8-2.07 0-2.86zM5.41 20L4 18.59l7.72-7.72 1.47 1.35L5.41 20z\"/>\n",
              "  </svg>\n",
              "      </button>\n",
              "      \n",
              "  <style>\n",
              "    .colab-df-container {\n",
              "      display:flex;\n",
              "      flex-wrap:wrap;\n",
              "      gap: 12px;\n",
              "    }\n",
              "\n",
              "    .colab-df-convert {\n",
              "      background-color: #E8F0FE;\n",
              "      border: none;\n",
              "      border-radius: 50%;\n",
              "      cursor: pointer;\n",
              "      display: none;\n",
              "      fill: #1967D2;\n",
              "      height: 32px;\n",
              "      padding: 0 0 0 0;\n",
              "      width: 32px;\n",
              "    }\n",
              "\n",
              "    .colab-df-convert:hover {\n",
              "      background-color: #E2EBFA;\n",
              "      box-shadow: 0px 1px 2px rgba(60, 64, 67, 0.3), 0px 1px 3px 1px rgba(60, 64, 67, 0.15);\n",
              "      fill: #174EA6;\n",
              "    }\n",
              "\n",
              "    [theme=dark] .colab-df-convert {\n",
              "      background-color: #3B4455;\n",
              "      fill: #D2E3FC;\n",
              "    }\n",
              "\n",
              "    [theme=dark] .colab-df-convert:hover {\n",
              "      background-color: #434B5C;\n",
              "      box-shadow: 0px 1px 3px 1px rgba(0, 0, 0, 0.15);\n",
              "      filter: drop-shadow(0px 1px 2px rgba(0, 0, 0, 0.3));\n",
              "      fill: #FFFFFF;\n",
              "    }\n",
              "  </style>\n",
              "\n",
              "      <script>\n",
              "        const buttonEl =\n",
              "          document.querySelector('#df-2fa67101-7179-4838-b738-d2183740d24b button.colab-df-convert');\n",
              "        buttonEl.style.display =\n",
              "          google.colab.kernel.accessAllowed ? 'block' : 'none';\n",
              "\n",
              "        async function convertToInteractive(key) {\n",
              "          const element = document.querySelector('#df-2fa67101-7179-4838-b738-d2183740d24b');\n",
              "          const dataTable =\n",
              "            await google.colab.kernel.invokeFunction('convertToInteractive',\n",
              "                                                     [key], {});\n",
              "          if (!dataTable) return;\n",
              "\n",
              "          const docLinkHtml = 'Like what you see? Visit the ' +\n",
              "            '<a target=\"_blank\" href=https://colab.research.google.com/notebooks/data_table.ipynb>data table notebook</a>'\n",
              "            + ' to learn more about interactive tables.';\n",
              "          element.innerHTML = '';\n",
              "          dataTable['output_type'] = 'display_data';\n",
              "          await google.colab.output.renderOutput(dataTable, element);\n",
              "          const docLink = document.createElement('div');\n",
              "          docLink.innerHTML = docLinkHtml;\n",
              "          element.appendChild(docLink);\n",
              "        }\n",
              "      </script>\n",
              "    </div>\n",
              "  </div>\n",
              "  "
            ]
          },
          "metadata": {},
          "execution_count": 4
        }
      ]
    },
    {
      "cell_type": "code",
      "source": [
        "# Extracting columns to be included in the database\n",
        "df_clean = df[['Authors', 'Title', 'Abstract']]"
      ],
      "metadata": {
        "id": "YXAAqeIUx0xL"
      },
      "execution_count": 5,
      "outputs": []
    },
    {
      "cell_type": "code",
      "source": [
        "# Examining the DataFrame\n",
        "df_clean.info()"
      ],
      "metadata": {
        "colab": {
          "base_uri": "https://localhost:8080/"
        },
        "id": "BM2KJcwQM7WP",
        "outputId": "d94faffc-5c83-40ee-ea32-891d737b4b6e"
      },
      "execution_count": 6,
      "outputs": [
        {
          "output_type": "stream",
          "name": "stdout",
          "text": [
            "<class 'pandas.core.frame.DataFrame'>\n",
            "RangeIndex: 2000 entries, 0 to 1999\n",
            "Data columns (total 3 columns):\n",
            " #   Column    Non-Null Count  Dtype \n",
            "---  ------    --------------  ----- \n",
            " 0   Authors   2000 non-null   object\n",
            " 1   Title     2000 non-null   object\n",
            " 2   Abstract  2000 non-null   object\n",
            "dtypes: object(3)\n",
            "memory usage: 47.0+ KB\n"
          ]
        }
      ]
    },
    {
      "cell_type": "code",
      "source": [
        "# Converting columns from objects to strings\n",
        "df_clean['Authors'] = df_clean['Authors'].astype(str)\n",
        "df_clean['Title'] = df_clean['Title'].astype(str)\n",
        "df_clean['Abstract'] = df_clean['Abstract'].astype(str)"
      ],
      "metadata": {
        "colab": {
          "base_uri": "https://localhost:8080/"
        },
        "id": "HYMF9rK6Lo8O",
        "outputId": "a1aadca2-aefe-4172-973d-661246baa655"
      },
      "execution_count": 7,
      "outputs": [
        {
          "output_type": "stream",
          "name": "stderr",
          "text": [
            "<ipython-input-7-031c1f83abfd>:2: SettingWithCopyWarning: \n",
            "A value is trying to be set on a copy of a slice from a DataFrame.\n",
            "Try using .loc[row_indexer,col_indexer] = value instead\n",
            "\n",
            "See the caveats in the documentation: https://pandas.pydata.org/pandas-docs/stable/user_guide/indexing.html#returning-a-view-versus-a-copy\n",
            "  df_clean['Authors'] = df_clean['Authors'].astype(str)\n",
            "<ipython-input-7-031c1f83abfd>:3: SettingWithCopyWarning: \n",
            "A value is trying to be set on a copy of a slice from a DataFrame.\n",
            "Try using .loc[row_indexer,col_indexer] = value instead\n",
            "\n",
            "See the caveats in the documentation: https://pandas.pydata.org/pandas-docs/stable/user_guide/indexing.html#returning-a-view-versus-a-copy\n",
            "  df_clean['Title'] = df_clean['Title'].astype(str)\n",
            "<ipython-input-7-031c1f83abfd>:4: SettingWithCopyWarning: \n",
            "A value is trying to be set on a copy of a slice from a DataFrame.\n",
            "Try using .loc[row_indexer,col_indexer] = value instead\n",
            "\n",
            "See the caveats in the documentation: https://pandas.pydata.org/pandas-docs/stable/user_guide/indexing.html#returning-a-view-versus-a-copy\n",
            "  df_clean['Abstract'] = df_clean['Abstract'].astype(str)\n"
          ]
        }
      ]
    },
    {
      "cell_type": "code",
      "source": [
        "# Re-examining the dataframe\n",
        "df_clean.info()"
      ],
      "metadata": {
        "colab": {
          "base_uri": "https://localhost:8080/"
        },
        "id": "In1qGLC-1Qyr",
        "outputId": "c5ecd1fb-e75d-440b-d834-659cb38b5474"
      },
      "execution_count": 8,
      "outputs": [
        {
          "output_type": "stream",
          "name": "stdout",
          "text": [
            "<class 'pandas.core.frame.DataFrame'>\n",
            "RangeIndex: 2000 entries, 0 to 1999\n",
            "Data columns (total 3 columns):\n",
            " #   Column    Non-Null Count  Dtype \n",
            "---  ------    --------------  ----- \n",
            " 0   Authors   2000 non-null   object\n",
            " 1   Title     2000 non-null   object\n",
            " 2   Abstract  2000 non-null   object\n",
            "dtypes: object(3)\n",
            "memory usage: 47.0+ KB\n"
          ]
        }
      ]
    },
    {
      "cell_type": "code",
      "source": [
        "# Creating a connection to the database\n",
        "conn = sqlite3.connect('Scopus.db')\n",
        "\n",
        "# Setting up a cursor (pointer to rows in database)\n",
        "c = conn.cursor()"
      ],
      "metadata": {
        "id": "BEqabAFJL0LK"
      },
      "execution_count": 9,
      "outputs": []
    },
    {
      "cell_type": "code",
      "source": [
        "# Creating a new table for the 'Authors' column\n",
        "create_authors_query = \"\"\"\n",
        "    CREATE TABLE IF NOT EXISTS authors_table (\n",
        "        id INTEGER PRIMARY KEY AUTOINCREMENT,\n",
        "        authors TEXT\n",
        "    );\n",
        "\"\"\"\n",
        "conn.execute(create_authors_query)"
      ],
      "metadata": {
        "colab": {
          "base_uri": "https://localhost:8080/"
        },
        "id": "cK6QJAppL20y",
        "outputId": "08772620-016d-45c4-b531-60bc9e897fdc"
      },
      "execution_count": 10,
      "outputs": [
        {
          "output_type": "execute_result",
          "data": {
            "text/plain": [
              "<sqlite3.Cursor at 0x7fb3efb461f0>"
            ]
          },
          "metadata": {},
          "execution_count": 10
        }
      ]
    },
    {
      "cell_type": "code",
      "source": [
        "# Creating a new table for the 'Title' column\n",
        "create_title_query = \"\"\"\n",
        "    CREATE TABLE IF NOT EXISTS title_table (\n",
        "        id INTEGER PRIMARY KEY AUTOINCREMENT,\n",
        "        title TEXT,\n",
        "        authors TEXT,\n",
        "        FOREIGN KEY (author_id) REFERENCES authors_table (id)\n",
        "    );\n",
        "\"\"\"\n",
        "conn.execute(create_title_query)"
      ],
      "metadata": {
        "colab": {
          "base_uri": "https://localhost:8080/",
          "height": 191
        },
        "id": "G138BnsGL4nk",
        "outputId": "65008ae3-4463-412a-b64a-4873cd5010bd"
      },
      "execution_count": 12,
      "outputs": [
        {
          "output_type": "error",
          "ename": "OperationalError",
          "evalue": "ignored",
          "traceback": [
            "\u001b[0;31m---------------------------------------------------------------------------\u001b[0m",
            "\u001b[0;31mOperationalError\u001b[0m                          Traceback (most recent call last)",
            "\u001b[0;32m<ipython-input-12-380ba879e6f3>\u001b[0m in \u001b[0;36m<module>\u001b[0;34m\u001b[0m\n\u001b[1;32m      8\u001b[0m     );\n\u001b[1;32m      9\u001b[0m \"\"\"\n\u001b[0;32m---> 10\u001b[0;31m \u001b[0mconn\u001b[0m\u001b[0;34m.\u001b[0m\u001b[0mexecute\u001b[0m\u001b[0;34m(\u001b[0m\u001b[0mcreate_title_query\u001b[0m\u001b[0;34m)\u001b[0m\u001b[0;34m\u001b[0m\u001b[0;34m\u001b[0m\u001b[0m\n\u001b[0m",
            "\u001b[0;31mOperationalError\u001b[0m: unknown column \"author_id\" in foreign key definition"
          ]
        }
      ]
    },
    {
      "cell_type": "code",
      "source": [
        "# Creating a new table for the 'Abstract' column\n",
        "create_abstract_query = \"\"\"\n",
        "    CREATE TABLE abstract_table (\n",
        "    id INTEGER PRIMARY KEY,\n",
        "    abstract TEXT,\n",
        "    title TEXT,\n",
        "    summary TEXT,\n",
        "    FOREIGN KEY (title) REFERENCES title_table(title)\n",
        ");\n",
        "\"\"\"\n",
        "conn.execute(create_abstract_query)"
      ],
      "metadata": {
        "id": "pIL2aSZwL-E6"
      },
      "execution_count": null,
      "outputs": []
    },
    {
      "cell_type": "code",
      "source": [
        "# Inserting data into the 'authors_table'\n",
        "authors = set()\n",
        "for author_str in df_clean['Authors']:\n",
        "    for author in author_str.split(','):\n",
        "        authors.add(author.strip())\n",
        "for author in authors:\n",
        "    insert_author_query = \"INSERT OR IGNORE INTO authors_table (author_name) VALUES (?);\"\n",
        "    conn.execute(insert_author_query, (author,))\n"
      ],
      "metadata": {
        "id": "vWwocOhT8V9Y"
      },
      "execution_count": null,
      "outputs": []
    },
    {
      "cell_type": "code",
      "source": [
        "# Inserting data into the 'title_table'\n",
        "select_authors_query = \"SELECT * FROM authors_table;\"\n",
        "authors = {row[1]: row[0] for row in conn.execute(select_authors_query)}\n",
        "for title, author_str in zip(df_clean['Title'], df_clean['Authors']):\n",
        "    title = title.replace(\"'\", \"''\")\n",
        "    insert_title_query = f\"INSERT OR IGNORE INTO title_table (title, author_id) VALUES ('{title}', '{authors[author_str.split(', ')[0]]}');\"\n",
        "    conn.execute(insert_title_query)"
      ],
      "metadata": {
        "id": "JSUlk02C8eyT"
      },
      "execution_count": null,
      "outputs": []
    },
    {
      "cell_type": "code",
      "source": [
        "# Inserting data into the 'abstract_table'\n",
        "select_titles_query = \"SELECT * FROM title_table;\"\n",
        "titles = {row[1]: row[0] for row in conn.execute(select_titles_query)}\n",
        "for abstract, title in zip(df_clean['Abstract'], df_clean['Title']):\n",
        "    insert_abstract_query = \"INSERT INTO abstract_table (abstract, title, summary) VALUES (?, ?, '');\"\n",
        "    conn.execute(insert_abstract_query, (abstract, titles[title]))\n"
      ],
      "metadata": {
        "id": "HTV0ojJXFmun"
      },
      "execution_count": null,
      "outputs": []
    },
    {
      "cell_type": "code",
      "source": [
        "# Selecting data from the tables to determine if JOIN works across the tables as intended\n",
        "select_query = \"\"\"\n",
        "    SELECT authors_table.author_name, title_table.title, abstract_table.abstract\n",
        "    FROM authors_table\n",
        "    JOIN title_table ON authors_table.id = title_table.author_id\n",
        "    JOIN abstract_table ON title_table.id = abstract_table.title\n",
        "    LIMIT 5;\n",
        "\"\"\"\n",
        "cursor = conn.execute(select_query)\n",
        "rows = cursor.fetchall()\n",
        "\n",
        "# Print the results\n",
        "for row in rows:\n",
        "    print(row)\n"
      ],
      "metadata": {
        "id": "K9uTR3JhAQ97"
      },
      "execution_count": null,
      "outputs": []
    },
    {
      "cell_type": "code",
      "source": [
        "# Printing an overview of the tables\n",
        "# Quering the schema for each table from the `sqlite_master` table\n",
        "c.execute(\"SELECT name, sql FROM sqlite_master WHERE type='table' ORDER BY name\")\n",
        "schemas = c.fetchall()\n",
        "\n",
        "# Printing the schema for each table\n",
        "for schema in schemas:\n",
        "    table_name, table_schema = schema\n",
        "    print(f\"Table: {table_name}\\nSchema:\\n{table_schema}\\n\")"
      ],
      "metadata": {
        "id": "M0P17tZ-MSPX"
      },
      "execution_count": null,
      "outputs": []
    },
    {
      "cell_type": "code",
      "source": [
        "# Printing information from the authors_table to test the database\n",
        "c.execute(\"SELECT * FROM authors_table LIMIT 5\")\n",
        "authors_table = c.fetchall()\n",
        "for author_name in authors_table:\n",
        "    print(author_name)"
      ],
      "metadata": {
        "id": "5L4XghiwMUi9"
      },
      "execution_count": null,
      "outputs": []
    },
    {
      "cell_type": "code",
      "source": [
        "# Printing information from the title_table to test the database\n",
        "c.execute(\"SELECT * FROM title_table LIMIT 5\")\n",
        "title_table = c.fetchall()\n",
        "for title in title_table:\n",
        "    print(title)"
      ],
      "metadata": {
        "id": "CrWJ7p1WMXMO"
      },
      "execution_count": null,
      "outputs": []
    },
    {
      "cell_type": "code",
      "source": [
        "# Printing information from the abstract_table to test the database\n",
        "c.execute(\"SELECT * FROM abstract_table LIMIT 5\")\n",
        "abstract_table = c.fetchall()\n",
        "for abstract in abstract_table:\n",
        "    print(abstract)"
      ],
      "metadata": {
        "id": "16p9rJVKMZb4"
      },
      "execution_count": null,
      "outputs": []
    },
    {
      "cell_type": "markdown",
      "metadata": {
        "id": "0falMMadvxTq"
      },
      "source": [
        "# Summarization Pipeline using SQLite"
      ]
    },
    {
      "cell_type": "code",
      "execution_count": null,
      "metadata": {
        "id": "x7XjnDCrsuLV"
      },
      "outputs": [],
      "source": [
        "# Loading a pre-trained text-summarization model from HuggingFace Transformers\n",
        "summarizer = pipeline('summarization', model=\"t5-base\", tokenizer=\"t5-base\", framework=\"tf\")"
      ]
    },
    {
      "cell_type": "code",
      "execution_count": null,
      "metadata": {
        "id": "4unW87qFx8EV"
      },
      "outputs": [],
      "source": [
        "# Extracting abstracts for summarization\n",
        "abstracts = conn.execute('SELECT abstract FROM abstract_table limit 10')"
      ]
    },
    {
      "cell_type": "code",
      "execution_count": null,
      "metadata": {
        "id": "Fomc32lTs6Wh"
      },
      "outputs": [],
      "source": [
        "# Iterating over the abstracts and updating the summary for each one\n",
        "for i, row in enumerate(abstracts):\n",
        "    # Extracting the text of the current abstract\n",
        "    abstract = row[0]\n",
        "    \n",
        "    # Summarizing the abstract using the pre-trained summarizer\n",
        "    summary = summarizer(abstract, max_length=50, min_length=0, do_sample=False)[0]['summary_text']\n",
        "    \n",
        "    # Updating the 'summary' column in the abstract_table with the summary of the current abstract\n",
        "    conn.execute('UPDATE abstract_table SET summary = ? WHERE rowid = ?', (summary, i+1))\n",
        "    \n",
        "# Commit the changes to the database\n",
        "conn.commit()"
      ]
    },
    {
      "cell_type": "code",
      "execution_count": null,
      "metadata": {
        "id": "BRz3jMbYvO_I"
      },
      "outputs": [],
      "source": [
        "# Define the SQL query\n",
        "query = 'SELECT * FROM abstract_table LIMIT 10'\n",
        "\n",
        "# Execute the query and convert the result to a DataFrame\n",
        "df_summed = pd.read_sql_query(query, conn)"
      ]
    },
    {
      "cell_type": "code",
      "execution_count": null,
      "metadata": {
        "id": "N6XefZQkTVRY"
      },
      "outputs": [],
      "source": [
        "# Examining the first abstract\n",
        "df_summed['abstract'][0]"
      ]
    },
    {
      "cell_type": "code",
      "execution_count": null,
      "metadata": {
        "id": "VXi3QRNoTWx9"
      },
      "outputs": [],
      "source": [
        "# Examining the summarization of the first abstract\n",
        "df_summed['summary'][0]"
      ]
    },
    {
      "cell_type": "markdown",
      "source": [
        "Based on above, we determine that the model summarizes the abstract to a satisfying extent."
      ],
      "metadata": {
        "id": "uadSJUolea58"
      }
    },
    {
      "cell_type": "markdown",
      "metadata": {
        "id": "njQND0oKdqaF"
      },
      "source": [
        "# Grad.io"
      ]
    },
    {
      "cell_type": "markdown",
      "metadata": {
        "id": "Y3U0MZTfkGJe"
      },
      "source": [
        "## Generate a summary of a title available in our Scopus Database"
      ]
    },
    {
      "cell_type": "markdown",
      "source": [
        "Unfortunately, there is an issue with the Grad.io interface, which causes the output to fail when submitting a Title from the dropdown menu. However, the code functions without the interface, hence we suspect the issue is related to the dropdown function in Grad.io.\n",
        "\n",
        "The code is therefore presented with examples below for proof-of-concept, followed by the Grad.io interface."
      ],
      "metadata": {
        "id": "jIuXyX2NelSR"
      }
    },
    {
      "cell_type": "code",
      "source": [
        "# Loading a pre-trained text-summarization model from HuggingFace Transformers\n",
        "summarizer = pipeline('summarization', model=\"t5-base\", tokenizer=\"t5-base\", framework=\"tf\")\n",
        "\n",
        "# Connecting to the SQLite database\n",
        "conn = sqlite3.connect('Scopus.db')\n",
        "\n",
        "# Defining the dropdown options\n",
        "c = conn.cursor()\n",
        "c.execute(\"SELECT DISTINCT title FROM title_table\")\n",
        "dropdown_options = [row[0] for row in c.fetchall()]\n",
        "\n",
        "# Defining the function for summarization\n",
        "def summary(selected_option):\n",
        "    c.execute(\"SELECT abstract FROM abstract_table WHERE id = (SELECT id FROM title_table WHERE title = ?)\", (selected_option,))\n",
        "    abstract = c.fetchone()[0]\n",
        "    summary = summarizer(abstract, max_length=50, min_length=0, do_sample=False)\n",
        "    return summary[0]['summary_text']"
      ],
      "metadata": {
        "id": "0ZxxEEghfWsO"
      },
      "execution_count": null,
      "outputs": []
    },
    {
      "cell_type": "code",
      "source": [
        "# Printing the first three titles for proof-of-concept purposes\n",
        "print(dropdown_options[0])\n",
        "print(dropdown_options[1])\n",
        "print(dropdown_options[2])"
      ],
      "metadata": {
        "id": "XIXGezEvfldR"
      },
      "execution_count": null,
      "outputs": []
    },
    {
      "cell_type": "code",
      "source": [
        "# Printing the first three abstracts for proof-of-concept purposes\n",
        "c.execute(\"SELECT * FROM abstract_table LIMIT 3\")\n",
        "abstract_table = c.fetchall()\n",
        "for abstract in abstract_table:\n",
        "    print(abstract)"
      ],
      "metadata": {
        "id": "AgLX8_x3fsn-"
      },
      "execution_count": null,
      "outputs": []
    },
    {
      "cell_type": "code",
      "source": [
        "# Printing the summarization of the first three abstract for proof-of-concept purposes\n",
        "print(summary(dropdown_options[0]))\n",
        "print(summary(dropdown_options[1]))\n",
        "print(summary(dropdown_options[2]))"
      ],
      "metadata": {
        "id": "bW_87Zo6fldS"
      },
      "execution_count": null,
      "outputs": []
    },
    {
      "cell_type": "code",
      "source": [
        "# Unfortunately, this part of the code fails when submitting a title from the dropdown menu. We suspect the issue is related to the Grad.io dropdown function.\n",
        "\n",
        "# Creating the Gradio interface\n",
        "demo = gr.Interface(\n",
        "    title=\"Generate a summary of a title available in our Scopus Database\",\n",
        "    fn=summary,\n",
        "    inputs=gr.inputs.Dropdown(choices=dropdown_options, type=\"value\", label=\"Select a Title from Scopus\"),\n",
        "    outputs=gr.outputs.Textbox(label=\"Generated Summary\"),\n",
        ")\n",
        "\n",
        "# Launching the interface\n",
        "demo.launch()\n"
      ],
      "metadata": {
        "id": "AHYq6Yew9RXM"
      },
      "execution_count": null,
      "outputs": []
    },
    {
      "cell_type": "code",
      "source": [
        "# Loading a pre-trained text-summarization model from HuggingFace Transformers\n",
        "summarizer = pipeline('summarization', model=\"t5-base\", tokenizer=\"t5-base\", framework=\"tf\")\n",
        "\n",
        "# Connecting to the SQLite database\n",
        "conn = sqlite3.connect('Scopus.db')\n",
        "\n",
        "# Defining the dropdown options\n",
        "c = conn.cursor()\n",
        "c.execute(\"SELECT DISTINCT title FROM title_table\")\n",
        "dropdown_options = [row[0] for row in c.fetchall()]\n",
        "\n",
        "# Defining the function for summarization\n",
        "def summary(selected_option):\n",
        "    c.execute(\"SELECT abstract FROM abstract_table WHERE id = (SELECT id FROM title_table WHERE title = ?)\", (selected_option,))\n",
        "    abstract = c.fetchone()[0]\n",
        "    summary = summarizer(abstract, max_length=50, min_length=0, do_sample=False)\n",
        "    return summary[0]['summary_text']\n",
        "\n",
        "# Creating the Gradio interface\n",
        "demo = gr.Interface(\n",
        "    title=\"Generate a summary of a title available in our Scopus Database\",\n",
        "    fn=summary,\n",
        "    inputs=gr.inputs.Dropdown(choices=dropdown_options, type=\"value\", label=\"Select a Title from Scopus\"),\n",
        "    outputs=gr.outputs.Textbox(label=\"Generated Summary\"),\n",
        ")\n",
        "\n",
        "# Launching the interface\n",
        "demo.launch()"
      ],
      "metadata": {
        "id": "0BlwCBSajuS-"
      },
      "execution_count": null,
      "outputs": []
    },
    {
      "cell_type": "markdown",
      "metadata": {
        "id": "3tpT500aj7-b"
      },
      "source": [
        "## Generate a summary of your own abstract/abstracts not available in our Scopus Database"
      ]
    },
    {
      "cell_type": "markdown",
      "source": [
        "Note that this interface is not connected to the Scopus database, since the input is user-defined."
      ],
      "metadata": {
        "id": "sfVb-N-VhCmy"
      }
    },
    {
      "cell_type": "code",
      "execution_count": null,
      "metadata": {
        "id": "jrm4fFSdgVbE"
      },
      "outputs": [],
      "source": [
        "# Loading a pre-trained text-summarization model from HuggingFace Transformers\n",
        "summarizer = pipeline('summarization', model=\"t5-base\", tokenizer=\"t5-base\", framework=\"tf\")\n",
        "\n",
        "# Defining the function for summarization\n",
        "def summary(abstract):\n",
        "    summary = summarizer(abstract, max_length=50, min_length=0, do_sample=False)\n",
        "    return summary[0]['summary_text']\n",
        "\n",
        "# Defining examples\n",
        "examples = [\n",
        "    [\"Recent methods for learning vector space representations of words have succeeded in capturing fine-grained semantic and syntactic regularities using vector arithmetic, but the origin of these regularities has remained opaque. We analyze and make explicit the model properties needed for such regularities to emerge in word vectors. The result is a new global logbilinear regression model that combines the advantages of the two major model families in the literature: global matrix factorization and local context window methods. Our model efficiently leverages statistical information by training only on the nonzero elements in a word-word cooccurrence matrix, rather than on the entire sparse matrix or on individual context windows in a large corpus. The model produces a vector space with meaningful substructure, as evidenced by its performance of 75% on a recent word analogy task. It also outperforms related models on similarity tasks and named entity recognition. © 2014 Association for Computational Linguistics.\"],\n",
        "    [\"We introduce a new language representation model called BERT, which stands for Bidirectional Encoder Representations from Transformers. Unlike recent language representation models (Peters et al., 2018a; Radford et al., 2018), BERT is designed to pre-train deep bidirectional representations from unlabeled text by jointly conditioning on both left and right context in all layers. As a result, the pre-trained BERT model can be fine-tuned with just one additional output layer to create state-of-the-art models for a wide range of tasks, such as question answering and language inference, without substantial task-specific architecture modifications. BERT is conceptually simple and empirically powerful. It obtains new state-of-the-art results on eleven natural language processing tasks, including pushing the GLUE score to 80.5% (7.7% point absolute improvement), MultiNLI accuracy to 86.7% (4.6% absolute improvement), SQuAD v1.1 question answering Test F1 to 93.2 (1.5 point absolute improvement) and SQuAD v2.0 Test F1 to 83.1 (5.1 point absolute improvement). © 2019 Association for Computational Linguistics\"],\n",
        "    [\"In this paper, we propose a novel neural network model called RNN Encoder- Decoder that consists of two recurrent neural networks (RNN). One RNN encodes a sequence of symbols into a fixedlength vector representation, and the other decodes the representation into another sequence of symbols. The encoder and decoder of the proposed model are jointly trained to maximize the conditional probability of a target sequence given a source sequence. The performance of a statistical machine translation system is empirically found to improve by using the conditional probabilities of phrase pairs computed by the RNN Encoder-Decoder as an additional feature in the existing log-linear model. Qualitatively, we show that the proposed model learns a semantically and syntactically meaningful representation of linguistic phrases. © 2014 Association for Computational Linguistics.\"],\n",
        "]\n",
        "\n",
        "# Creating the Gradio interface\n",
        "demo = gr.Interface(\n",
        "    title=\"Generate a summary of your own abstract/abstracts not available in our Scopus Database\",\n",
        "    fn=summary,\n",
        "    inputs=gr.inputs.Textbox(lines=5, label=\"Input Abstract\"),\n",
        "    outputs=gr.outputs.Textbox(label=\"Generated Summary\"),\n",
        "    examples=examples\n",
        ")\n",
        "\n",
        "# Launching the interface\n",
        "demo.launch(share=True)"
      ]
    },
    {
      "cell_type": "markdown",
      "source": [
        "# Closing the Database Connection"
      ],
      "metadata": {
        "id": "RHnLwin5yvSf"
      }
    },
    {
      "cell_type": "code",
      "source": [
        "conn.close()"
      ],
      "metadata": {
        "id": "x_Bs4fzUyy4e"
      },
      "execution_count": null,
      "outputs": []
    }
  ]
}