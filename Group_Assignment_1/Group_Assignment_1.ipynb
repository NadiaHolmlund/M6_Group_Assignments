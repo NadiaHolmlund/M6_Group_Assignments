{
  "nbformat": 4,
  "nbformat_minor": 0,
  "metadata": {
    "colab": {
      "provenance": [],
      "toc_visible": true,
      "authorship_tag": "ABX9TyMwJrLYhn8FASzATVM8PRSf",
      "include_colab_link": true
    },
    "kernelspec": {
      "name": "python3",
      "display_name": "Python 3"
    },
    "language_info": {
      "name": "python"
    },
    "widgets": {
      "application/vnd.jupyter.widget-state+json": {
        "87c105a1ee284b7bb51ef424ed5ed1d6": {
          "model_module": "@jupyter-widgets/controls",
          "model_name": "HBoxModel",
          "model_module_version": "1.5.0",
          "state": {
            "_dom_classes": [],
            "_model_module": "@jupyter-widgets/controls",
            "_model_module_version": "1.5.0",
            "_model_name": "HBoxModel",
            "_view_count": null,
            "_view_module": "@jupyter-widgets/controls",
            "_view_module_version": "1.5.0",
            "_view_name": "HBoxView",
            "box_style": "",
            "children": [
              "IPY_MODEL_74bec341c5b747eba2c105a46f7827cc",
              "IPY_MODEL_3240036450114e56be1e4c5869d660d6",
              "IPY_MODEL_bac311f39c7e497a8f0e8a5946f6e253"
            ],
            "layout": "IPY_MODEL_138f196b37a84798a1a39484e505cff4"
          }
        },
        "74bec341c5b747eba2c105a46f7827cc": {
          "model_module": "@jupyter-widgets/controls",
          "model_name": "HTMLModel",
          "model_module_version": "1.5.0",
          "state": {
            "_dom_classes": [],
            "_model_module": "@jupyter-widgets/controls",
            "_model_module_version": "1.5.0",
            "_model_name": "HTMLModel",
            "_view_count": null,
            "_view_module": "@jupyter-widgets/controls",
            "_view_module_version": "1.5.0",
            "_view_name": "HTMLView",
            "description": "",
            "description_tooltip": null,
            "layout": "IPY_MODEL_13b80767b5914cea962865d744ad6494",
            "placeholder": "​",
            "style": "IPY_MODEL_0e04fa640b6a47d6bf539c28098dfef3",
            "value": "Downloading (…)lve/main/config.json: 100%"
          }
        },
        "3240036450114e56be1e4c5869d660d6": {
          "model_module": "@jupyter-widgets/controls",
          "model_name": "FloatProgressModel",
          "model_module_version": "1.5.0",
          "state": {
            "_dom_classes": [],
            "_model_module": "@jupyter-widgets/controls",
            "_model_module_version": "1.5.0",
            "_model_name": "FloatProgressModel",
            "_view_count": null,
            "_view_module": "@jupyter-widgets/controls",
            "_view_module_version": "1.5.0",
            "_view_name": "ProgressView",
            "bar_style": "success",
            "description": "",
            "description_tooltip": null,
            "layout": "IPY_MODEL_34910d774cf0445da6a57a5620701d34",
            "max": 1208,
            "min": 0,
            "orientation": "horizontal",
            "style": "IPY_MODEL_79e32531132244a0b9b6118a44a5b971",
            "value": 1208
          }
        },
        "bac311f39c7e497a8f0e8a5946f6e253": {
          "model_module": "@jupyter-widgets/controls",
          "model_name": "HTMLModel",
          "model_module_version": "1.5.0",
          "state": {
            "_dom_classes": [],
            "_model_module": "@jupyter-widgets/controls",
            "_model_module_version": "1.5.0",
            "_model_name": "HTMLModel",
            "_view_count": null,
            "_view_module": "@jupyter-widgets/controls",
            "_view_module_version": "1.5.0",
            "_view_name": "HTMLView",
            "description": "",
            "description_tooltip": null,
            "layout": "IPY_MODEL_e6493aec595f41bd97c947e591985f0c",
            "placeholder": "​",
            "style": "IPY_MODEL_e019bdd252514760934ccc28f48fcaad",
            "value": " 1.21k/1.21k [00:00&lt;00:00, 38.6kB/s]"
          }
        },
        "138f196b37a84798a1a39484e505cff4": {
          "model_module": "@jupyter-widgets/base",
          "model_name": "LayoutModel",
          "model_module_version": "1.2.0",
          "state": {
            "_model_module": "@jupyter-widgets/base",
            "_model_module_version": "1.2.0",
            "_model_name": "LayoutModel",
            "_view_count": null,
            "_view_module": "@jupyter-widgets/base",
            "_view_module_version": "1.2.0",
            "_view_name": "LayoutView",
            "align_content": null,
            "align_items": null,
            "align_self": null,
            "border": null,
            "bottom": null,
            "display": null,
            "flex": null,
            "flex_flow": null,
            "grid_area": null,
            "grid_auto_columns": null,
            "grid_auto_flow": null,
            "grid_auto_rows": null,
            "grid_column": null,
            "grid_gap": null,
            "grid_row": null,
            "grid_template_areas": null,
            "grid_template_columns": null,
            "grid_template_rows": null,
            "height": null,
            "justify_content": null,
            "justify_items": null,
            "left": null,
            "margin": null,
            "max_height": null,
            "max_width": null,
            "min_height": null,
            "min_width": null,
            "object_fit": null,
            "object_position": null,
            "order": null,
            "overflow": null,
            "overflow_x": null,
            "overflow_y": null,
            "padding": null,
            "right": null,
            "top": null,
            "visibility": null,
            "width": null
          }
        },
        "13b80767b5914cea962865d744ad6494": {
          "model_module": "@jupyter-widgets/base",
          "model_name": "LayoutModel",
          "model_module_version": "1.2.0",
          "state": {
            "_model_module": "@jupyter-widgets/base",
            "_model_module_version": "1.2.0",
            "_model_name": "LayoutModel",
            "_view_count": null,
            "_view_module": "@jupyter-widgets/base",
            "_view_module_version": "1.2.0",
            "_view_name": "LayoutView",
            "align_content": null,
            "align_items": null,
            "align_self": null,
            "border": null,
            "bottom": null,
            "display": null,
            "flex": null,
            "flex_flow": null,
            "grid_area": null,
            "grid_auto_columns": null,
            "grid_auto_flow": null,
            "grid_auto_rows": null,
            "grid_column": null,
            "grid_gap": null,
            "grid_row": null,
            "grid_template_areas": null,
            "grid_template_columns": null,
            "grid_template_rows": null,
            "height": null,
            "justify_content": null,
            "justify_items": null,
            "left": null,
            "margin": null,
            "max_height": null,
            "max_width": null,
            "min_height": null,
            "min_width": null,
            "object_fit": null,
            "object_position": null,
            "order": null,
            "overflow": null,
            "overflow_x": null,
            "overflow_y": null,
            "padding": null,
            "right": null,
            "top": null,
            "visibility": null,
            "width": null
          }
        },
        "0e04fa640b6a47d6bf539c28098dfef3": {
          "model_module": "@jupyter-widgets/controls",
          "model_name": "DescriptionStyleModel",
          "model_module_version": "1.5.0",
          "state": {
            "_model_module": "@jupyter-widgets/controls",
            "_model_module_version": "1.5.0",
            "_model_name": "DescriptionStyleModel",
            "_view_count": null,
            "_view_module": "@jupyter-widgets/base",
            "_view_module_version": "1.2.0",
            "_view_name": "StyleView",
            "description_width": ""
          }
        },
        "34910d774cf0445da6a57a5620701d34": {
          "model_module": "@jupyter-widgets/base",
          "model_name": "LayoutModel",
          "model_module_version": "1.2.0",
          "state": {
            "_model_module": "@jupyter-widgets/base",
            "_model_module_version": "1.2.0",
            "_model_name": "LayoutModel",
            "_view_count": null,
            "_view_module": "@jupyter-widgets/base",
            "_view_module_version": "1.2.0",
            "_view_name": "LayoutView",
            "align_content": null,
            "align_items": null,
            "align_self": null,
            "border": null,
            "bottom": null,
            "display": null,
            "flex": null,
            "flex_flow": null,
            "grid_area": null,
            "grid_auto_columns": null,
            "grid_auto_flow": null,
            "grid_auto_rows": null,
            "grid_column": null,
            "grid_gap": null,
            "grid_row": null,
            "grid_template_areas": null,
            "grid_template_columns": null,
            "grid_template_rows": null,
            "height": null,
            "justify_content": null,
            "justify_items": null,
            "left": null,
            "margin": null,
            "max_height": null,
            "max_width": null,
            "min_height": null,
            "min_width": null,
            "object_fit": null,
            "object_position": null,
            "order": null,
            "overflow": null,
            "overflow_x": null,
            "overflow_y": null,
            "padding": null,
            "right": null,
            "top": null,
            "visibility": null,
            "width": null
          }
        },
        "79e32531132244a0b9b6118a44a5b971": {
          "model_module": "@jupyter-widgets/controls",
          "model_name": "ProgressStyleModel",
          "model_module_version": "1.5.0",
          "state": {
            "_model_module": "@jupyter-widgets/controls",
            "_model_module_version": "1.5.0",
            "_model_name": "ProgressStyleModel",
            "_view_count": null,
            "_view_module": "@jupyter-widgets/base",
            "_view_module_version": "1.2.0",
            "_view_name": "StyleView",
            "bar_color": null,
            "description_width": ""
          }
        },
        "e6493aec595f41bd97c947e591985f0c": {
          "model_module": "@jupyter-widgets/base",
          "model_name": "LayoutModel",
          "model_module_version": "1.2.0",
          "state": {
            "_model_module": "@jupyter-widgets/base",
            "_model_module_version": "1.2.0",
            "_model_name": "LayoutModel",
            "_view_count": null,
            "_view_module": "@jupyter-widgets/base",
            "_view_module_version": "1.2.0",
            "_view_name": "LayoutView",
            "align_content": null,
            "align_items": null,
            "align_self": null,
            "border": null,
            "bottom": null,
            "display": null,
            "flex": null,
            "flex_flow": null,
            "grid_area": null,
            "grid_auto_columns": null,
            "grid_auto_flow": null,
            "grid_auto_rows": null,
            "grid_column": null,
            "grid_gap": null,
            "grid_row": null,
            "grid_template_areas": null,
            "grid_template_columns": null,
            "grid_template_rows": null,
            "height": null,
            "justify_content": null,
            "justify_items": null,
            "left": null,
            "margin": null,
            "max_height": null,
            "max_width": null,
            "min_height": null,
            "min_width": null,
            "object_fit": null,
            "object_position": null,
            "order": null,
            "overflow": null,
            "overflow_x": null,
            "overflow_y": null,
            "padding": null,
            "right": null,
            "top": null,
            "visibility": null,
            "width": null
          }
        },
        "e019bdd252514760934ccc28f48fcaad": {
          "model_module": "@jupyter-widgets/controls",
          "model_name": "DescriptionStyleModel",
          "model_module_version": "1.5.0",
          "state": {
            "_model_module": "@jupyter-widgets/controls",
            "_model_module_version": "1.5.0",
            "_model_name": "DescriptionStyleModel",
            "_view_count": null,
            "_view_module": "@jupyter-widgets/base",
            "_view_module_version": "1.2.0",
            "_view_name": "StyleView",
            "description_width": ""
          }
        },
        "27a8c29b80554c429538b54546547154": {
          "model_module": "@jupyter-widgets/controls",
          "model_name": "HBoxModel",
          "model_module_version": "1.5.0",
          "state": {
            "_dom_classes": [],
            "_model_module": "@jupyter-widgets/controls",
            "_model_module_version": "1.5.0",
            "_model_name": "HBoxModel",
            "_view_count": null,
            "_view_module": "@jupyter-widgets/controls",
            "_view_module_version": "1.5.0",
            "_view_name": "HBoxView",
            "box_style": "",
            "children": [
              "IPY_MODEL_e0b261a555d742888f5ac686bdb4204f",
              "IPY_MODEL_815370724d314dbd92f16c845b28da92",
              "IPY_MODEL_5aa6df6a56534335aa52dd3bb3654f8f"
            ],
            "layout": "IPY_MODEL_f66462e12ce6427281f125bf645a7b96"
          }
        },
        "e0b261a555d742888f5ac686bdb4204f": {
          "model_module": "@jupyter-widgets/controls",
          "model_name": "HTMLModel",
          "model_module_version": "1.5.0",
          "state": {
            "_dom_classes": [],
            "_model_module": "@jupyter-widgets/controls",
            "_model_module_version": "1.5.0",
            "_model_name": "HTMLModel",
            "_view_count": null,
            "_view_module": "@jupyter-widgets/controls",
            "_view_module_version": "1.5.0",
            "_view_name": "HTMLView",
            "description": "",
            "description_tooltip": null,
            "layout": "IPY_MODEL_9b84848dbd2a434db5cf9667c3572e9e",
            "placeholder": "​",
            "style": "IPY_MODEL_ad36fe6f35a34c24981fdc4b17d43418",
            "value": "Downloading tf_model.h5: 100%"
          }
        },
        "815370724d314dbd92f16c845b28da92": {
          "model_module": "@jupyter-widgets/controls",
          "model_name": "FloatProgressModel",
          "model_module_version": "1.5.0",
          "state": {
            "_dom_classes": [],
            "_model_module": "@jupyter-widgets/controls",
            "_model_module_version": "1.5.0",
            "_model_name": "FloatProgressModel",
            "_view_count": null,
            "_view_module": "@jupyter-widgets/controls",
            "_view_module_version": "1.5.0",
            "_view_name": "ProgressView",
            "bar_style": "success",
            "description": "",
            "description_tooltip": null,
            "layout": "IPY_MODEL_254b4b19751c457b8ed399a31b7938dc",
            "max": 892146080,
            "min": 0,
            "orientation": "horizontal",
            "style": "IPY_MODEL_51cae2da1d5d42c1a85ebf7d67d07369",
            "value": 892146080
          }
        },
        "5aa6df6a56534335aa52dd3bb3654f8f": {
          "model_module": "@jupyter-widgets/controls",
          "model_name": "HTMLModel",
          "model_module_version": "1.5.0",
          "state": {
            "_dom_classes": [],
            "_model_module": "@jupyter-widgets/controls",
            "_model_module_version": "1.5.0",
            "_model_name": "HTMLModel",
            "_view_count": null,
            "_view_module": "@jupyter-widgets/controls",
            "_view_module_version": "1.5.0",
            "_view_name": "HTMLView",
            "description": "",
            "description_tooltip": null,
            "layout": "IPY_MODEL_a31ace867aeb44f9b2571e1a2b13938a",
            "placeholder": "​",
            "style": "IPY_MODEL_cfa89ab1dd2e41d3b80503e2bad374fd",
            "value": " 892M/892M [00:11&lt;00:00, 69.4MB/s]"
          }
        },
        "f66462e12ce6427281f125bf645a7b96": {
          "model_module": "@jupyter-widgets/base",
          "model_name": "LayoutModel",
          "model_module_version": "1.2.0",
          "state": {
            "_model_module": "@jupyter-widgets/base",
            "_model_module_version": "1.2.0",
            "_model_name": "LayoutModel",
            "_view_count": null,
            "_view_module": "@jupyter-widgets/base",
            "_view_module_version": "1.2.0",
            "_view_name": "LayoutView",
            "align_content": null,
            "align_items": null,
            "align_self": null,
            "border": null,
            "bottom": null,
            "display": null,
            "flex": null,
            "flex_flow": null,
            "grid_area": null,
            "grid_auto_columns": null,
            "grid_auto_flow": null,
            "grid_auto_rows": null,
            "grid_column": null,
            "grid_gap": null,
            "grid_row": null,
            "grid_template_areas": null,
            "grid_template_columns": null,
            "grid_template_rows": null,
            "height": null,
            "justify_content": null,
            "justify_items": null,
            "left": null,
            "margin": null,
            "max_height": null,
            "max_width": null,
            "min_height": null,
            "min_width": null,
            "object_fit": null,
            "object_position": null,
            "order": null,
            "overflow": null,
            "overflow_x": null,
            "overflow_y": null,
            "padding": null,
            "right": null,
            "top": null,
            "visibility": null,
            "width": null
          }
        },
        "9b84848dbd2a434db5cf9667c3572e9e": {
          "model_module": "@jupyter-widgets/base",
          "model_name": "LayoutModel",
          "model_module_version": "1.2.0",
          "state": {
            "_model_module": "@jupyter-widgets/base",
            "_model_module_version": "1.2.0",
            "_model_name": "LayoutModel",
            "_view_count": null,
            "_view_module": "@jupyter-widgets/base",
            "_view_module_version": "1.2.0",
            "_view_name": "LayoutView",
            "align_content": null,
            "align_items": null,
            "align_self": null,
            "border": null,
            "bottom": null,
            "display": null,
            "flex": null,
            "flex_flow": null,
            "grid_area": null,
            "grid_auto_columns": null,
            "grid_auto_flow": null,
            "grid_auto_rows": null,
            "grid_column": null,
            "grid_gap": null,
            "grid_row": null,
            "grid_template_areas": null,
            "grid_template_columns": null,
            "grid_template_rows": null,
            "height": null,
            "justify_content": null,
            "justify_items": null,
            "left": null,
            "margin": null,
            "max_height": null,
            "max_width": null,
            "min_height": null,
            "min_width": null,
            "object_fit": null,
            "object_position": null,
            "order": null,
            "overflow": null,
            "overflow_x": null,
            "overflow_y": null,
            "padding": null,
            "right": null,
            "top": null,
            "visibility": null,
            "width": null
          }
        },
        "ad36fe6f35a34c24981fdc4b17d43418": {
          "model_module": "@jupyter-widgets/controls",
          "model_name": "DescriptionStyleModel",
          "model_module_version": "1.5.0",
          "state": {
            "_model_module": "@jupyter-widgets/controls",
            "_model_module_version": "1.5.0",
            "_model_name": "DescriptionStyleModel",
            "_view_count": null,
            "_view_module": "@jupyter-widgets/base",
            "_view_module_version": "1.2.0",
            "_view_name": "StyleView",
            "description_width": ""
          }
        },
        "254b4b19751c457b8ed399a31b7938dc": {
          "model_module": "@jupyter-widgets/base",
          "model_name": "LayoutModel",
          "model_module_version": "1.2.0",
          "state": {
            "_model_module": "@jupyter-widgets/base",
            "_model_module_version": "1.2.0",
            "_model_name": "LayoutModel",
            "_view_count": null,
            "_view_module": "@jupyter-widgets/base",
            "_view_module_version": "1.2.0",
            "_view_name": "LayoutView",
            "align_content": null,
            "align_items": null,
            "align_self": null,
            "border": null,
            "bottom": null,
            "display": null,
            "flex": null,
            "flex_flow": null,
            "grid_area": null,
            "grid_auto_columns": null,
            "grid_auto_flow": null,
            "grid_auto_rows": null,
            "grid_column": null,
            "grid_gap": null,
            "grid_row": null,
            "grid_template_areas": null,
            "grid_template_columns": null,
            "grid_template_rows": null,
            "height": null,
            "justify_content": null,
            "justify_items": null,
            "left": null,
            "margin": null,
            "max_height": null,
            "max_width": null,
            "min_height": null,
            "min_width": null,
            "object_fit": null,
            "object_position": null,
            "order": null,
            "overflow": null,
            "overflow_x": null,
            "overflow_y": null,
            "padding": null,
            "right": null,
            "top": null,
            "visibility": null,
            "width": null
          }
        },
        "51cae2da1d5d42c1a85ebf7d67d07369": {
          "model_module": "@jupyter-widgets/controls",
          "model_name": "ProgressStyleModel",
          "model_module_version": "1.5.0",
          "state": {
            "_model_module": "@jupyter-widgets/controls",
            "_model_module_version": "1.5.0",
            "_model_name": "ProgressStyleModel",
            "_view_count": null,
            "_view_module": "@jupyter-widgets/base",
            "_view_module_version": "1.2.0",
            "_view_name": "StyleView",
            "bar_color": null,
            "description_width": ""
          }
        },
        "a31ace867aeb44f9b2571e1a2b13938a": {
          "model_module": "@jupyter-widgets/base",
          "model_name": "LayoutModel",
          "model_module_version": "1.2.0",
          "state": {
            "_model_module": "@jupyter-widgets/base",
            "_model_module_version": "1.2.0",
            "_model_name": "LayoutModel",
            "_view_count": null,
            "_view_module": "@jupyter-widgets/base",
            "_view_module_version": "1.2.0",
            "_view_name": "LayoutView",
            "align_content": null,
            "align_items": null,
            "align_self": null,
            "border": null,
            "bottom": null,
            "display": null,
            "flex": null,
            "flex_flow": null,
            "grid_area": null,
            "grid_auto_columns": null,
            "grid_auto_flow": null,
            "grid_auto_rows": null,
            "grid_column": null,
            "grid_gap": null,
            "grid_row": null,
            "grid_template_areas": null,
            "grid_template_columns": null,
            "grid_template_rows": null,
            "height": null,
            "justify_content": null,
            "justify_items": null,
            "left": null,
            "margin": null,
            "max_height": null,
            "max_width": null,
            "min_height": null,
            "min_width": null,
            "object_fit": null,
            "object_position": null,
            "order": null,
            "overflow": null,
            "overflow_x": null,
            "overflow_y": null,
            "padding": null,
            "right": null,
            "top": null,
            "visibility": null,
            "width": null
          }
        },
        "cfa89ab1dd2e41d3b80503e2bad374fd": {
          "model_module": "@jupyter-widgets/controls",
          "model_name": "DescriptionStyleModel",
          "model_module_version": "1.5.0",
          "state": {
            "_model_module": "@jupyter-widgets/controls",
            "_model_module_version": "1.5.0",
            "_model_name": "DescriptionStyleModel",
            "_view_count": null,
            "_view_module": "@jupyter-widgets/base",
            "_view_module_version": "1.2.0",
            "_view_name": "StyleView",
            "description_width": ""
          }
        },
        "9cd3c3a51e2a4f1fbf65636c8fcd5755": {
          "model_module": "@jupyter-widgets/controls",
          "model_name": "HBoxModel",
          "model_module_version": "1.5.0",
          "state": {
            "_dom_classes": [],
            "_model_module": "@jupyter-widgets/controls",
            "_model_module_version": "1.5.0",
            "_model_name": "HBoxModel",
            "_view_count": null,
            "_view_module": "@jupyter-widgets/controls",
            "_view_module_version": "1.5.0",
            "_view_name": "HBoxView",
            "box_style": "",
            "children": [
              "IPY_MODEL_059a783934df42aab9a910938afc8129",
              "IPY_MODEL_4a58f33c4f6c4fe4b5c060aa91733457",
              "IPY_MODEL_9a19f9d93079482f9d999a87b3e56daa"
            ],
            "layout": "IPY_MODEL_ab9829e182ca46eb88777e26907dbdb0"
          }
        },
        "059a783934df42aab9a910938afc8129": {
          "model_module": "@jupyter-widgets/controls",
          "model_name": "HTMLModel",
          "model_module_version": "1.5.0",
          "state": {
            "_dom_classes": [],
            "_model_module": "@jupyter-widgets/controls",
            "_model_module_version": "1.5.0",
            "_model_name": "HTMLModel",
            "_view_count": null,
            "_view_module": "@jupyter-widgets/controls",
            "_view_module_version": "1.5.0",
            "_view_name": "HTMLView",
            "description": "",
            "description_tooltip": null,
            "layout": "IPY_MODEL_a45a5741be4b48b18d05e54689a62610",
            "placeholder": "​",
            "style": "IPY_MODEL_29c8d78a567e4ec6941e37cc11803d7d",
            "value": "Downloading (…)neration_config.json: 100%"
          }
        },
        "4a58f33c4f6c4fe4b5c060aa91733457": {
          "model_module": "@jupyter-widgets/controls",
          "model_name": "FloatProgressModel",
          "model_module_version": "1.5.0",
          "state": {
            "_dom_classes": [],
            "_model_module": "@jupyter-widgets/controls",
            "_model_module_version": "1.5.0",
            "_model_name": "FloatProgressModel",
            "_view_count": null,
            "_view_module": "@jupyter-widgets/controls",
            "_view_module_version": "1.5.0",
            "_view_name": "ProgressView",
            "bar_style": "success",
            "description": "",
            "description_tooltip": null,
            "layout": "IPY_MODEL_cd028eb972844140a61fa4884fee11e7",
            "max": 147,
            "min": 0,
            "orientation": "horizontal",
            "style": "IPY_MODEL_020521ec571b4e7582357a52785f0753",
            "value": 147
          }
        },
        "9a19f9d93079482f9d999a87b3e56daa": {
          "model_module": "@jupyter-widgets/controls",
          "model_name": "HTMLModel",
          "model_module_version": "1.5.0",
          "state": {
            "_dom_classes": [],
            "_model_module": "@jupyter-widgets/controls",
            "_model_module_version": "1.5.0",
            "_model_name": "HTMLModel",
            "_view_count": null,
            "_view_module": "@jupyter-widgets/controls",
            "_view_module_version": "1.5.0",
            "_view_name": "HTMLView",
            "description": "",
            "description_tooltip": null,
            "layout": "IPY_MODEL_88ad9e31598044ffb7193ca79d96a5e2",
            "placeholder": "​",
            "style": "IPY_MODEL_6c32059dfeed474ab9c050c41781fcb8",
            "value": " 147/147 [00:00&lt;00:00, 5.12kB/s]"
          }
        },
        "ab9829e182ca46eb88777e26907dbdb0": {
          "model_module": "@jupyter-widgets/base",
          "model_name": "LayoutModel",
          "model_module_version": "1.2.0",
          "state": {
            "_model_module": "@jupyter-widgets/base",
            "_model_module_version": "1.2.0",
            "_model_name": "LayoutModel",
            "_view_count": null,
            "_view_module": "@jupyter-widgets/base",
            "_view_module_version": "1.2.0",
            "_view_name": "LayoutView",
            "align_content": null,
            "align_items": null,
            "align_self": null,
            "border": null,
            "bottom": null,
            "display": null,
            "flex": null,
            "flex_flow": null,
            "grid_area": null,
            "grid_auto_columns": null,
            "grid_auto_flow": null,
            "grid_auto_rows": null,
            "grid_column": null,
            "grid_gap": null,
            "grid_row": null,
            "grid_template_areas": null,
            "grid_template_columns": null,
            "grid_template_rows": null,
            "height": null,
            "justify_content": null,
            "justify_items": null,
            "left": null,
            "margin": null,
            "max_height": null,
            "max_width": null,
            "min_height": null,
            "min_width": null,
            "object_fit": null,
            "object_position": null,
            "order": null,
            "overflow": null,
            "overflow_x": null,
            "overflow_y": null,
            "padding": null,
            "right": null,
            "top": null,
            "visibility": null,
            "width": null
          }
        },
        "a45a5741be4b48b18d05e54689a62610": {
          "model_module": "@jupyter-widgets/base",
          "model_name": "LayoutModel",
          "model_module_version": "1.2.0",
          "state": {
            "_model_module": "@jupyter-widgets/base",
            "_model_module_version": "1.2.0",
            "_model_name": "LayoutModel",
            "_view_count": null,
            "_view_module": "@jupyter-widgets/base",
            "_view_module_version": "1.2.0",
            "_view_name": "LayoutView",
            "align_content": null,
            "align_items": null,
            "align_self": null,
            "border": null,
            "bottom": null,
            "display": null,
            "flex": null,
            "flex_flow": null,
            "grid_area": null,
            "grid_auto_columns": null,
            "grid_auto_flow": null,
            "grid_auto_rows": null,
            "grid_column": null,
            "grid_gap": null,
            "grid_row": null,
            "grid_template_areas": null,
            "grid_template_columns": null,
            "grid_template_rows": null,
            "height": null,
            "justify_content": null,
            "justify_items": null,
            "left": null,
            "margin": null,
            "max_height": null,
            "max_width": null,
            "min_height": null,
            "min_width": null,
            "object_fit": null,
            "object_position": null,
            "order": null,
            "overflow": null,
            "overflow_x": null,
            "overflow_y": null,
            "padding": null,
            "right": null,
            "top": null,
            "visibility": null,
            "width": null
          }
        },
        "29c8d78a567e4ec6941e37cc11803d7d": {
          "model_module": "@jupyter-widgets/controls",
          "model_name": "DescriptionStyleModel",
          "model_module_version": "1.5.0",
          "state": {
            "_model_module": "@jupyter-widgets/controls",
            "_model_module_version": "1.5.0",
            "_model_name": "DescriptionStyleModel",
            "_view_count": null,
            "_view_module": "@jupyter-widgets/base",
            "_view_module_version": "1.2.0",
            "_view_name": "StyleView",
            "description_width": ""
          }
        },
        "cd028eb972844140a61fa4884fee11e7": {
          "model_module": "@jupyter-widgets/base",
          "model_name": "LayoutModel",
          "model_module_version": "1.2.0",
          "state": {
            "_model_module": "@jupyter-widgets/base",
            "_model_module_version": "1.2.0",
            "_model_name": "LayoutModel",
            "_view_count": null,
            "_view_module": "@jupyter-widgets/base",
            "_view_module_version": "1.2.0",
            "_view_name": "LayoutView",
            "align_content": null,
            "align_items": null,
            "align_self": null,
            "border": null,
            "bottom": null,
            "display": null,
            "flex": null,
            "flex_flow": null,
            "grid_area": null,
            "grid_auto_columns": null,
            "grid_auto_flow": null,
            "grid_auto_rows": null,
            "grid_column": null,
            "grid_gap": null,
            "grid_row": null,
            "grid_template_areas": null,
            "grid_template_columns": null,
            "grid_template_rows": null,
            "height": null,
            "justify_content": null,
            "justify_items": null,
            "left": null,
            "margin": null,
            "max_height": null,
            "max_width": null,
            "min_height": null,
            "min_width": null,
            "object_fit": null,
            "object_position": null,
            "order": null,
            "overflow": null,
            "overflow_x": null,
            "overflow_y": null,
            "padding": null,
            "right": null,
            "top": null,
            "visibility": null,
            "width": null
          }
        },
        "020521ec571b4e7582357a52785f0753": {
          "model_module": "@jupyter-widgets/controls",
          "model_name": "ProgressStyleModel",
          "model_module_version": "1.5.0",
          "state": {
            "_model_module": "@jupyter-widgets/controls",
            "_model_module_version": "1.5.0",
            "_model_name": "ProgressStyleModel",
            "_view_count": null,
            "_view_module": "@jupyter-widgets/base",
            "_view_module_version": "1.2.0",
            "_view_name": "StyleView",
            "bar_color": null,
            "description_width": ""
          }
        },
        "88ad9e31598044ffb7193ca79d96a5e2": {
          "model_module": "@jupyter-widgets/base",
          "model_name": "LayoutModel",
          "model_module_version": "1.2.0",
          "state": {
            "_model_module": "@jupyter-widgets/base",
            "_model_module_version": "1.2.0",
            "_model_name": "LayoutModel",
            "_view_count": null,
            "_view_module": "@jupyter-widgets/base",
            "_view_module_version": "1.2.0",
            "_view_name": "LayoutView",
            "align_content": null,
            "align_items": null,
            "align_self": null,
            "border": null,
            "bottom": null,
            "display": null,
            "flex": null,
            "flex_flow": null,
            "grid_area": null,
            "grid_auto_columns": null,
            "grid_auto_flow": null,
            "grid_auto_rows": null,
            "grid_column": null,
            "grid_gap": null,
            "grid_row": null,
            "grid_template_areas": null,
            "grid_template_columns": null,
            "grid_template_rows": null,
            "height": null,
            "justify_content": null,
            "justify_items": null,
            "left": null,
            "margin": null,
            "max_height": null,
            "max_width": null,
            "min_height": null,
            "min_width": null,
            "object_fit": null,
            "object_position": null,
            "order": null,
            "overflow": null,
            "overflow_x": null,
            "overflow_y": null,
            "padding": null,
            "right": null,
            "top": null,
            "visibility": null,
            "width": null
          }
        },
        "6c32059dfeed474ab9c050c41781fcb8": {
          "model_module": "@jupyter-widgets/controls",
          "model_name": "DescriptionStyleModel",
          "model_module_version": "1.5.0",
          "state": {
            "_model_module": "@jupyter-widgets/controls",
            "_model_module_version": "1.5.0",
            "_model_name": "DescriptionStyleModel",
            "_view_count": null,
            "_view_module": "@jupyter-widgets/base",
            "_view_module_version": "1.2.0",
            "_view_name": "StyleView",
            "description_width": ""
          }
        },
        "6e60b34ca59d449e978cffb63337d3e5": {
          "model_module": "@jupyter-widgets/controls",
          "model_name": "HBoxModel",
          "model_module_version": "1.5.0",
          "state": {
            "_dom_classes": [],
            "_model_module": "@jupyter-widgets/controls",
            "_model_module_version": "1.5.0",
            "_model_name": "HBoxModel",
            "_view_count": null,
            "_view_module": "@jupyter-widgets/controls",
            "_view_module_version": "1.5.0",
            "_view_name": "HBoxView",
            "box_style": "",
            "children": [
              "IPY_MODEL_5e5e1421a9fe479ca35d05a09dd35f3a",
              "IPY_MODEL_1ec028f8ef534200bd7f0d275edffb63",
              "IPY_MODEL_96373102ae714e219a5ac145ad38c292"
            ],
            "layout": "IPY_MODEL_2e63a7a747a74a29a916d9f35ffc0671"
          }
        },
        "5e5e1421a9fe479ca35d05a09dd35f3a": {
          "model_module": "@jupyter-widgets/controls",
          "model_name": "HTMLModel",
          "model_module_version": "1.5.0",
          "state": {
            "_dom_classes": [],
            "_model_module": "@jupyter-widgets/controls",
            "_model_module_version": "1.5.0",
            "_model_name": "HTMLModel",
            "_view_count": null,
            "_view_module": "@jupyter-widgets/controls",
            "_view_module_version": "1.5.0",
            "_view_name": "HTMLView",
            "description": "",
            "description_tooltip": null,
            "layout": "IPY_MODEL_cb8d8287b35f4dff883ed39b21a05a0d",
            "placeholder": "​",
            "style": "IPY_MODEL_6e9efabce0c245648e051ff05273d3a5",
            "value": "Downloading (…)ve/main/spiece.model: 100%"
          }
        },
        "1ec028f8ef534200bd7f0d275edffb63": {
          "model_module": "@jupyter-widgets/controls",
          "model_name": "FloatProgressModel",
          "model_module_version": "1.5.0",
          "state": {
            "_dom_classes": [],
            "_model_module": "@jupyter-widgets/controls",
            "_model_module_version": "1.5.0",
            "_model_name": "FloatProgressModel",
            "_view_count": null,
            "_view_module": "@jupyter-widgets/controls",
            "_view_module_version": "1.5.0",
            "_view_name": "ProgressView",
            "bar_style": "success",
            "description": "",
            "description_tooltip": null,
            "layout": "IPY_MODEL_72f0e8f087fd46e4a1aeff7cfe58ea18",
            "max": 791656,
            "min": 0,
            "orientation": "horizontal",
            "style": "IPY_MODEL_29e747ff25714f37b39ece3a415f4df6",
            "value": 791656
          }
        },
        "96373102ae714e219a5ac145ad38c292": {
          "model_module": "@jupyter-widgets/controls",
          "model_name": "HTMLModel",
          "model_module_version": "1.5.0",
          "state": {
            "_dom_classes": [],
            "_model_module": "@jupyter-widgets/controls",
            "_model_module_version": "1.5.0",
            "_model_name": "HTMLModel",
            "_view_count": null,
            "_view_module": "@jupyter-widgets/controls",
            "_view_module_version": "1.5.0",
            "_view_name": "HTMLView",
            "description": "",
            "description_tooltip": null,
            "layout": "IPY_MODEL_08e6a78ed6a345a0873d302f2e121855",
            "placeholder": "​",
            "style": "IPY_MODEL_3e262bc92f324ff3b601ffa19ea25923",
            "value": " 792k/792k [00:00&lt;00:00, 857kB/s]"
          }
        },
        "2e63a7a747a74a29a916d9f35ffc0671": {
          "model_module": "@jupyter-widgets/base",
          "model_name": "LayoutModel",
          "model_module_version": "1.2.0",
          "state": {
            "_model_module": "@jupyter-widgets/base",
            "_model_module_version": "1.2.0",
            "_model_name": "LayoutModel",
            "_view_count": null,
            "_view_module": "@jupyter-widgets/base",
            "_view_module_version": "1.2.0",
            "_view_name": "LayoutView",
            "align_content": null,
            "align_items": null,
            "align_self": null,
            "border": null,
            "bottom": null,
            "display": null,
            "flex": null,
            "flex_flow": null,
            "grid_area": null,
            "grid_auto_columns": null,
            "grid_auto_flow": null,
            "grid_auto_rows": null,
            "grid_column": null,
            "grid_gap": null,
            "grid_row": null,
            "grid_template_areas": null,
            "grid_template_columns": null,
            "grid_template_rows": null,
            "height": null,
            "justify_content": null,
            "justify_items": null,
            "left": null,
            "margin": null,
            "max_height": null,
            "max_width": null,
            "min_height": null,
            "min_width": null,
            "object_fit": null,
            "object_position": null,
            "order": null,
            "overflow": null,
            "overflow_x": null,
            "overflow_y": null,
            "padding": null,
            "right": null,
            "top": null,
            "visibility": null,
            "width": null
          }
        },
        "cb8d8287b35f4dff883ed39b21a05a0d": {
          "model_module": "@jupyter-widgets/base",
          "model_name": "LayoutModel",
          "model_module_version": "1.2.0",
          "state": {
            "_model_module": "@jupyter-widgets/base",
            "_model_module_version": "1.2.0",
            "_model_name": "LayoutModel",
            "_view_count": null,
            "_view_module": "@jupyter-widgets/base",
            "_view_module_version": "1.2.0",
            "_view_name": "LayoutView",
            "align_content": null,
            "align_items": null,
            "align_self": null,
            "border": null,
            "bottom": null,
            "display": null,
            "flex": null,
            "flex_flow": null,
            "grid_area": null,
            "grid_auto_columns": null,
            "grid_auto_flow": null,
            "grid_auto_rows": null,
            "grid_column": null,
            "grid_gap": null,
            "grid_row": null,
            "grid_template_areas": null,
            "grid_template_columns": null,
            "grid_template_rows": null,
            "height": null,
            "justify_content": null,
            "justify_items": null,
            "left": null,
            "margin": null,
            "max_height": null,
            "max_width": null,
            "min_height": null,
            "min_width": null,
            "object_fit": null,
            "object_position": null,
            "order": null,
            "overflow": null,
            "overflow_x": null,
            "overflow_y": null,
            "padding": null,
            "right": null,
            "top": null,
            "visibility": null,
            "width": null
          }
        },
        "6e9efabce0c245648e051ff05273d3a5": {
          "model_module": "@jupyter-widgets/controls",
          "model_name": "DescriptionStyleModel",
          "model_module_version": "1.5.0",
          "state": {
            "_model_module": "@jupyter-widgets/controls",
            "_model_module_version": "1.5.0",
            "_model_name": "DescriptionStyleModel",
            "_view_count": null,
            "_view_module": "@jupyter-widgets/base",
            "_view_module_version": "1.2.0",
            "_view_name": "StyleView",
            "description_width": ""
          }
        },
        "72f0e8f087fd46e4a1aeff7cfe58ea18": {
          "model_module": "@jupyter-widgets/base",
          "model_name": "LayoutModel",
          "model_module_version": "1.2.0",
          "state": {
            "_model_module": "@jupyter-widgets/base",
            "_model_module_version": "1.2.0",
            "_model_name": "LayoutModel",
            "_view_count": null,
            "_view_module": "@jupyter-widgets/base",
            "_view_module_version": "1.2.0",
            "_view_name": "LayoutView",
            "align_content": null,
            "align_items": null,
            "align_self": null,
            "border": null,
            "bottom": null,
            "display": null,
            "flex": null,
            "flex_flow": null,
            "grid_area": null,
            "grid_auto_columns": null,
            "grid_auto_flow": null,
            "grid_auto_rows": null,
            "grid_column": null,
            "grid_gap": null,
            "grid_row": null,
            "grid_template_areas": null,
            "grid_template_columns": null,
            "grid_template_rows": null,
            "height": null,
            "justify_content": null,
            "justify_items": null,
            "left": null,
            "margin": null,
            "max_height": null,
            "max_width": null,
            "min_height": null,
            "min_width": null,
            "object_fit": null,
            "object_position": null,
            "order": null,
            "overflow": null,
            "overflow_x": null,
            "overflow_y": null,
            "padding": null,
            "right": null,
            "top": null,
            "visibility": null,
            "width": null
          }
        },
        "29e747ff25714f37b39ece3a415f4df6": {
          "model_module": "@jupyter-widgets/controls",
          "model_name": "ProgressStyleModel",
          "model_module_version": "1.5.0",
          "state": {
            "_model_module": "@jupyter-widgets/controls",
            "_model_module_version": "1.5.0",
            "_model_name": "ProgressStyleModel",
            "_view_count": null,
            "_view_module": "@jupyter-widgets/base",
            "_view_module_version": "1.2.0",
            "_view_name": "StyleView",
            "bar_color": null,
            "description_width": ""
          }
        },
        "08e6a78ed6a345a0873d302f2e121855": {
          "model_module": "@jupyter-widgets/base",
          "model_name": "LayoutModel",
          "model_module_version": "1.2.0",
          "state": {
            "_model_module": "@jupyter-widgets/base",
            "_model_module_version": "1.2.0",
            "_model_name": "LayoutModel",
            "_view_count": null,
            "_view_module": "@jupyter-widgets/base",
            "_view_module_version": "1.2.0",
            "_view_name": "LayoutView",
            "align_content": null,
            "align_items": null,
            "align_self": null,
            "border": null,
            "bottom": null,
            "display": null,
            "flex": null,
            "flex_flow": null,
            "grid_area": null,
            "grid_auto_columns": null,
            "grid_auto_flow": null,
            "grid_auto_rows": null,
            "grid_column": null,
            "grid_gap": null,
            "grid_row": null,
            "grid_template_areas": null,
            "grid_template_columns": null,
            "grid_template_rows": null,
            "height": null,
            "justify_content": null,
            "justify_items": null,
            "left": null,
            "margin": null,
            "max_height": null,
            "max_width": null,
            "min_height": null,
            "min_width": null,
            "object_fit": null,
            "object_position": null,
            "order": null,
            "overflow": null,
            "overflow_x": null,
            "overflow_y": null,
            "padding": null,
            "right": null,
            "top": null,
            "visibility": null,
            "width": null
          }
        },
        "3e262bc92f324ff3b601ffa19ea25923": {
          "model_module": "@jupyter-widgets/controls",
          "model_name": "DescriptionStyleModel",
          "model_module_version": "1.5.0",
          "state": {
            "_model_module": "@jupyter-widgets/controls",
            "_model_module_version": "1.5.0",
            "_model_name": "DescriptionStyleModel",
            "_view_count": null,
            "_view_module": "@jupyter-widgets/base",
            "_view_module_version": "1.2.0",
            "_view_name": "StyleView",
            "description_width": ""
          }
        },
        "af79821be8814bf6b24a0264ecef839d": {
          "model_module": "@jupyter-widgets/controls",
          "model_name": "HBoxModel",
          "model_module_version": "1.5.0",
          "state": {
            "_dom_classes": [],
            "_model_module": "@jupyter-widgets/controls",
            "_model_module_version": "1.5.0",
            "_model_name": "HBoxModel",
            "_view_count": null,
            "_view_module": "@jupyter-widgets/controls",
            "_view_module_version": "1.5.0",
            "_view_name": "HBoxView",
            "box_style": "",
            "children": [
              "IPY_MODEL_cb756c586d044948b7419fc6cf75b2fa",
              "IPY_MODEL_24f29c2001c344fe850889d04dccce44",
              "IPY_MODEL_bc0679c02ceb49968339e09e502bd22a"
            ],
            "layout": "IPY_MODEL_44d567414e8e4416b7ae86ad1ad2b070"
          }
        },
        "cb756c586d044948b7419fc6cf75b2fa": {
          "model_module": "@jupyter-widgets/controls",
          "model_name": "HTMLModel",
          "model_module_version": "1.5.0",
          "state": {
            "_dom_classes": [],
            "_model_module": "@jupyter-widgets/controls",
            "_model_module_version": "1.5.0",
            "_model_name": "HTMLModel",
            "_view_count": null,
            "_view_module": "@jupyter-widgets/controls",
            "_view_module_version": "1.5.0",
            "_view_name": "HTMLView",
            "description": "",
            "description_tooltip": null,
            "layout": "IPY_MODEL_a873da615c5544fcb41a91cb1a153a59",
            "placeholder": "​",
            "style": "IPY_MODEL_2d0919a4469442a0ae3fafa207b86ef8",
            "value": "Downloading (…)/main/tokenizer.json: 100%"
          }
        },
        "24f29c2001c344fe850889d04dccce44": {
          "model_module": "@jupyter-widgets/controls",
          "model_name": "FloatProgressModel",
          "model_module_version": "1.5.0",
          "state": {
            "_dom_classes": [],
            "_model_module": "@jupyter-widgets/controls",
            "_model_module_version": "1.5.0",
            "_model_name": "FloatProgressModel",
            "_view_count": null,
            "_view_module": "@jupyter-widgets/controls",
            "_view_module_version": "1.5.0",
            "_view_name": "ProgressView",
            "bar_style": "success",
            "description": "",
            "description_tooltip": null,
            "layout": "IPY_MODEL_a6d2407d679e40f7bdf019d871d4e59e",
            "max": 1389353,
            "min": 0,
            "orientation": "horizontal",
            "style": "IPY_MODEL_f82a9ae69fd442e396a243a9498477bb",
            "value": 1389353
          }
        },
        "bc0679c02ceb49968339e09e502bd22a": {
          "model_module": "@jupyter-widgets/controls",
          "model_name": "HTMLModel",
          "model_module_version": "1.5.0",
          "state": {
            "_dom_classes": [],
            "_model_module": "@jupyter-widgets/controls",
            "_model_module_version": "1.5.0",
            "_model_name": "HTMLModel",
            "_view_count": null,
            "_view_module": "@jupyter-widgets/controls",
            "_view_module_version": "1.5.0",
            "_view_name": "HTMLView",
            "description": "",
            "description_tooltip": null,
            "layout": "IPY_MODEL_926530794ebf4651af293c9cd56a85dd",
            "placeholder": "​",
            "style": "IPY_MODEL_94d1f322e30b41a788c44d1916c0e589",
            "value": " 1.39M/1.39M [00:01&lt;00:00, 1.26MB/s]"
          }
        },
        "44d567414e8e4416b7ae86ad1ad2b070": {
          "model_module": "@jupyter-widgets/base",
          "model_name": "LayoutModel",
          "model_module_version": "1.2.0",
          "state": {
            "_model_module": "@jupyter-widgets/base",
            "_model_module_version": "1.2.0",
            "_model_name": "LayoutModel",
            "_view_count": null,
            "_view_module": "@jupyter-widgets/base",
            "_view_module_version": "1.2.0",
            "_view_name": "LayoutView",
            "align_content": null,
            "align_items": null,
            "align_self": null,
            "border": null,
            "bottom": null,
            "display": null,
            "flex": null,
            "flex_flow": null,
            "grid_area": null,
            "grid_auto_columns": null,
            "grid_auto_flow": null,
            "grid_auto_rows": null,
            "grid_column": null,
            "grid_gap": null,
            "grid_row": null,
            "grid_template_areas": null,
            "grid_template_columns": null,
            "grid_template_rows": null,
            "height": null,
            "justify_content": null,
            "justify_items": null,
            "left": null,
            "margin": null,
            "max_height": null,
            "max_width": null,
            "min_height": null,
            "min_width": null,
            "object_fit": null,
            "object_position": null,
            "order": null,
            "overflow": null,
            "overflow_x": null,
            "overflow_y": null,
            "padding": null,
            "right": null,
            "top": null,
            "visibility": null,
            "width": null
          }
        },
        "a873da615c5544fcb41a91cb1a153a59": {
          "model_module": "@jupyter-widgets/base",
          "model_name": "LayoutModel",
          "model_module_version": "1.2.0",
          "state": {
            "_model_module": "@jupyter-widgets/base",
            "_model_module_version": "1.2.0",
            "_model_name": "LayoutModel",
            "_view_count": null,
            "_view_module": "@jupyter-widgets/base",
            "_view_module_version": "1.2.0",
            "_view_name": "LayoutView",
            "align_content": null,
            "align_items": null,
            "align_self": null,
            "border": null,
            "bottom": null,
            "display": null,
            "flex": null,
            "flex_flow": null,
            "grid_area": null,
            "grid_auto_columns": null,
            "grid_auto_flow": null,
            "grid_auto_rows": null,
            "grid_column": null,
            "grid_gap": null,
            "grid_row": null,
            "grid_template_areas": null,
            "grid_template_columns": null,
            "grid_template_rows": null,
            "height": null,
            "justify_content": null,
            "justify_items": null,
            "left": null,
            "margin": null,
            "max_height": null,
            "max_width": null,
            "min_height": null,
            "min_width": null,
            "object_fit": null,
            "object_position": null,
            "order": null,
            "overflow": null,
            "overflow_x": null,
            "overflow_y": null,
            "padding": null,
            "right": null,
            "top": null,
            "visibility": null,
            "width": null
          }
        },
        "2d0919a4469442a0ae3fafa207b86ef8": {
          "model_module": "@jupyter-widgets/controls",
          "model_name": "DescriptionStyleModel",
          "model_module_version": "1.5.0",
          "state": {
            "_model_module": "@jupyter-widgets/controls",
            "_model_module_version": "1.5.0",
            "_model_name": "DescriptionStyleModel",
            "_view_count": null,
            "_view_module": "@jupyter-widgets/base",
            "_view_module_version": "1.2.0",
            "_view_name": "StyleView",
            "description_width": ""
          }
        },
        "a6d2407d679e40f7bdf019d871d4e59e": {
          "model_module": "@jupyter-widgets/base",
          "model_name": "LayoutModel",
          "model_module_version": "1.2.0",
          "state": {
            "_model_module": "@jupyter-widgets/base",
            "_model_module_version": "1.2.0",
            "_model_name": "LayoutModel",
            "_view_count": null,
            "_view_module": "@jupyter-widgets/base",
            "_view_module_version": "1.2.0",
            "_view_name": "LayoutView",
            "align_content": null,
            "align_items": null,
            "align_self": null,
            "border": null,
            "bottom": null,
            "display": null,
            "flex": null,
            "flex_flow": null,
            "grid_area": null,
            "grid_auto_columns": null,
            "grid_auto_flow": null,
            "grid_auto_rows": null,
            "grid_column": null,
            "grid_gap": null,
            "grid_row": null,
            "grid_template_areas": null,
            "grid_template_columns": null,
            "grid_template_rows": null,
            "height": null,
            "justify_content": null,
            "justify_items": null,
            "left": null,
            "margin": null,
            "max_height": null,
            "max_width": null,
            "min_height": null,
            "min_width": null,
            "object_fit": null,
            "object_position": null,
            "order": null,
            "overflow": null,
            "overflow_x": null,
            "overflow_y": null,
            "padding": null,
            "right": null,
            "top": null,
            "visibility": null,
            "width": null
          }
        },
        "f82a9ae69fd442e396a243a9498477bb": {
          "model_module": "@jupyter-widgets/controls",
          "model_name": "ProgressStyleModel",
          "model_module_version": "1.5.0",
          "state": {
            "_model_module": "@jupyter-widgets/controls",
            "_model_module_version": "1.5.0",
            "_model_name": "ProgressStyleModel",
            "_view_count": null,
            "_view_module": "@jupyter-widgets/base",
            "_view_module_version": "1.2.0",
            "_view_name": "StyleView",
            "bar_color": null,
            "description_width": ""
          }
        },
        "926530794ebf4651af293c9cd56a85dd": {
          "model_module": "@jupyter-widgets/base",
          "model_name": "LayoutModel",
          "model_module_version": "1.2.0",
          "state": {
            "_model_module": "@jupyter-widgets/base",
            "_model_module_version": "1.2.0",
            "_model_name": "LayoutModel",
            "_view_count": null,
            "_view_module": "@jupyter-widgets/base",
            "_view_module_version": "1.2.0",
            "_view_name": "LayoutView",
            "align_content": null,
            "align_items": null,
            "align_self": null,
            "border": null,
            "bottom": null,
            "display": null,
            "flex": null,
            "flex_flow": null,
            "grid_area": null,
            "grid_auto_columns": null,
            "grid_auto_flow": null,
            "grid_auto_rows": null,
            "grid_column": null,
            "grid_gap": null,
            "grid_row": null,
            "grid_template_areas": null,
            "grid_template_columns": null,
            "grid_template_rows": null,
            "height": null,
            "justify_content": null,
            "justify_items": null,
            "left": null,
            "margin": null,
            "max_height": null,
            "max_width": null,
            "min_height": null,
            "min_width": null,
            "object_fit": null,
            "object_position": null,
            "order": null,
            "overflow": null,
            "overflow_x": null,
            "overflow_y": null,
            "padding": null,
            "right": null,
            "top": null,
            "visibility": null,
            "width": null
          }
        },
        "94d1f322e30b41a788c44d1916c0e589": {
          "model_module": "@jupyter-widgets/controls",
          "model_name": "DescriptionStyleModel",
          "model_module_version": "1.5.0",
          "state": {
            "_model_module": "@jupyter-widgets/controls",
            "_model_module_version": "1.5.0",
            "_model_name": "DescriptionStyleModel",
            "_view_count": null,
            "_view_module": "@jupyter-widgets/base",
            "_view_module_version": "1.2.0",
            "_view_name": "StyleView",
            "description_width": ""
          }
        }
      }
    }
  },
  "cells": [
    {
      "cell_type": "markdown",
      "metadata": {
        "id": "view-in-github",
        "colab_type": "text"
      },
      "source": [
        "<a href=\"https://colab.research.google.com/github/NadiaHolmlund/M6_Group_Assignments/blob/main/Group_Assignment_1/Group_Assignment_1.ipynb\" target=\"_parent\"><img src=\"https://colab.research.google.com/assets/colab-badge.svg\" alt=\"Open In Colab\"/></a>"
      ]
    },
    {
      "cell_type": "markdown",
      "source": [
        "# Task\n",
        "\n",
        "Develop a Proof-of-Concept version of an application that is querying a database to come provide an output to the user."
      ],
      "metadata": {
        "id": "uUxiGoVQIwKg"
      }
    },
    {
      "cell_type": "markdown",
      "source": [
        "This can be for example:\n",
        "- Selecting observations from database, performing prediction with a (beforehand fitted) SML model.\n",
        "- Perform a UML procedure on observations queried from a database.\n",
        "- Perform a semantic/similarity search for an user input, retrieve most similar docs from a database.\n",
        "\n",
        "The data used should be non-trivial (eg.: enough observations,´maybe multiple tables, different types of data…)\n",
        " - The solution has to be self-contained. This can be done:\n",
        " - Within a colab using for grad.io. (Hint: An option is to save the database on github, and then load it in the colab).)\n",
        " - As a streamlit app (figure out how to make it self-contained).\n",
        " - (sky is the limit.)\n",
        "\n",
        "Possible databases:\n",
        "- SQL DB (eg. SQL-lite)\n",
        "- NoSQL DB\n",
        " - Document (eg. tinyDB)\n",
        " - Vector (Eg. Faiss, Chroma)"
      ],
      "metadata": {
        "id": "MixgZ6VgIzCm"
      }
    },
    {
      "cell_type": "markdown",
      "source": [
        "# Solution"
      ],
      "metadata": {
        "id": "b2-BSVkKI4Se"
      }
    },
    {
      "cell_type": "markdown",
      "source": [
        "In the following, we have created a SQLite database containing information about the 2.000 most cited documents on Scopus within the topic of Natural Language Processing.\n",
        "\n",
        "Subsequently, a T5 summarization pipeline has been applied from HuggingFace to generate super-summarized abstracts of 50 characters or less. This provides users with a quick overview of the documents' content. The model is demonstrated in Grad.io in which the user can select a document from the Scopus database or upload their own abstract/abstracts not available in the database. The interface then returns a super-summarized abstract."
      ],
      "metadata": {
        "id": "W1SKVFwtI55F"
      }
    },
    {
      "cell_type": "markdown",
      "source": [
        "# Imports"
      ],
      "metadata": {
        "id": "UvBbIiEkJcDM"
      }
    },
    {
      "cell_type": "code",
      "source": [
        "!pip install gradio --q\n",
        "!pip install transformers --q"
      ],
      "metadata": {
        "id": "d8wO5bA8dslr",
        "colab": {
          "base_uri": "https://localhost:8080/"
        },
        "outputId": "7ef6dcc5-c494-484d-dec2-339b9f2a912f"
      },
      "execution_count": 1,
      "outputs": [
        {
          "output_type": "stream",
          "name": "stdout",
          "text": [
            "\u001b[2K     \u001b[90m━━━━━━━━━━━━━━━━━━━━━━━━━━━━━━━━━━━━━━━━\u001b[0m \u001b[32m15.8/15.8 MB\u001b[0m \u001b[31m34.8 MB/s\u001b[0m eta \u001b[36m0:00:00\u001b[0m\n",
            "\u001b[2K     \u001b[90m━━━━━━━━━━━━━━━━━━━━━━━━━━━━━━━━━━━━━━━━\u001b[0m \u001b[32m71.5/71.5 KB\u001b[0m \u001b[31m2.7 MB/s\u001b[0m eta \u001b[36m0:00:00\u001b[0m\n",
            "\u001b[2K     \u001b[90m━━━━━━━━━━━━━━━━━━━━━━━━━━━━━━━━━━━━━━\u001b[0m \u001b[32m199.8/199.8 KB\u001b[0m \u001b[31m10.3 MB/s\u001b[0m eta \u001b[36m0:00:00\u001b[0m\n",
            "\u001b[2K     \u001b[90m━━━━━━━━━━━━━━━━━━━━━━━━━━━━━━━━━━━━━━━━\u001b[0m \u001b[32m1.0/1.0 MB\u001b[0m \u001b[31m9.4 MB/s\u001b[0m eta \u001b[36m0:00:00\u001b[0m\n",
            "\u001b[2K     \u001b[90m━━━━━━━━━━━━━━━━━━━━━━━━━━━━━━━━━━━━━━━\u001b[0m \u001b[32m143.5/143.5 KB\u001b[0m \u001b[31m4.1 MB/s\u001b[0m eta \u001b[36m0:00:00\u001b[0m\n",
            "\u001b[?25h  Preparing metadata (setup.py) ... \u001b[?25l\u001b[?25hdone\n",
            "\u001b[2K     \u001b[90m━━━━━━━━━━━━━━━━━━━━━━━━━━━━━━━━━━━━━━━\u001b[0m \u001b[32m106.5/106.5 KB\u001b[0m \u001b[31m4.3 MB/s\u001b[0m eta \u001b[36m0:00:00\u001b[0m\n",
            "\u001b[2K     \u001b[90m━━━━━━━━━━━━━━━━━━━━━━━━━━━━━━━━━━━━━━━━\u001b[0m \u001b[32m50.5/50.5 KB\u001b[0m \u001b[31m3.0 MB/s\u001b[0m eta \u001b[36m0:00:00\u001b[0m\n",
            "\u001b[2K     \u001b[90m━━━━━━━━━━━━━━━━━━━━━━━━━━━━━━━━━━━━━━━━\u001b[0m \u001b[32m57.1/57.1 KB\u001b[0m \u001b[31m1.8 MB/s\u001b[0m eta \u001b[36m0:00:00\u001b[0m\n",
            "\u001b[2K     \u001b[90m━━━━━━━━━━━━━━━━━━━━━━━━━━━━━━━━━━━━━━━━\u001b[0m \u001b[32m45.7/45.7 KB\u001b[0m \u001b[31m1.9 MB/s\u001b[0m eta \u001b[36m0:00:00\u001b[0m\n",
            "\u001b[2K     \u001b[90m━━━━━━━━━━━━━━━━━━━━━━━━━━━━━━━━━━━━━━━━\u001b[0m \u001b[32m57.8/57.8 KB\u001b[0m \u001b[31m2.6 MB/s\u001b[0m eta \u001b[36m0:00:00\u001b[0m\n",
            "\u001b[2K     \u001b[90m━━━━━━━━━━━━━━━━━━━━━━━━━━━━━━━━━━━━━━━\u001b[0m \u001b[32m158.8/158.8 KB\u001b[0m \u001b[31m3.3 MB/s\u001b[0m eta \u001b[36m0:00:00\u001b[0m\n",
            "\u001b[2K     \u001b[90m━━━━━━━━━━━━━━━━━━━━━━━━━━━━━━━━━━━━━━━\u001b[0m \u001b[32m114.2/114.2 KB\u001b[0m \u001b[31m1.2 MB/s\u001b[0m eta \u001b[36m0:00:00\u001b[0m\n",
            "\u001b[2K     \u001b[90m━━━━━━━━━━━━━━━━━━━━━━━━━━━━━━━━━━━━━━━\u001b[0m \u001b[32m264.6/264.6 KB\u001b[0m \u001b[31m5.9 MB/s\u001b[0m eta \u001b[36m0:00:00\u001b[0m\n",
            "\u001b[2K     \u001b[90m━━━━━━━━━━━━━━━━━━━━━━━━━━━━━━━━━━━━━━━━\u001b[0m \u001b[32m66.9/66.9 KB\u001b[0m \u001b[31m4.4 MB/s\u001b[0m eta \u001b[36m0:00:00\u001b[0m\n",
            "\u001b[2K     \u001b[90m━━━━━━━━━━━━━━━━━━━━━━━━━━━━━━━━━━━━━━━━\u001b[0m \u001b[32m69.6/69.6 KB\u001b[0m \u001b[31m4.2 MB/s\u001b[0m eta \u001b[36m0:00:00\u001b[0m\n",
            "\u001b[2K     \u001b[90m━━━━━━━━━━━━━━━━━━━━━━━━━━━━━━━━━━━━━━━━\u001b[0m \u001b[32m58.3/58.3 KB\u001b[0m \u001b[31m5.3 MB/s\u001b[0m eta \u001b[36m0:00:00\u001b[0m\n",
            "\u001b[2K     \u001b[90m━━━━━━━━━━━━━━━━━━━━━━━━━━━━━━━━━━━━━━━━\u001b[0m \u001b[32m80.6/80.6 KB\u001b[0m \u001b[31m9.1 MB/s\u001b[0m eta \u001b[36m0:00:00\u001b[0m\n",
            "\u001b[?25h  Building wheel for ffmpy (setup.py) ... \u001b[?25l\u001b[?25hdone\n",
            "\u001b[2K     \u001b[90m━━━━━━━━━━━━━━━━━━━━━━━━━━━━━━━━━━━━━━━━\u001b[0m \u001b[32m6.8/6.8 MB\u001b[0m \u001b[31m37.9 MB/s\u001b[0m eta \u001b[36m0:00:00\u001b[0m\n",
            "\u001b[2K     \u001b[90m━━━━━━━━━━━━━━━━━━━━━━━━━━━━━━━━━━━━━━━━\u001b[0m \u001b[32m7.6/7.6 MB\u001b[0m \u001b[31m42.5 MB/s\u001b[0m eta \u001b[36m0:00:00\u001b[0m\n",
            "\u001b[?25h"
          ]
        }
      ]
    },
    {
      "cell_type": "code",
      "source": [
        "import pandas as pd\n",
        "import sqlite3\n",
        "from transformers import pipeline\n",
        "import gradio as gr\n",
        "from IPython.display import Image\n",
        "\n",
        "pd.set_option('max_colwidth', 1000)\n",
        "pd.describe_option('max_colwidth')"
      ],
      "metadata": {
        "colab": {
          "base_uri": "https://localhost:8080/"
        },
        "id": "T15GHfLTJbIQ",
        "outputId": "72e6b10a-5e91-43d4-f01b-deb21cbde4a1"
      },
      "execution_count": 43,
      "outputs": [
        {
          "output_type": "stream",
          "name": "stdout",
          "text": [
            "display.max_colwidth : int or None\n",
            "    The maximum width in characters of a column in the repr of\n",
            "    a pandas data structure. When the column overflows, a \"...\"\n",
            "    placeholder is embedded in the output. A 'None' value means unlimited.\n",
            "    [default: 50] [currently: 1000]\n"
          ]
        }
      ]
    },
    {
      "cell_type": "markdown",
      "source": [
        "# Creating the database"
      ],
      "metadata": {
        "id": "Go0rY-GbJKYh"
      }
    },
    {
      "cell_type": "code",
      "execution_count": 3,
      "metadata": {
        "id": "h9niVPdXIQtb"
      },
      "outputs": [],
      "source": [
        "# Reading the CSV file into a Pandas DataFrame\n",
        "df = pd.read_csv('https://raw.githubusercontent.com/NadiaHolmlund/M6_Group_Assignments/main/Group_Assignment_1/Data/Scopus_NLP.csv')"
      ]
    },
    {
      "cell_type": "code",
      "source": [
        "# Examining the DataFrame\n",
        "df.head()"
      ],
      "metadata": {
        "colab": {
          "base_uri": "https://localhost:8080/",
          "height": 1000
        },
        "id": "RNpzpIc-NUPe",
        "outputId": "34103f3d-3b98-46fe-f5b3-65a2c0a912de"
      },
      "execution_count": 4,
      "outputs": [
        {
          "output_type": "execute_result",
          "data": {
            "text/plain": [
              "                                                                                    Authors  \\\n",
              "0                                                    Pennington J., Socher R., Manning C.D.   \n",
              "1                                              Devlin J., Chang M.-W., Lee K., Toutanova K.   \n",
              "2  Cho K., Van Merriënboer B., Gulcehre C., Bahdanau D., Bougares F., Schwenk H., Bengio Y.   \n",
              "3                                                         Pang B., Lee L., Vaithyanathan S.   \n",
              "4                   Collobert R., Weston J., Bottou L., Karlen M., Kavukcuoglu K., Kuksa P.   \n",
              "\n",
              "                                                                         Author(s) ID  \\\n",
              "0                                                22953926600;24766896100;35280197500;   \n",
              "1                                     54879967400;25925685700;56349980800;6506107920;   \n",
              "2  55722769200;57188495900;56006846900;57188434700;42061073000;7005072756;7003958245;   \n",
              "3                                                   8644537200;7404389769;6603253116;   \n",
              "4              14064641400;8865128200;6701721644;25651854400;25646533000;57221708009;   \n",
              "\n",
              "                                                                                           Title  \\\n",
              "0                                                  GloVe: Global vectors for word representation   \n",
              "1               BERT: Pre-training of deep bidirectional transformers for language understanding   \n",
              "2  Learning phrase representations using RNN encoder-decoder for statistical machine translation   \n",
              "3                          Thumbs up? Sentiment Classification using Machine Learning Techniques   \n",
              "4                                              Natural language processing (almost) from scratch   \n",
              "\n",
              "   Year  \\\n",
              "0  2014   \n",
              "1  2019   \n",
              "2  2014   \n",
              "3  2002   \n",
              "4  2011   \n",
              "\n",
              "                                                                                                                                                                   Source title  \\\n",
              "0                                                               EMNLP 2014 - 2014 Conference on Empirical Methods in Natural Language Processing, Proceedings of the Conference   \n",
              "1  NAACL HLT 2019 - 2019 Conference of the North American Chapter of the Association for Computational Linguistics: Human Language Technologies - Proceedings of the Conference   \n",
              "2                                                               EMNLP 2014 - 2014 Conference on Empirical Methods in Natural Language Processing, Proceedings of the Conference   \n",
              "3                                                                            Proceedings of the 2002 Conference on Empirical Methods in Natural Language Processing, EMNLP 2002   \n",
              "4                                                                                                                                          Journal of Machine Learning Research   \n",
              "\n",
              "  Volume Issue Art. No. Page start Page end  ...           ISBN  CODEN  \\\n",
              "0    NaN   NaN      NaN       1532     1543  ...  9781937284961    NaN   \n",
              "1      1   NaN      NaN       4171     4186  ...  9781950737130    NaN   \n",
              "2    NaN   NaN      NaN       1724     1734  ...  9781937284961    NaN   \n",
              "3    NaN   NaN      NaN         79       86  ...            NaN    NaN   \n",
              "4     12   NaN      NaN       2493     2537  ...            NaN    NaN   \n",
              "\n",
              "  PubMed ID Language of Original Document  \\\n",
              "0       NaN                       English   \n",
              "1       NaN                       English   \n",
              "2       NaN                       English   \n",
              "3       NaN                       English   \n",
              "4       NaN                       English   \n",
              "\n",
              "                                                                         Abbreviated Source Title  \\\n",
              "0                                   EMNLP - Conf. Empir. Methods Nat. Lang. Process., Proc. Conf.   \n",
              "1  NAACL HLT - Conf. N. Am. Chapter Assoc. Comput. Linguistics: Hum. Lang. Technol. - Proc. Conf.   \n",
              "2                                   EMNLP - Conf. Empir. Methods Nat. Lang. Process., Proc. Conf.   \n",
              "3                                           Proc. Conf. Empir. Methods Nat. Lang. Process., EMNLP   \n",
              "4                                                                            J. Mach. Learn. Res.   \n",
              "\n",
              "      Document Type Publication Stage             Open Access  Source  \\\n",
              "0  Conference Paper             Final                     NaN  Scopus   \n",
              "1  Conference Paper             Final                     NaN  Scopus   \n",
              "2  Conference Paper             Final  All Open Access, Green  Scopus   \n",
              "3  Conference Paper             Final                     NaN  Scopus   \n",
              "4           Article             Final                     NaN  Scopus   \n",
              "\n",
              "                  EID  \n",
              "0  2-s2.0-84961289992  \n",
              "1  2-s2.0-85083815650  \n",
              "2  2-s2.0-84961291190  \n",
              "3  2-s2.0-85141803251  \n",
              "4  2-s2.0-80053558787  \n",
              "\n",
              "[5 rows x 54 columns]"
            ],
            "text/html": [
              "\n",
              "  <div id=\"df-5aba5da3-05f1-4c8e-8722-0ba4660e2605\">\n",
              "    <div class=\"colab-df-container\">\n",
              "      <div>\n",
              "<style scoped>\n",
              "    .dataframe tbody tr th:only-of-type {\n",
              "        vertical-align: middle;\n",
              "    }\n",
              "\n",
              "    .dataframe tbody tr th {\n",
              "        vertical-align: top;\n",
              "    }\n",
              "\n",
              "    .dataframe thead th {\n",
              "        text-align: right;\n",
              "    }\n",
              "</style>\n",
              "<table border=\"1\" class=\"dataframe\">\n",
              "  <thead>\n",
              "    <tr style=\"text-align: right;\">\n",
              "      <th></th>\n",
              "      <th>Authors</th>\n",
              "      <th>Author(s) ID</th>\n",
              "      <th>Title</th>\n",
              "      <th>Year</th>\n",
              "      <th>Source title</th>\n",
              "      <th>Volume</th>\n",
              "      <th>Issue</th>\n",
              "      <th>Art. No.</th>\n",
              "      <th>Page start</th>\n",
              "      <th>Page end</th>\n",
              "      <th>...</th>\n",
              "      <th>ISBN</th>\n",
              "      <th>CODEN</th>\n",
              "      <th>PubMed ID</th>\n",
              "      <th>Language of Original Document</th>\n",
              "      <th>Abbreviated Source Title</th>\n",
              "      <th>Document Type</th>\n",
              "      <th>Publication Stage</th>\n",
              "      <th>Open Access</th>\n",
              "      <th>Source</th>\n",
              "      <th>EID</th>\n",
              "    </tr>\n",
              "  </thead>\n",
              "  <tbody>\n",
              "    <tr>\n",
              "      <th>0</th>\n",
              "      <td>Pennington J., Socher R., Manning C.D.</td>\n",
              "      <td>22953926600;24766896100;35280197500;</td>\n",
              "      <td>GloVe: Global vectors for word representation</td>\n",
              "      <td>2014</td>\n",
              "      <td>EMNLP 2014 - 2014 Conference on Empirical Methods in Natural Language Processing, Proceedings of the Conference</td>\n",
              "      <td>NaN</td>\n",
              "      <td>NaN</td>\n",
              "      <td>NaN</td>\n",
              "      <td>1532</td>\n",
              "      <td>1543</td>\n",
              "      <td>...</td>\n",
              "      <td>9781937284961</td>\n",
              "      <td>NaN</td>\n",
              "      <td>NaN</td>\n",
              "      <td>English</td>\n",
              "      <td>EMNLP - Conf. Empir. Methods Nat. Lang. Process., Proc. Conf.</td>\n",
              "      <td>Conference Paper</td>\n",
              "      <td>Final</td>\n",
              "      <td>NaN</td>\n",
              "      <td>Scopus</td>\n",
              "      <td>2-s2.0-84961289992</td>\n",
              "    </tr>\n",
              "    <tr>\n",
              "      <th>1</th>\n",
              "      <td>Devlin J., Chang M.-W., Lee K., Toutanova K.</td>\n",
              "      <td>54879967400;25925685700;56349980800;6506107920;</td>\n",
              "      <td>BERT: Pre-training of deep bidirectional transformers for language understanding</td>\n",
              "      <td>2019</td>\n",
              "      <td>NAACL HLT 2019 - 2019 Conference of the North American Chapter of the Association for Computational Linguistics: Human Language Technologies - Proceedings of the Conference</td>\n",
              "      <td>1</td>\n",
              "      <td>NaN</td>\n",
              "      <td>NaN</td>\n",
              "      <td>4171</td>\n",
              "      <td>4186</td>\n",
              "      <td>...</td>\n",
              "      <td>9781950737130</td>\n",
              "      <td>NaN</td>\n",
              "      <td>NaN</td>\n",
              "      <td>English</td>\n",
              "      <td>NAACL HLT - Conf. N. Am. Chapter Assoc. Comput. Linguistics: Hum. Lang. Technol. - Proc. Conf.</td>\n",
              "      <td>Conference Paper</td>\n",
              "      <td>Final</td>\n",
              "      <td>NaN</td>\n",
              "      <td>Scopus</td>\n",
              "      <td>2-s2.0-85083815650</td>\n",
              "    </tr>\n",
              "    <tr>\n",
              "      <th>2</th>\n",
              "      <td>Cho K., Van Merriënboer B., Gulcehre C., Bahdanau D., Bougares F., Schwenk H., Bengio Y.</td>\n",
              "      <td>55722769200;57188495900;56006846900;57188434700;42061073000;7005072756;7003958245;</td>\n",
              "      <td>Learning phrase representations using RNN encoder-decoder for statistical machine translation</td>\n",
              "      <td>2014</td>\n",
              "      <td>EMNLP 2014 - 2014 Conference on Empirical Methods in Natural Language Processing, Proceedings of the Conference</td>\n",
              "      <td>NaN</td>\n",
              "      <td>NaN</td>\n",
              "      <td>NaN</td>\n",
              "      <td>1724</td>\n",
              "      <td>1734</td>\n",
              "      <td>...</td>\n",
              "      <td>9781937284961</td>\n",
              "      <td>NaN</td>\n",
              "      <td>NaN</td>\n",
              "      <td>English</td>\n",
              "      <td>EMNLP - Conf. Empir. Methods Nat. Lang. Process., Proc. Conf.</td>\n",
              "      <td>Conference Paper</td>\n",
              "      <td>Final</td>\n",
              "      <td>All Open Access, Green</td>\n",
              "      <td>Scopus</td>\n",
              "      <td>2-s2.0-84961291190</td>\n",
              "    </tr>\n",
              "    <tr>\n",
              "      <th>3</th>\n",
              "      <td>Pang B., Lee L., Vaithyanathan S.</td>\n",
              "      <td>8644537200;7404389769;6603253116;</td>\n",
              "      <td>Thumbs up? Sentiment Classification using Machine Learning Techniques</td>\n",
              "      <td>2002</td>\n",
              "      <td>Proceedings of the 2002 Conference on Empirical Methods in Natural Language Processing, EMNLP 2002</td>\n",
              "      <td>NaN</td>\n",
              "      <td>NaN</td>\n",
              "      <td>NaN</td>\n",
              "      <td>79</td>\n",
              "      <td>86</td>\n",
              "      <td>...</td>\n",
              "      <td>NaN</td>\n",
              "      <td>NaN</td>\n",
              "      <td>NaN</td>\n",
              "      <td>English</td>\n",
              "      <td>Proc. Conf. Empir. Methods Nat. Lang. Process., EMNLP</td>\n",
              "      <td>Conference Paper</td>\n",
              "      <td>Final</td>\n",
              "      <td>NaN</td>\n",
              "      <td>Scopus</td>\n",
              "      <td>2-s2.0-85141803251</td>\n",
              "    </tr>\n",
              "    <tr>\n",
              "      <th>4</th>\n",
              "      <td>Collobert R., Weston J., Bottou L., Karlen M., Kavukcuoglu K., Kuksa P.</td>\n",
              "      <td>14064641400;8865128200;6701721644;25651854400;25646533000;57221708009;</td>\n",
              "      <td>Natural language processing (almost) from scratch</td>\n",
              "      <td>2011</td>\n",
              "      <td>Journal of Machine Learning Research</td>\n",
              "      <td>12</td>\n",
              "      <td>NaN</td>\n",
              "      <td>NaN</td>\n",
              "      <td>2493</td>\n",
              "      <td>2537</td>\n",
              "      <td>...</td>\n",
              "      <td>NaN</td>\n",
              "      <td>NaN</td>\n",
              "      <td>NaN</td>\n",
              "      <td>English</td>\n",
              "      <td>J. Mach. Learn. Res.</td>\n",
              "      <td>Article</td>\n",
              "      <td>Final</td>\n",
              "      <td>NaN</td>\n",
              "      <td>Scopus</td>\n",
              "      <td>2-s2.0-80053558787</td>\n",
              "    </tr>\n",
              "  </tbody>\n",
              "</table>\n",
              "<p>5 rows × 54 columns</p>\n",
              "</div>\n",
              "      <button class=\"colab-df-convert\" onclick=\"convertToInteractive('df-5aba5da3-05f1-4c8e-8722-0ba4660e2605')\"\n",
              "              title=\"Convert this dataframe to an interactive table.\"\n",
              "              style=\"display:none;\">\n",
              "        \n",
              "  <svg xmlns=\"http://www.w3.org/2000/svg\" height=\"24px\"viewBox=\"0 0 24 24\"\n",
              "       width=\"24px\">\n",
              "    <path d=\"M0 0h24v24H0V0z\" fill=\"none\"/>\n",
              "    <path d=\"M18.56 5.44l.94 2.06.94-2.06 2.06-.94-2.06-.94-.94-2.06-.94 2.06-2.06.94zm-11 1L8.5 8.5l.94-2.06 2.06-.94-2.06-.94L8.5 2.5l-.94 2.06-2.06.94zm10 10l.94 2.06.94-2.06 2.06-.94-2.06-.94-.94-2.06-.94 2.06-2.06.94z\"/><path d=\"M17.41 7.96l-1.37-1.37c-.4-.4-.92-.59-1.43-.59-.52 0-1.04.2-1.43.59L10.3 9.45l-7.72 7.72c-.78.78-.78 2.05 0 2.83L4 21.41c.39.39.9.59 1.41.59.51 0 1.02-.2 1.41-.59l7.78-7.78 2.81-2.81c.8-.78.8-2.07 0-2.86zM5.41 20L4 18.59l7.72-7.72 1.47 1.35L5.41 20z\"/>\n",
              "  </svg>\n",
              "      </button>\n",
              "      \n",
              "  <style>\n",
              "    .colab-df-container {\n",
              "      display:flex;\n",
              "      flex-wrap:wrap;\n",
              "      gap: 12px;\n",
              "    }\n",
              "\n",
              "    .colab-df-convert {\n",
              "      background-color: #E8F0FE;\n",
              "      border: none;\n",
              "      border-radius: 50%;\n",
              "      cursor: pointer;\n",
              "      display: none;\n",
              "      fill: #1967D2;\n",
              "      height: 32px;\n",
              "      padding: 0 0 0 0;\n",
              "      width: 32px;\n",
              "    }\n",
              "\n",
              "    .colab-df-convert:hover {\n",
              "      background-color: #E2EBFA;\n",
              "      box-shadow: 0px 1px 2px rgba(60, 64, 67, 0.3), 0px 1px 3px 1px rgba(60, 64, 67, 0.15);\n",
              "      fill: #174EA6;\n",
              "    }\n",
              "\n",
              "    [theme=dark] .colab-df-convert {\n",
              "      background-color: #3B4455;\n",
              "      fill: #D2E3FC;\n",
              "    }\n",
              "\n",
              "    [theme=dark] .colab-df-convert:hover {\n",
              "      background-color: #434B5C;\n",
              "      box-shadow: 0px 1px 3px 1px rgba(0, 0, 0, 0.15);\n",
              "      filter: drop-shadow(0px 1px 2px rgba(0, 0, 0, 0.3));\n",
              "      fill: #FFFFFF;\n",
              "    }\n",
              "  </style>\n",
              "\n",
              "      <script>\n",
              "        const buttonEl =\n",
              "          document.querySelector('#df-5aba5da3-05f1-4c8e-8722-0ba4660e2605 button.colab-df-convert');\n",
              "        buttonEl.style.display =\n",
              "          google.colab.kernel.accessAllowed ? 'block' : 'none';\n",
              "\n",
              "        async function convertToInteractive(key) {\n",
              "          const element = document.querySelector('#df-5aba5da3-05f1-4c8e-8722-0ba4660e2605');\n",
              "          const dataTable =\n",
              "            await google.colab.kernel.invokeFunction('convertToInteractive',\n",
              "                                                     [key], {});\n",
              "          if (!dataTable) return;\n",
              "\n",
              "          const docLinkHtml = 'Like what you see? Visit the ' +\n",
              "            '<a target=\"_blank\" href=https://colab.research.google.com/notebooks/data_table.ipynb>data table notebook</a>'\n",
              "            + ' to learn more about interactive tables.';\n",
              "          element.innerHTML = '';\n",
              "          dataTable['output_type'] = 'display_data';\n",
              "          await google.colab.output.renderOutput(dataTable, element);\n",
              "          const docLink = document.createElement('div');\n",
              "          docLink.innerHTML = docLinkHtml;\n",
              "          element.appendChild(docLink);\n",
              "        }\n",
              "      </script>\n",
              "    </div>\n",
              "  </div>\n",
              "  "
            ]
          },
          "metadata": {},
          "execution_count": 4
        }
      ]
    },
    {
      "cell_type": "code",
      "source": [
        "# Extracting columns to be included in the database\n",
        "df_clean = df[['Authors', 'Title', 'Abstract']]"
      ],
      "metadata": {
        "id": "YXAAqeIUx0xL"
      },
      "execution_count": 5,
      "outputs": []
    },
    {
      "cell_type": "code",
      "source": [
        "# Examining the DataFrame\n",
        "df_clean.info()"
      ],
      "metadata": {
        "colab": {
          "base_uri": "https://localhost:8080/"
        },
        "id": "BM2KJcwQM7WP",
        "outputId": "ce6c520e-f2f7-4a04-f713-0b186f3c278d"
      },
      "execution_count": 6,
      "outputs": [
        {
          "output_type": "stream",
          "name": "stdout",
          "text": [
            "<class 'pandas.core.frame.DataFrame'>\n",
            "RangeIndex: 2000 entries, 0 to 1999\n",
            "Data columns (total 3 columns):\n",
            " #   Column    Non-Null Count  Dtype \n",
            "---  ------    --------------  ----- \n",
            " 0   Authors   2000 non-null   object\n",
            " 1   Title     2000 non-null   object\n",
            " 2   Abstract  2000 non-null   object\n",
            "dtypes: object(3)\n",
            "memory usage: 47.0+ KB\n"
          ]
        }
      ]
    },
    {
      "cell_type": "code",
      "source": [
        "# Converting columns from objects to strings\n",
        "df_clean['Authors'] = df_clean['Authors'].astype(str)\n",
        "df_clean['Title'] = df_clean['Title'].astype(str)\n",
        "df_clean['Abstract'] = df_clean['Abstract'].astype(str)"
      ],
      "metadata": {
        "colab": {
          "base_uri": "https://localhost:8080/"
        },
        "id": "HYMF9rK6Lo8O",
        "outputId": "8c2f9459-0355-4e3b-fc67-4f5a812c1f18"
      },
      "execution_count": 7,
      "outputs": [
        {
          "output_type": "stream",
          "name": "stderr",
          "text": [
            "<ipython-input-7-031c1f83abfd>:2: SettingWithCopyWarning: \n",
            "A value is trying to be set on a copy of a slice from a DataFrame.\n",
            "Try using .loc[row_indexer,col_indexer] = value instead\n",
            "\n",
            "See the caveats in the documentation: https://pandas.pydata.org/pandas-docs/stable/user_guide/indexing.html#returning-a-view-versus-a-copy\n",
            "  df_clean['Authors'] = df_clean['Authors'].astype(str)\n",
            "<ipython-input-7-031c1f83abfd>:3: SettingWithCopyWarning: \n",
            "A value is trying to be set on a copy of a slice from a DataFrame.\n",
            "Try using .loc[row_indexer,col_indexer] = value instead\n",
            "\n",
            "See the caveats in the documentation: https://pandas.pydata.org/pandas-docs/stable/user_guide/indexing.html#returning-a-view-versus-a-copy\n",
            "  df_clean['Title'] = df_clean['Title'].astype(str)\n",
            "<ipython-input-7-031c1f83abfd>:4: SettingWithCopyWarning: \n",
            "A value is trying to be set on a copy of a slice from a DataFrame.\n",
            "Try using .loc[row_indexer,col_indexer] = value instead\n",
            "\n",
            "See the caveats in the documentation: https://pandas.pydata.org/pandas-docs/stable/user_guide/indexing.html#returning-a-view-versus-a-copy\n",
            "  df_clean['Abstract'] = df_clean['Abstract'].astype(str)\n"
          ]
        }
      ]
    },
    {
      "cell_type": "code",
      "source": [
        "# Re-examining the dataframe\n",
        "df_clean.info()"
      ],
      "metadata": {
        "colab": {
          "base_uri": "https://localhost:8080/"
        },
        "id": "In1qGLC-1Qyr",
        "outputId": "55ad088d-989a-468c-8484-8b27108392e2"
      },
      "execution_count": 8,
      "outputs": [
        {
          "output_type": "stream",
          "name": "stdout",
          "text": [
            "<class 'pandas.core.frame.DataFrame'>\n",
            "RangeIndex: 2000 entries, 0 to 1999\n",
            "Data columns (total 3 columns):\n",
            " #   Column    Non-Null Count  Dtype \n",
            "---  ------    --------------  ----- \n",
            " 0   Authors   2000 non-null   object\n",
            " 1   Title     2000 non-null   object\n",
            " 2   Abstract  2000 non-null   object\n",
            "dtypes: object(3)\n",
            "memory usage: 47.0+ KB\n"
          ]
        }
      ]
    },
    {
      "cell_type": "code",
      "source": [
        "# Creating a connection to the database\n",
        "conn = sqlite3.connect('Scopus.db')\n",
        "\n",
        "# Setting up a cursor (pointer to rows in database)\n",
        "c = conn.cursor()"
      ],
      "metadata": {
        "id": "BEqabAFJL0LK"
      },
      "execution_count": 9,
      "outputs": []
    },
    {
      "cell_type": "code",
      "source": [
        "# Creating a new table for the 'Authors' column\n",
        "create_authors_query = \"\"\"\n",
        "    CREATE TABLE IF NOT EXISTS authors_table (\n",
        "        id INTEGER PRIMARY KEY AUTOINCREMENT,\n",
        "        author TEXT\n",
        "    );\n",
        "\"\"\"\n",
        "conn.execute(create_authors_query)"
      ],
      "metadata": {
        "colab": {
          "base_uri": "https://localhost:8080/"
        },
        "id": "cK6QJAppL20y",
        "outputId": "4fedaca5-8ffc-47ea-f503-8f90333cd583"
      },
      "execution_count": 12,
      "outputs": [
        {
          "output_type": "execute_result",
          "data": {
            "text/plain": [
              "<sqlite3.Cursor at 0x7fa591195490>"
            ]
          },
          "metadata": {},
          "execution_count": 12
        }
      ]
    },
    {
      "cell_type": "code",
      "source": [
        "# Creating a new table for the 'Title' column\n",
        "create_title_query = \"\"\"\n",
        "    CREATE TABLE IF NOT EXISTS title_table (\n",
        "        id INTEGER PRIMARY KEY AUTOINCREMENT,\n",
        "        title TEXT,\n",
        "        author TEXT,\n",
        "        FOREIGN KEY (author) REFERENCES authors_table (id)\n",
        "    );\n",
        "\"\"\"\n",
        "conn.execute(create_title_query)"
      ],
      "metadata": {
        "colab": {
          "base_uri": "https://localhost:8080/"
        },
        "id": "G138BnsGL4nk",
        "outputId": "65cb6984-52ce-442e-9faa-928956e797e4"
      },
      "execution_count": 13,
      "outputs": [
        {
          "output_type": "execute_result",
          "data": {
            "text/plain": [
              "<sqlite3.Cursor at 0x7fa6951dbab0>"
            ]
          },
          "metadata": {},
          "execution_count": 13
        }
      ]
    },
    {
      "cell_type": "code",
      "source": [
        "# Creating a new table for the 'Abstract' column\n",
        "create_abstract_query = \"\"\"\n",
        "    CREATE TABLE abstract_table (\n",
        "    id INTEGER PRIMARY KEY,\n",
        "    abstract TEXT,\n",
        "    title TEXT,\n",
        "    summary TEXT,\n",
        "    FOREIGN KEY (title) REFERENCES title_table(title)\n",
        ");\n",
        "\"\"\"\n",
        "conn.execute(create_abstract_query)"
      ],
      "metadata": {
        "id": "pIL2aSZwL-E6",
        "colab": {
          "base_uri": "https://localhost:8080/"
        },
        "outputId": "83073e60-91be-4cab-9316-7e842c585eb3"
      },
      "execution_count": 14,
      "outputs": [
        {
          "output_type": "execute_result",
          "data": {
            "text/plain": [
              "<sqlite3.Cursor at 0x7fa58f790b20>"
            ]
          },
          "metadata": {},
          "execution_count": 14
        }
      ]
    },
    {
      "cell_type": "code",
      "source": [
        "# Inserting data into the 'authors_table'\n",
        "authors = set()\n",
        "for author_str in df_clean['Authors']:\n",
        "    for author in author_str.split(','):\n",
        "        authors.add(author.strip())\n",
        "for author in authors:\n",
        "    insert_author_query = \"INSERT OR IGNORE INTO authors_table (author) VALUES (?);\"\n",
        "    conn.execute(insert_author_query, (author,))\n"
      ],
      "metadata": {
        "id": "vWwocOhT8V9Y"
      },
      "execution_count": 15,
      "outputs": []
    },
    {
      "cell_type": "code",
      "source": [
        "# Inserting data into the 'title_table'\n",
        "select_authors_query = \"SELECT * FROM authors_table;\"\n",
        "authors = {row[1]: row[0] for row in conn.execute(select_authors_query)}\n",
        "for title, author_str in zip(df_clean['Title'], df_clean['Authors']):\n",
        "    title = title.replace(\"'\", \"''\")\n",
        "    insert_title_query = f\"INSERT OR IGNORE INTO title_table (title, author) VALUES ('{title}', '{authors[author_str.split(', ')[0]]}');\"\n",
        "    conn.execute(insert_title_query)"
      ],
      "metadata": {
        "id": "JSUlk02C8eyT"
      },
      "execution_count": 18,
      "outputs": []
    },
    {
      "cell_type": "code",
      "source": [
        "# Inserting data into the 'abstract_table'\n",
        "select_titles_query = \"SELECT * FROM title_table;\"\n",
        "titles = {row[1]: row[0] for row in conn.execute(select_titles_query)}\n",
        "for abstract, title in zip(df_clean['Abstract'], df_clean['Title']):\n",
        "    insert_abstract_query = \"INSERT INTO abstract_table (abstract, title, summary) VALUES (?, ?, '');\"\n",
        "    conn.execute(insert_abstract_query, (abstract, titles[title]))\n"
      ],
      "metadata": {
        "id": "HTV0ojJXFmun"
      },
      "execution_count": 19,
      "outputs": []
    },
    {
      "cell_type": "code",
      "source": [
        "# Selecting data from the tables to determine if JOIN works across the tables as intended\n",
        "select_query = \"\"\"\n",
        "    SELECT authors_table.author, title_table.title, abstract_table.abstract\n",
        "    FROM authors_table\n",
        "    JOIN title_table ON authors_table.id = title_table.author\n",
        "    JOIN abstract_table ON title_table.id = abstract_table.title\n",
        "    LIMIT 5;\n",
        "\"\"\"\n",
        "cursor = conn.execute(select_query)\n",
        "rows = cursor.fetchall()\n",
        "\n",
        "# Print the results\n",
        "for row in rows:\n",
        "    print(row)\n"
      ],
      "metadata": {
        "id": "K9uTR3JhAQ97",
        "colab": {
          "base_uri": "https://localhost:8080/"
        },
        "outputId": "4c7151fd-a76b-46d3-e7fc-ce1c65972739"
      },
      "execution_count": 23,
      "outputs": [
        {
          "output_type": "stream",
          "name": "stdout",
          "text": [
            "('Pennington J.', 'GloVe: Global vectors for word representation', 'Recent methods for learning vector space representations of words have succeeded in capturing fine-grained semantic and syntactic regularities using vector arithmetic, but the origin of these regularities has remained opaque. We analyze and make explicit the model properties needed for such regularities to emerge in word vectors. The result is a new global logbilinear regression model that combines the advantages of the two major model families in the literature: global matrix factorization and local context window methods. Our model efficiently leverages statistical information by training only on the nonzero elements in a word-word cooccurrence matrix, rather than on the entire sparse matrix or on individual context windows in a large corpus. The model produces a vector space with meaningful substructure, as evidenced by its performance of 75% on a recent word analogy task. It also outperforms related models on similarity tasks and named entity recognition. © 2014 Association for Computational Linguistics.')\n",
            "('Devlin J.', 'BERT: Pre-training of deep bidirectional transformers for language understanding', 'We introduce a new language representation model called BERT, which stands for Bidirectional Encoder Representations from Transformers. Unlike recent language representation models (Peters et al., 2018a; Radford et al., 2018), BERT is designed to pre-train deep bidirectional representations from unlabeled text by jointly conditioning on both left and right context in all layers. As a result, the pre-trained BERT model can be fine-tuned with just one additional output layer to create state-of-the-art models for a wide range of tasks, such as question answering and language inference, without substantial task-specific architecture modifications. BERT is conceptually simple and empirically powerful. It obtains new state-of-the-art results on eleven natural language processing tasks, including pushing the GLUE score to 80.5% (7.7% point absolute improvement), MultiNLI accuracy to 86.7% (4.6% absolute improvement), SQuAD v1.1 question answering Test F1 to 93.2 (1.5 point absolute improvement) and SQuAD v2.0 Test F1 to 83.1 (5.1 point absolute improvement). © 2019 Association for Computational Linguistics')\n",
            "('Cho K.', 'Learning phrase representations using RNN encoder-decoder for statistical machine translation', 'In this paper, we propose a novel neural network model called RNN Encoder- Decoder that consists of two recurrent neural networks (RNN). One RNN encodes a sequence of symbols into a fixedlength vector representation, and the other decodes the representation into another sequence of symbols. The encoder and decoder of the proposed model are jointly trained to maximize the conditional probability of a target sequence given a source sequence. The performance of a statistical machine translation system is empirically found to improve by using the conditional probabilities of phrase pairs computed by the RNN Encoder-Decoder as an additional feature in the existing log-linear model. Qualitatively, we show that the proposed model learns a semantically and syntactically meaningful representation of linguistic phrases. © 2014 Association for Computational Linguistics.')\n",
            "('Pang B.', 'Thumbs up? Sentiment Classification using Machine Learning Techniques', 'We consider the problem of classifying documents not by topic, but by overall sentiment, e.g., determining whether a review is positive or negative. Using movie reviews as data, we find that standard machine learning techniques definitively outperform human-produced baselines. However, the three machine learning methods we employed (Naive Bayes, maximum entropy classification, and support vector machines) do not perform as well on sentiment classification as on traditional topic-based categorization. We conclude by examining factors that make the sentiment classification problem more challenging. © 2002 Proceedings of the 2002 Conference on Empirical Methods in Natural Language Processing, EMNLP 2002. All rights reserved.')\n",
            "('Collobert R.', 'Natural language processing (almost) from scratch', 'We propose a unified neural network architecture and learning algorithm that can be applied to various natural language processing tasks including part-of-speech tagging, chunking, named entity recognition, and semantic role labeling. This versatility is achieved by trying to avoid task-specific engineering and therefore disregarding a lot of prior knowledge. Instead of exploiting man-made input features carefully optimized for each task, our system learns internal representations on the basis of vast amounts of mostly unlabeled training data. This work is then used as a basis for building a freely available tagging system with good performance and minimal computational requirements. © 2011 Ronan Collobert, Jason Weston, Léon Bottou, Michael Karlen, Koray Kavukcuoglu and Pavel Kuksa.')\n"
          ]
        }
      ]
    },
    {
      "cell_type": "code",
      "source": [
        "# Printing an overview of the tables\n",
        "# Quering the schema for each table from the `sqlite_master` table\n",
        "c.execute(\"SELECT name, sql FROM sqlite_master WHERE type='table' ORDER BY name\")\n",
        "schemas = c.fetchall()\n",
        "\n",
        "# Printing the schema for each table\n",
        "for schema in schemas:\n",
        "    table_name, table_schema = schema\n",
        "    print(f\"Table: {table_name}\\nSchema:\\n{table_schema}\\n\")"
      ],
      "metadata": {
        "id": "M0P17tZ-MSPX",
        "colab": {
          "base_uri": "https://localhost:8080/"
        },
        "outputId": "f4646b07-fc46-4234-9845-d5fdcedc0d11"
      },
      "execution_count": 24,
      "outputs": [
        {
          "output_type": "stream",
          "name": "stdout",
          "text": [
            "Table: abstract_table\n",
            "Schema:\n",
            "CREATE TABLE abstract_table (\n",
            "    id INTEGER PRIMARY KEY,\n",
            "    abstract TEXT,\n",
            "    title TEXT,\n",
            "    summary TEXT,\n",
            "    FOREIGN KEY (title) REFERENCES title_table(title)\n",
            ")\n",
            "\n",
            "Table: authors_table\n",
            "Schema:\n",
            "CREATE TABLE authors_table (\n",
            "        id INTEGER PRIMARY KEY AUTOINCREMENT,\n",
            "        author TEXT\n",
            "    )\n",
            "\n",
            "Table: sqlite_sequence\n",
            "Schema:\n",
            "CREATE TABLE sqlite_sequence(name,seq)\n",
            "\n",
            "Table: title_table\n",
            "Schema:\n",
            "CREATE TABLE title_table (\n",
            "        id INTEGER PRIMARY KEY AUTOINCREMENT,\n",
            "        title TEXT,\n",
            "        author TEXT,\n",
            "        FOREIGN KEY (author) REFERENCES authors_table (id)\n",
            "    )\n",
            "\n"
          ]
        }
      ]
    },
    {
      "cell_type": "code",
      "source": [
        "# Printing information from the authors_table to test the database\n",
        "c.execute(\"SELECT * FROM authors_table LIMIT 5\")\n",
        "authors_table = c.fetchall()\n",
        "for author_name in authors_table:\n",
        "    print(author_name)"
      ],
      "metadata": {
        "id": "5L4XghiwMUi9",
        "colab": {
          "base_uri": "https://localhost:8080/"
        },
        "outputId": "2abb1a62-f499-4518-e406-ca70298c937a"
      },
      "execution_count": 25,
      "outputs": [
        {
          "output_type": "stream",
          "name": "stdout",
          "text": [
            "(1, 'ElMasry G.')\n",
            "(2, 'Hervás R.')\n",
            "(3, 'Huang W.')\n",
            "(4, 'Copestake A.')\n",
            "(5, 'Sakhavi S.')\n"
          ]
        }
      ]
    },
    {
      "cell_type": "code",
      "source": [
        "# Printing information from the title_table to test the database\n",
        "c.execute(\"SELECT * FROM title_table LIMIT 5\")\n",
        "title_table = c.fetchall()\n",
        "for title in title_table:\n",
        "    print(title)"
      ],
      "metadata": {
        "id": "CrWJ7p1WMXMO",
        "colab": {
          "base_uri": "https://localhost:8080/"
        },
        "outputId": "194f09c8-2d9f-40a3-82e2-0fa980f1514a"
      },
      "execution_count": 26,
      "outputs": [
        {
          "output_type": "stream",
          "name": "stdout",
          "text": [
            "(1, 'GloVe: Global vectors for word representation', '3874')\n",
            "(2, 'BERT: Pre-training of deep bidirectional transformers for language understanding', '384')\n",
            "(3, 'Learning phrase representations using RNN encoder-decoder for statistical machine translation', '3032')\n",
            "(4, 'Thumbs up? Sentiment Classification using Machine Learning Techniques', '4213')\n",
            "(5, 'Natural language processing (almost) from scratch', '844')\n"
          ]
        }
      ]
    },
    {
      "cell_type": "code",
      "source": [
        "# Printing information from the abstract_table to test the database\n",
        "c.execute(\"SELECT * FROM abstract_table LIMIT 5\")\n",
        "abstract_table = c.fetchall()\n",
        "for abstract in abstract_table:\n",
        "    print(abstract)"
      ],
      "metadata": {
        "id": "16p9rJVKMZb4",
        "colab": {
          "base_uri": "https://localhost:8080/"
        },
        "outputId": "d527d695-332d-493f-936a-34119189a87d"
      },
      "execution_count": 27,
      "outputs": [
        {
          "output_type": "stream",
          "name": "stdout",
          "text": [
            "(1, 'Recent methods for learning vector space representations of words have succeeded in capturing fine-grained semantic and syntactic regularities using vector arithmetic, but the origin of these regularities has remained opaque. We analyze and make explicit the model properties needed for such regularities to emerge in word vectors. The result is a new global logbilinear regression model that combines the advantages of the two major model families in the literature: global matrix factorization and local context window methods. Our model efficiently leverages statistical information by training only on the nonzero elements in a word-word cooccurrence matrix, rather than on the entire sparse matrix or on individual context windows in a large corpus. The model produces a vector space with meaningful substructure, as evidenced by its performance of 75% on a recent word analogy task. It also outperforms related models on similarity tasks and named entity recognition. © 2014 Association for Computational Linguistics.', '1', '')\n",
            "(2, 'We introduce a new language representation model called BERT, which stands for Bidirectional Encoder Representations from Transformers. Unlike recent language representation models (Peters et al., 2018a; Radford et al., 2018), BERT is designed to pre-train deep bidirectional representations from unlabeled text by jointly conditioning on both left and right context in all layers. As a result, the pre-trained BERT model can be fine-tuned with just one additional output layer to create state-of-the-art models for a wide range of tasks, such as question answering and language inference, without substantial task-specific architecture modifications. BERT is conceptually simple and empirically powerful. It obtains new state-of-the-art results on eleven natural language processing tasks, including pushing the GLUE score to 80.5% (7.7% point absolute improvement), MultiNLI accuracy to 86.7% (4.6% absolute improvement), SQuAD v1.1 question answering Test F1 to 93.2 (1.5 point absolute improvement) and SQuAD v2.0 Test F1 to 83.1 (5.1 point absolute improvement). © 2019 Association for Computational Linguistics', '2', '')\n",
            "(3, 'In this paper, we propose a novel neural network model called RNN Encoder- Decoder that consists of two recurrent neural networks (RNN). One RNN encodes a sequence of symbols into a fixedlength vector representation, and the other decodes the representation into another sequence of symbols. The encoder and decoder of the proposed model are jointly trained to maximize the conditional probability of a target sequence given a source sequence. The performance of a statistical machine translation system is empirically found to improve by using the conditional probabilities of phrase pairs computed by the RNN Encoder-Decoder as an additional feature in the existing log-linear model. Qualitatively, we show that the proposed model learns a semantically and syntactically meaningful representation of linguistic phrases. © 2014 Association for Computational Linguistics.', '3', '')\n",
            "(4, 'We consider the problem of classifying documents not by topic, but by overall sentiment, e.g., determining whether a review is positive or negative. Using movie reviews as data, we find that standard machine learning techniques definitively outperform human-produced baselines. However, the three machine learning methods we employed (Naive Bayes, maximum entropy classification, and support vector machines) do not perform as well on sentiment classification as on traditional topic-based categorization. We conclude by examining factors that make the sentiment classification problem more challenging. © 2002 Proceedings of the 2002 Conference on Empirical Methods in Natural Language Processing, EMNLP 2002. All rights reserved.', '4', '')\n",
            "(5, 'We propose a unified neural network architecture and learning algorithm that can be applied to various natural language processing tasks including part-of-speech tagging, chunking, named entity recognition, and semantic role labeling. This versatility is achieved by trying to avoid task-specific engineering and therefore disregarding a lot of prior knowledge. Instead of exploiting man-made input features carefully optimized for each task, our system learns internal representations on the basis of vast amounts of mostly unlabeled training data. This work is then used as a basis for building a freely available tagging system with good performance and minimal computational requirements. © 2011 Ronan Collobert, Jason Weston, Léon Bottou, Michael Karlen, Koray Kavukcuoglu and Pavel Kuksa.', '5', '')\n"
          ]
        }
      ]
    },
    {
      "cell_type": "markdown",
      "metadata": {
        "id": "0falMMadvxTq"
      },
      "source": [
        "# Summarization Pipeline using SQLite"
      ]
    },
    {
      "cell_type": "code",
      "execution_count": 28,
      "metadata": {
        "id": "x7XjnDCrsuLV",
        "colab": {
          "base_uri": "https://localhost:8080/",
          "height": 361,
          "referenced_widgets": [
            "87c105a1ee284b7bb51ef424ed5ed1d6",
            "74bec341c5b747eba2c105a46f7827cc",
            "3240036450114e56be1e4c5869d660d6",
            "bac311f39c7e497a8f0e8a5946f6e253",
            "138f196b37a84798a1a39484e505cff4",
            "13b80767b5914cea962865d744ad6494",
            "0e04fa640b6a47d6bf539c28098dfef3",
            "34910d774cf0445da6a57a5620701d34",
            "79e32531132244a0b9b6118a44a5b971",
            "e6493aec595f41bd97c947e591985f0c",
            "e019bdd252514760934ccc28f48fcaad",
            "27a8c29b80554c429538b54546547154",
            "e0b261a555d742888f5ac686bdb4204f",
            "815370724d314dbd92f16c845b28da92",
            "5aa6df6a56534335aa52dd3bb3654f8f",
            "f66462e12ce6427281f125bf645a7b96",
            "9b84848dbd2a434db5cf9667c3572e9e",
            "ad36fe6f35a34c24981fdc4b17d43418",
            "254b4b19751c457b8ed399a31b7938dc",
            "51cae2da1d5d42c1a85ebf7d67d07369",
            "a31ace867aeb44f9b2571e1a2b13938a",
            "cfa89ab1dd2e41d3b80503e2bad374fd",
            "9cd3c3a51e2a4f1fbf65636c8fcd5755",
            "059a783934df42aab9a910938afc8129",
            "4a58f33c4f6c4fe4b5c060aa91733457",
            "9a19f9d93079482f9d999a87b3e56daa",
            "ab9829e182ca46eb88777e26907dbdb0",
            "a45a5741be4b48b18d05e54689a62610",
            "29c8d78a567e4ec6941e37cc11803d7d",
            "cd028eb972844140a61fa4884fee11e7",
            "020521ec571b4e7582357a52785f0753",
            "88ad9e31598044ffb7193ca79d96a5e2",
            "6c32059dfeed474ab9c050c41781fcb8",
            "6e60b34ca59d449e978cffb63337d3e5",
            "5e5e1421a9fe479ca35d05a09dd35f3a",
            "1ec028f8ef534200bd7f0d275edffb63",
            "96373102ae714e219a5ac145ad38c292",
            "2e63a7a747a74a29a916d9f35ffc0671",
            "cb8d8287b35f4dff883ed39b21a05a0d",
            "6e9efabce0c245648e051ff05273d3a5",
            "72f0e8f087fd46e4a1aeff7cfe58ea18",
            "29e747ff25714f37b39ece3a415f4df6",
            "08e6a78ed6a345a0873d302f2e121855",
            "3e262bc92f324ff3b601ffa19ea25923",
            "af79821be8814bf6b24a0264ecef839d",
            "cb756c586d044948b7419fc6cf75b2fa",
            "24f29c2001c344fe850889d04dccce44",
            "bc0679c02ceb49968339e09e502bd22a",
            "44d567414e8e4416b7ae86ad1ad2b070",
            "a873da615c5544fcb41a91cb1a153a59",
            "2d0919a4469442a0ae3fafa207b86ef8",
            "a6d2407d679e40f7bdf019d871d4e59e",
            "f82a9ae69fd442e396a243a9498477bb",
            "926530794ebf4651af293c9cd56a85dd",
            "94d1f322e30b41a788c44d1916c0e589"
          ]
        },
        "outputId": "7b0b5e15-9c8d-4d78-9f71-a1aa8c39df5f"
      },
      "outputs": [
        {
          "output_type": "display_data",
          "data": {
            "text/plain": [
              "Downloading (…)lve/main/config.json:   0%|          | 0.00/1.21k [00:00<?, ?B/s]"
            ],
            "application/vnd.jupyter.widget-view+json": {
              "version_major": 2,
              "version_minor": 0,
              "model_id": "87c105a1ee284b7bb51ef424ed5ed1d6"
            }
          },
          "metadata": {}
        },
        {
          "output_type": "display_data",
          "data": {
            "text/plain": [
              "Downloading tf_model.h5:   0%|          | 0.00/892M [00:00<?, ?B/s]"
            ],
            "application/vnd.jupyter.widget-view+json": {
              "version_major": 2,
              "version_minor": 0,
              "model_id": "27a8c29b80554c429538b54546547154"
            }
          },
          "metadata": {}
        },
        {
          "output_type": "stream",
          "name": "stderr",
          "text": [
            "All model checkpoint layers were used when initializing TFT5ForConditionalGeneration.\n",
            "\n",
            "All the layers of TFT5ForConditionalGeneration were initialized from the model checkpoint at t5-base.\n",
            "If your task is similar to the task the model of the checkpoint was trained on, you can already use TFT5ForConditionalGeneration for predictions without further training.\n"
          ]
        },
        {
          "output_type": "display_data",
          "data": {
            "text/plain": [
              "Downloading (…)neration_config.json:   0%|          | 0.00/147 [00:00<?, ?B/s]"
            ],
            "application/vnd.jupyter.widget-view+json": {
              "version_major": 2,
              "version_minor": 0,
              "model_id": "9cd3c3a51e2a4f1fbf65636c8fcd5755"
            }
          },
          "metadata": {}
        },
        {
          "output_type": "display_data",
          "data": {
            "text/plain": [
              "Downloading (…)ve/main/spiece.model:   0%|          | 0.00/792k [00:00<?, ?B/s]"
            ],
            "application/vnd.jupyter.widget-view+json": {
              "version_major": 2,
              "version_minor": 0,
              "model_id": "6e60b34ca59d449e978cffb63337d3e5"
            }
          },
          "metadata": {}
        },
        {
          "output_type": "display_data",
          "data": {
            "text/plain": [
              "Downloading (…)/main/tokenizer.json:   0%|          | 0.00/1.39M [00:00<?, ?B/s]"
            ],
            "application/vnd.jupyter.widget-view+json": {
              "version_major": 2,
              "version_minor": 0,
              "model_id": "af79821be8814bf6b24a0264ecef839d"
            }
          },
          "metadata": {}
        },
        {
          "output_type": "stream",
          "name": "stderr",
          "text": [
            "/usr/local/lib/python3.9/dist-packages/transformers/models/t5/tokenization_t5_fast.py:155: FutureWarning: This tokenizer was incorrectly instantiated with a model max length of 512 which will be corrected in Transformers v5.\n",
            "For now, this behavior is kept to avoid breaking backwards compatibility when padding/encoding with `truncation is True`.\n",
            "- Be aware that you SHOULD NOT rely on t5-base automatically truncating your input to 512 when padding/encoding.\n",
            "- If you want to encode/pad to sequences longer than 512 you can either instantiate this tokenizer with `model_max_length` or pass `max_length` when encoding/padding.\n",
            "- To avoid this warning, please instantiate this tokenizer with `model_max_length` set to your preferred value.\n",
            "  warnings.warn(\n"
          ]
        }
      ],
      "source": [
        "# Loading a pre-trained text-summarization model from HuggingFace Transformers\n",
        "summarizer = pipeline('summarization', model=\"t5-base\", tokenizer=\"t5-base\", framework=\"tf\")"
      ]
    },
    {
      "cell_type": "code",
      "execution_count": 29,
      "metadata": {
        "id": "4unW87qFx8EV"
      },
      "outputs": [],
      "source": [
        "# Extracting abstracts for summarization\n",
        "abstracts = conn.execute('SELECT abstract FROM abstract_table limit 10')"
      ]
    },
    {
      "cell_type": "code",
      "execution_count": 30,
      "metadata": {
        "id": "Fomc32lTs6Wh",
        "colab": {
          "base_uri": "https://localhost:8080/"
        },
        "outputId": "345c8a27-a7ac-4d28-be15-b9d377edbf40"
      },
      "outputs": [
        {
          "output_type": "stream",
          "name": "stderr",
          "text": [
            "/usr/local/lib/python3.9/dist-packages/transformers/generation/tf_utils.py:745: UserWarning: You have modified the pretrained model configuration to control generation. This is a deprecated strategy to control generation and will be removed soon, in a future version. Please use a generation configuration file (see https://huggingface.co/docs/transformers/main_classes/text_generation)\n",
            "  warnings.warn(\n"
          ]
        }
      ],
      "source": [
        "# Iterating over the abstracts and updating the summary for each one\n",
        "for i, row in enumerate(abstracts):\n",
        "    # Extracting the text of the current abstract\n",
        "    abstract = row[0]\n",
        "    \n",
        "    # Summarizing the abstract using the pre-trained summarizer\n",
        "    summary = summarizer(abstract, max_length=50, min_length=0, do_sample=False)[0]['summary_text']\n",
        "    \n",
        "    # Updating the 'summary' column in the abstract_table with the summary of the current abstract\n",
        "    conn.execute('UPDATE abstract_table SET summary = ? WHERE rowid = ?', (summary, i+1))\n",
        "    \n",
        "# Commit the changes to the database\n",
        "conn.commit()"
      ]
    },
    {
      "cell_type": "code",
      "execution_count": 31,
      "metadata": {
        "id": "BRz3jMbYvO_I"
      },
      "outputs": [],
      "source": [
        "# Define the SQL query\n",
        "query = 'SELECT * FROM abstract_table LIMIT 10'\n",
        "\n",
        "# Execute the query and convert the result to a DataFrame\n",
        "df_summed = pd.read_sql_query(query, conn)"
      ]
    },
    {
      "cell_type": "code",
      "execution_count": 32,
      "metadata": {
        "id": "N6XefZQkTVRY",
        "colab": {
          "base_uri": "https://localhost:8080/",
          "height": 132
        },
        "outputId": "64f0a367-5cf6-4c95-87d7-8bcaefbebe2a"
      },
      "outputs": [
        {
          "output_type": "execute_result",
          "data": {
            "text/plain": [
              "'Recent methods for learning vector space representations of words have succeeded in capturing fine-grained semantic and syntactic regularities using vector arithmetic, but the origin of these regularities has remained opaque. We analyze and make explicit the model properties needed for such regularities to emerge in word vectors. The result is a new global logbilinear regression model that combines the advantages of the two major model families in the literature: global matrix factorization and local context window methods. Our model efficiently leverages statistical information by training only on the nonzero elements in a word-word cooccurrence matrix, rather than on the entire sparse matrix or on individual context windows in a large corpus. The model produces a vector space with meaningful substructure, as evidenced by its performance of 75% on a recent word analogy task. It also outperforms related models on similarity tasks and named entity recognition. © 2014 Association for Computational Linguistics.'"
            ],
            "application/vnd.google.colaboratory.intrinsic+json": {
              "type": "string"
            }
          },
          "metadata": {},
          "execution_count": 32
        }
      ],
      "source": [
        "# Examining the first abstract\n",
        "df_summed['abstract'][0]"
      ]
    },
    {
      "cell_type": "code",
      "execution_count": 33,
      "metadata": {
        "id": "VXi3QRNoTWx9",
        "colab": {
          "base_uri": "https://localhost:8080/",
          "height": 50
        },
        "outputId": "2961762b-6ca8-493d-fe20-8940dd05af0b"
      },
      "outputs": [
        {
          "output_type": "execute_result",
          "data": {
            "text/plain": [
              "'a new global logbilinear regression model is developed . it combines the advantages of global matrix factorization and local context window methods . the model produces a vector space with meaningful substructure .'"
            ],
            "application/vnd.google.colaboratory.intrinsic+json": {
              "type": "string"
            }
          },
          "metadata": {},
          "execution_count": 33
        }
      ],
      "source": [
        "# Examining the summarization of the first abstract\n",
        "df_summed['summary'][0]"
      ]
    },
    {
      "cell_type": "markdown",
      "source": [
        "Based on above, we determine that the model summarizes the abstract to a satisfying extent."
      ],
      "metadata": {
        "id": "uadSJUolea58"
      }
    },
    {
      "cell_type": "markdown",
      "metadata": {
        "id": "njQND0oKdqaF"
      },
      "source": [
        "# Grad.io"
      ]
    },
    {
      "cell_type": "markdown",
      "metadata": {
        "id": "Y3U0MZTfkGJe"
      },
      "source": [
        "## Generate a summary of a title available in our Scopus Database"
      ]
    },
    {
      "cell_type": "markdown",
      "source": [
        "Unfortunately, there is an issue with the Grad.io interface, which causes the output to fail when submitting a Title from the dropdown menu. However, the code functions without the interface, hence we suspect the issue is related to the dropdown function in Grad.io.\n",
        "\n",
        "The code is therefore presented with examples below for proof-of-concept, followed by the Grad.io interface design."
      ],
      "metadata": {
        "id": "jIuXyX2NelSR"
      }
    },
    {
      "cell_type": "code",
      "source": [
        "# Loading a pre-trained text-summarization model from HuggingFace Transformers\n",
        "summarizer = pipeline('summarization', model=\"t5-base\", tokenizer=\"t5-base\", framework=\"tf\")\n",
        "\n",
        "# Connecting to the SQLite database\n",
        "conn = sqlite3.connect('Scopus.db')\n",
        "\n",
        "# Defining the dropdown options\n",
        "c = conn.cursor()\n",
        "c.execute(\"SELECT DISTINCT title FROM title_table\")\n",
        "dropdown_options = [row[0] for row in c.fetchall()]\n",
        "\n",
        "# Defining the function for summarization\n",
        "def summary(selected_option):\n",
        "    c.execute(\"SELECT abstract FROM abstract_table WHERE id = (SELECT id FROM title_table WHERE title = ?)\", (selected_option,))\n",
        "    abstract = c.fetchone()[0]\n",
        "    summary = summarizer(abstract, max_length=50, min_length=0, do_sample=False)\n",
        "    return summary[0]['summary_text']"
      ],
      "metadata": {
        "id": "0ZxxEEghfWsO",
        "colab": {
          "base_uri": "https://localhost:8080/"
        },
        "outputId": "fa363a38-2802-4848-95ef-50e78951d38c"
      },
      "execution_count": 34,
      "outputs": [
        {
          "output_type": "stream",
          "name": "stderr",
          "text": [
            "All model checkpoint layers were used when initializing TFT5ForConditionalGeneration.\n",
            "\n",
            "All the layers of TFT5ForConditionalGeneration were initialized from the model checkpoint at t5-base.\n",
            "If your task is similar to the task the model of the checkpoint was trained on, you can already use TFT5ForConditionalGeneration for predictions without further training.\n",
            "/usr/local/lib/python3.9/dist-packages/transformers/models/t5/tokenization_t5_fast.py:155: FutureWarning: This tokenizer was incorrectly instantiated with a model max length of 512 which will be corrected in Transformers v5.\n",
            "For now, this behavior is kept to avoid breaking backwards compatibility when padding/encoding with `truncation is True`.\n",
            "- Be aware that you SHOULD NOT rely on t5-base automatically truncating your input to 512 when padding/encoding.\n",
            "- If you want to encode/pad to sequences longer than 512 you can either instantiate this tokenizer with `model_max_length` or pass `max_length` when encoding/padding.\n",
            "- To avoid this warning, please instantiate this tokenizer with `model_max_length` set to your preferred value.\n",
            "  warnings.warn(\n"
          ]
        }
      ]
    },
    {
      "cell_type": "code",
      "source": [
        "# Printing the first three titles for proof-of-concept purposes\n",
        "print(dropdown_options[0])\n",
        "print(dropdown_options[1])\n",
        "print(dropdown_options[2])"
      ],
      "metadata": {
        "id": "XIXGezEvfldR",
        "colab": {
          "base_uri": "https://localhost:8080/"
        },
        "outputId": "f5933543-87da-4acd-9809-fad00265e07f"
      },
      "execution_count": 35,
      "outputs": [
        {
          "output_type": "stream",
          "name": "stdout",
          "text": [
            "GloVe: Global vectors for word representation\n",
            "BERT: Pre-training of deep bidirectional transformers for language understanding\n",
            "Learning phrase representations using RNN encoder-decoder for statistical machine translation\n"
          ]
        }
      ]
    },
    {
      "cell_type": "code",
      "source": [
        "# Printing the first three abstracts for proof-of-concept purposes\n",
        "c.execute(\"SELECT * FROM abstract_table LIMIT 3\")\n",
        "abstract_table = c.fetchall()\n",
        "for abstract in abstract_table:\n",
        "    print(abstract)"
      ],
      "metadata": {
        "id": "AgLX8_x3fsn-",
        "colab": {
          "base_uri": "https://localhost:8080/"
        },
        "outputId": "a6da41ad-7fab-415f-f78e-c35e41067d73"
      },
      "execution_count": 36,
      "outputs": [
        {
          "output_type": "stream",
          "name": "stdout",
          "text": [
            "(1, 'Recent methods for learning vector space representations of words have succeeded in capturing fine-grained semantic and syntactic regularities using vector arithmetic, but the origin of these regularities has remained opaque. We analyze and make explicit the model properties needed for such regularities to emerge in word vectors. The result is a new global logbilinear regression model that combines the advantages of the two major model families in the literature: global matrix factorization and local context window methods. Our model efficiently leverages statistical information by training only on the nonzero elements in a word-word cooccurrence matrix, rather than on the entire sparse matrix or on individual context windows in a large corpus. The model produces a vector space with meaningful substructure, as evidenced by its performance of 75% on a recent word analogy task. It also outperforms related models on similarity tasks and named entity recognition. © 2014 Association for Computational Linguistics.', '1', 'a new global logbilinear regression model is developed . it combines the advantages of global matrix factorization and local context window methods . the model produces a vector space with meaningful substructure .')\n",
            "(2, 'We introduce a new language representation model called BERT, which stands for Bidirectional Encoder Representations from Transformers. Unlike recent language representation models (Peters et al., 2018a; Radford et al., 2018), BERT is designed to pre-train deep bidirectional representations from unlabeled text by jointly conditioning on both left and right context in all layers. As a result, the pre-trained BERT model can be fine-tuned with just one additional output layer to create state-of-the-art models for a wide range of tasks, such as question answering and language inference, without substantial task-specific architecture modifications. BERT is conceptually simple and empirically powerful. It obtains new state-of-the-art results on eleven natural language processing tasks, including pushing the GLUE score to 80.5% (7.7% point absolute improvement), MultiNLI accuracy to 86.7% (4.6% absolute improvement), SQuAD v1.1 question answering Test F1 to 93.2 (1.5 point absolute improvement) and SQuAD v2.0 Test F1 to 83.1 (5.1 point absolute improvement). © 2019 Association for Computational Linguistics', '2', 'a new language representation model is called BERT, which stands for Bidirectional Encoder Representations from Transformers . the pre-trained model can be fine-tuned with just one additional output layer .')\n",
            "(3, 'In this paper, we propose a novel neural network model called RNN Encoder- Decoder that consists of two recurrent neural networks (RNN). One RNN encodes a sequence of symbols into a fixedlength vector representation, and the other decodes the representation into another sequence of symbols. The encoder and decoder of the proposed model are jointly trained to maximize the conditional probability of a target sequence given a source sequence. The performance of a statistical machine translation system is empirically found to improve by using the conditional probabilities of phrase pairs computed by the RNN Encoder-Decoder as an additional feature in the existing log-linear model. Qualitatively, we show that the proposed model learns a semantically and syntactically meaningful representation of linguistic phrases. © 2014 Association for Computational Linguistics.', '3', 'the proposed model consists of two recurrent neural networks . one encodes a sequence of symbols into a fixedlength vector representation . the other decodes the representation into another sequence .')\n"
          ]
        }
      ]
    },
    {
      "cell_type": "code",
      "source": [
        "# Printing the summarization of the first three abstract for proof-of-concept purposes\n",
        "print(summary(dropdown_options[0]))\n",
        "print(summary(dropdown_options[1]))\n",
        "print(summary(dropdown_options[2]))"
      ],
      "metadata": {
        "id": "bW_87Zo6fldS",
        "colab": {
          "base_uri": "https://localhost:8080/"
        },
        "outputId": "ebee5e8a-136b-4016-d8c7-7386d03c1466"
      },
      "execution_count": 37,
      "outputs": [
        {
          "output_type": "stream",
          "name": "stderr",
          "text": [
            "/usr/local/lib/python3.9/dist-packages/transformers/generation/tf_utils.py:745: UserWarning: You have modified the pretrained model configuration to control generation. This is a deprecated strategy to control generation and will be removed soon, in a future version. Please use a generation configuration file (see https://huggingface.co/docs/transformers/main_classes/text_generation)\n",
            "  warnings.warn(\n"
          ]
        },
        {
          "output_type": "stream",
          "name": "stdout",
          "text": [
            "a new global logbilinear regression model is developed . it combines the advantages of global matrix factorization and local context window methods . the model produces a vector space with meaningful substructure .\n",
            "a new language representation model is called BERT, which stands for Bidirectional Encoder Representations from Transformers . the pre-trained model can be fine-tuned with just one additional output layer .\n",
            "the proposed model consists of two recurrent neural networks . one encodes a sequence of symbols into a fixedlength vector representation . the other decodes the representation into another sequence .\n"
          ]
        }
      ]
    },
    {
      "cell_type": "code",
      "source": [
        "# Unfortunately, this part of the code fails when submitting a title from the dropdown menu. We suspect the issue is related to the Grad.io dropdown function.\n",
        "\n",
        "# Creating the Gradio interface\n",
        "demo = gr.Interface(\n",
        "    title=\"Generate a summary of a title available in our Scopus Database\",\n",
        "    fn=summary,\n",
        "    inputs=gr.inputs.Dropdown(choices=dropdown_options, type=\"value\", label=\"Select a Title from Scopus\"),\n",
        "    outputs=gr.outputs.Textbox(label=\"Generated Summary\"),\n",
        ")\n",
        "\n",
        "# Launching the interface\n",
        "demo.launch()\n"
      ],
      "metadata": {
        "id": "AHYq6Yew9RXM"
      },
      "execution_count": null,
      "outputs": []
    },
    {
      "cell_type": "code",
      "source": [
        "# Below is the full code for the Grad.io application\n",
        "\n",
        "# Loading a pre-trained text-summarization model from HuggingFace Transformers\n",
        "summarizer = pipeline('summarization', model=\"t5-base\", tokenizer=\"t5-base\", framework=\"tf\")\n",
        "\n",
        "# Connecting to the SQLite database\n",
        "conn = sqlite3.connect('Scopus.db')\n",
        "\n",
        "# Defining the dropdown options\n",
        "c = conn.cursor()\n",
        "c.execute(\"SELECT DISTINCT title FROM title_table\")\n",
        "dropdown_options = [row[0] for row in c.fetchall()]\n",
        "\n",
        "# Defining the function for summarization\n",
        "def summary(selected_option):\n",
        "    c.execute(\"SELECT abstract FROM abstract_table WHERE id = (SELECT id FROM title_table WHERE title = ?)\", (selected_option,))\n",
        "    abstract = c.fetchone()[0]\n",
        "    summary = summarizer(abstract, max_length=50, min_length=0, do_sample=False)\n",
        "    return summary[0]['summary_text']\n",
        "\n",
        "# Creating the Gradio interface\n",
        "demo = gr.Interface(\n",
        "    title=\"Generate a summary of a title available in our Scopus Database\",\n",
        "    fn=summary,\n",
        "    inputs=gr.inputs.Dropdown(choices=dropdown_options, type=\"value\", label=\"Select a Title from Scopus\"),\n",
        "    outputs=gr.outputs.Textbox(label=\"Generated Summary\"),\n",
        ")\n",
        "\n",
        "# Launching the interface\n",
        "demo.launch()"
      ],
      "metadata": {
        "id": "0BlwCBSajuS-"
      },
      "execution_count": null,
      "outputs": []
    },
    {
      "cell_type": "markdown",
      "metadata": {
        "id": "3tpT500aj7-b"
      },
      "source": [
        "## Generate a summary of your own abstract/abstracts not available in our Scopus Database"
      ]
    },
    {
      "cell_type": "markdown",
      "source": [
        "Note that this interface is not connected to the Scopus database, since the input is user-defined."
      ],
      "metadata": {
        "id": "sfVb-N-VhCmy"
      }
    },
    {
      "cell_type": "code",
      "execution_count": null,
      "metadata": {
        "id": "jrm4fFSdgVbE"
      },
      "outputs": [],
      "source": [
        "# Loading a pre-trained text-summarization model from HuggingFace Transformers\n",
        "summarizer = pipeline('summarization', model=\"t5-base\", tokenizer=\"t5-base\", framework=\"tf\")\n",
        "\n",
        "# Defining the function for summarization\n",
        "def summary(abstract):\n",
        "    summary = summarizer(abstract, max_length=50, min_length=0, do_sample=False)\n",
        "    return summary[0]['summary_text']\n",
        "\n",
        "# Defining examples\n",
        "examples = [\n",
        "    [\"Recent methods for learning vector space representations of words have succeeded in capturing fine-grained semantic and syntactic regularities using vector arithmetic, but the origin of these regularities has remained opaque. We analyze and make explicit the model properties needed for such regularities to emerge in word vectors. The result is a new global logbilinear regression model that combines the advantages of the two major model families in the literature: global matrix factorization and local context window methods. Our model efficiently leverages statistical information by training only on the nonzero elements in a word-word cooccurrence matrix, rather than on the entire sparse matrix or on individual context windows in a large corpus. The model produces a vector space with meaningful substructure, as evidenced by its performance of 75% on a recent word analogy task. It also outperforms related models on similarity tasks and named entity recognition. © 2014 Association for Computational Linguistics.\"],\n",
        "    [\"We introduce a new language representation model called BERT, which stands for Bidirectional Encoder Representations from Transformers. Unlike recent language representation models (Peters et al., 2018a; Radford et al., 2018), BERT is designed to pre-train deep bidirectional representations from unlabeled text by jointly conditioning on both left and right context in all layers. As a result, the pre-trained BERT model can be fine-tuned with just one additional output layer to create state-of-the-art models for a wide range of tasks, such as question answering and language inference, without substantial task-specific architecture modifications. BERT is conceptually simple and empirically powerful. It obtains new state-of-the-art results on eleven natural language processing tasks, including pushing the GLUE score to 80.5% (7.7% point absolute improvement), MultiNLI accuracy to 86.7% (4.6% absolute improvement), SQuAD v1.1 question answering Test F1 to 93.2 (1.5 point absolute improvement) and SQuAD v2.0 Test F1 to 83.1 (5.1 point absolute improvement). © 2019 Association for Computational Linguistics\"],\n",
        "    [\"In this paper, we propose a novel neural network model called RNN Encoder- Decoder that consists of two recurrent neural networks (RNN). One RNN encodes a sequence of symbols into a fixedlength vector representation, and the other decodes the representation into another sequence of symbols. The encoder and decoder of the proposed model are jointly trained to maximize the conditional probability of a target sequence given a source sequence. The performance of a statistical machine translation system is empirically found to improve by using the conditional probabilities of phrase pairs computed by the RNN Encoder-Decoder as an additional feature in the existing log-linear model. Qualitatively, we show that the proposed model learns a semantically and syntactically meaningful representation of linguistic phrases. © 2014 Association for Computational Linguistics.\"],\n",
        "]\n",
        "\n",
        "# Creating the Gradio interface\n",
        "demo = gr.Interface(\n",
        "    title=\"Generate a summary of your own abstract/abstracts not available in our Scopus Database\",\n",
        "    fn=summary,\n",
        "    inputs=gr.inputs.Textbox(lines=5, label=\"Input Abstract\"),\n",
        "    outputs=gr.outputs.Textbox(label=\"Generated Summary\"),\n",
        "    examples=examples\n",
        ")\n",
        "\n",
        "# Launching the interface\n",
        "demo.launch(share=True)"
      ]
    },
    {
      "cell_type": "markdown",
      "source": [
        "# Closing the Database Connection"
      ],
      "metadata": {
        "id": "RHnLwin5yvSf"
      }
    },
    {
      "cell_type": "code",
      "source": [
        "conn.close()"
      ],
      "metadata": {
        "id": "x_Bs4fzUyy4e"
      },
      "execution_count": null,
      "outputs": []
    }
  ]
}